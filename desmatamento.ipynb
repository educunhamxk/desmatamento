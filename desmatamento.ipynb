{
  "cells": [
    {
      "cell_type": "markdown",
      "metadata": {
        "id": "jI7jeOpU4EyB"
      },
      "source": [
        "O objetivo é analisar os dados de incremento de desmatamento da Amazônia Legal a partir de 2009, comparar os incrementos entre os diferentes anos e governos e ao final fazer uma projeção de como os números serão no governo Lula e como seriam caso tivessémos mais um mandato de Bolsonaro."
      ]
    },
    {
      "cell_type": "markdown",
      "metadata": {
        "id": "qfrUlHQ43xDc"
      },
      "source": [
        "Dados obtidos em: http://terrabrasilis.dpi.inpe.br/app/dashboard/deforestation/biomes/legal_amazon/increments"
      ]
    },
    {
      "cell_type": "code",
      "execution_count": 2,
      "metadata": {
        "colab": {
          "base_uri": "https://localhost:8080/",
          "height": 1000
        },
        "id": "0YrUCHMcj9CA",
        "outputId": "821cabdb-4f29-4664-dd9a-43a351791ab3"
      },
      "outputs": [
        {
          "output_type": "stream",
          "name": "stdout",
          "text": [
            "Found existing installation: matplotlib 3.7.1\n",
            "Uninstalling matplotlib-3.7.1:\n",
            "  Successfully uninstalled matplotlib-3.7.1\n",
            "Found existing installation: pandas 1.5.3\n",
            "Uninstalling pandas-1.5.3:\n",
            "  Successfully uninstalled pandas-1.5.3\n",
            "\u001b[33mWARNING: Skipping streamlit as it is not installed.\u001b[0m\u001b[33m\n",
            "\u001b[0mFound existing installation: lightgbm 3.3.5\n",
            "Uninstalling lightgbm-3.3.5:\n",
            "  Successfully uninstalled lightgbm-3.3.5\n",
            "Found existing installation: numpy 1.22.4\n",
            "Uninstalling numpy-1.22.4:\n",
            "  Successfully uninstalled numpy-1.22.4\n",
            "Found existing installation: numba 0.56.4\n",
            "Uninstalling numba-0.56.4:\n",
            "  Successfully uninstalled numba-0.56.4\n",
            "\u001b[33mWARNING: Skipping pycaret as it is not installed.\u001b[0m\u001b[33m\n",
            "\u001b[0mFound existing installation: scikit-learn 1.2.2\n",
            "Uninstalling scikit-learn-1.2.2:\n",
            "  Successfully uninstalled scikit-learn-1.2.2\n",
            "Found existing installation: xgboost 1.7.5\n",
            "Uninstalling xgboost-1.7.5:\n",
            "  Successfully uninstalled xgboost-1.7.5\n",
            "\u001b[33mWARNING: Skipping scikit-learn as it is not installed.\u001b[0m\u001b[33m\n",
            "\u001b[0mLooking in indexes: https://pypi.org/simple, https://us-python.pkg.dev/colab-wheels/public/simple/\n",
            "Collecting matplotlib==3.3.4\n",
            "  Downloading matplotlib-3.3.4.tar.gz (37.9 MB)\n",
            "\u001b[2K     \u001b[90m━━━━━━━━━━━━━━━━━━━━━━━━━━━━━━━━━━━━━━━━\u001b[0m \u001b[32m37.9/37.9 MB\u001b[0m \u001b[31m25.2 MB/s\u001b[0m eta \u001b[36m0:00:00\u001b[0m\n",
            "\u001b[?25h  Preparing metadata (setup.py) ... \u001b[?25l\u001b[?25hdone\n",
            "Requirement already satisfied: cycler>=0.10 in /usr/local/lib/python3.10/dist-packages (from matplotlib==3.3.4) (0.11.0)\n",
            "Requirement already satisfied: kiwisolver>=1.0.1 in /usr/local/lib/python3.10/dist-packages (from matplotlib==3.3.4) (1.4.4)\n",
            "Collecting numpy>=1.15 (from matplotlib==3.3.4)\n",
            "  Using cached numpy-1.24.3-cp310-cp310-manylinux_2_17_x86_64.manylinux2014_x86_64.whl (17.3 MB)\n",
            "Requirement already satisfied: pillow>=6.2.0 in /usr/local/lib/python3.10/dist-packages (from matplotlib==3.3.4) (8.4.0)\n",
            "Requirement already satisfied: pyparsing!=2.0.4,!=2.1.2,!=2.1.6,>=2.0.3 in /usr/local/lib/python3.10/dist-packages (from matplotlib==3.3.4) (3.0.9)\n",
            "Requirement already satisfied: python-dateutil>=2.1 in /usr/local/lib/python3.10/dist-packages (from matplotlib==3.3.4) (2.8.2)\n",
            "Requirement already satisfied: six>=1.5 in /usr/local/lib/python3.10/dist-packages (from python-dateutil>=2.1->matplotlib==3.3.4) (1.16.0)\n",
            "Building wheels for collected packages: matplotlib\n",
            "  Building wheel for matplotlib (setup.py) ... \u001b[?25l\u001b[?25hdone\n",
            "  Created wheel for matplotlib: filename=matplotlib-3.3.4-cp310-cp310-linux_x86_64.whl size=11774648 sha256=5d776a220a125430a8fa6730ca82636104a560ad74b8223617942de060dba385\n",
            "  Stored in directory: /root/.cache/pip/wheels/38/c6/49/eaba6d234887d98d9c85185e2a90bd7bb77934e85eefaf317e\n",
            "Successfully built matplotlib\n",
            "Installing collected packages: numpy, matplotlib\n",
            "\u001b[31mERROR: pip's dependency resolver does not currently take into account all the packages that are installed. This behaviour is the source of the following dependency conflicts.\n",
            "altair 4.2.2 requires pandas>=0.18, which is not installed.\n",
            "arviz 0.15.1 requires pandas>=1.3.0, which is not installed.\n",
            "cmdstanpy 1.1.0 requires pandas, which is not installed.\n",
            "cufflinks 0.17.3 requires pandas>=0.19.2, which is not installed.\n",
            "datascience 0.17.6 requires pandas, which is not installed.\n",
            "db-dtypes 1.1.1 requires pandas>=0.24.2, which is not installed.\n",
            "dopamine-rl 4.0.6 requires pandas>=0.24.2, which is not installed.\n",
            "fastai 2.7.12 requires pandas, which is not installed.\n",
            "fastai 2.7.12 requires scikit-learn, which is not installed.\n",
            "holoviews 1.15.4 requires pandas>=0.20.0, which is not installed.\n",
            "imbalanced-learn 0.10.1 requires scikit-learn>=1.0.2, which is not installed.\n",
            "librosa 0.10.0.post2 requires numba>=0.51.0, which is not installed.\n",
            "librosa 0.10.0.post2 requires scikit-learn>=0.20.0, which is not installed.\n",
            "mizani 0.8.1 requires pandas>=1.3.5, which is not installed.\n",
            "mlxtend 0.14.0 requires pandas>=0.17.1, which is not installed.\n",
            "mlxtend 0.14.0 requires scikit-learn>=0.18, which is not installed.\n",
            "pandas-gbq 0.17.9 requires pandas>=0.24.2, which is not installed.\n",
            "plotnine 0.10.1 requires pandas>=1.3.5, which is not installed.\n",
            "prophet 1.1.3 requires pandas>=1.0.4, which is not installed.\n",
            "pymc 5.1.2 requires pandas>=0.24.0, which is not installed.\n",
            "qudida 0.0.4 requires scikit-learn>=0.19.1, which is not installed.\n",
            "seaborn 0.12.2 requires pandas>=0.25, which is not installed.\n",
            "sklearn-pandas 2.2.0 requires pandas>=1.1.4, which is not installed.\n",
            "sklearn-pandas 2.2.0 requires scikit-learn>=0.23.0, which is not installed.\n",
            "statsmodels 0.13.5 requires pandas>=0.25, which is not installed.\n",
            "xarray 2022.12.0 requires pandas>=1.3, which is not installed.\n",
            "yellowbrick 1.5 requires scikit-learn>=1.0.0, which is not installed.\n",
            "yfinance 0.2.18 requires pandas>=1.3.0, which is not installed.\n",
            "mizani 0.8.1 requires matplotlib>=3.5.0, but you have matplotlib 3.3.4 which is incompatible.\n",
            "plotnine 0.10.1 requires matplotlib>=3.5.0, but you have matplotlib 3.3.4 which is incompatible.\n",
            "tensorflow 2.12.0 requires numpy<1.24,>=1.22, but you have numpy 1.24.3 which is incompatible.\u001b[0m\u001b[31m\n",
            "\u001b[0mSuccessfully installed matplotlib-3.3.4 numpy-1.24.3\n"
          ]
        },
        {
          "output_type": "display_data",
          "data": {
            "application/vnd.colab-display-data+json": {
              "pip_warning": {
                "packages": [
                  "matplotlib",
                  "mpl_toolkits",
                  "numpy"
                ]
              }
            }
          },
          "metadata": {}
        },
        {
          "output_type": "stream",
          "name": "stdout",
          "text": [
            "Looking in indexes: https://pypi.org/simple, https://us-python.pkg.dev/colab-wheels/public/simple/\n",
            "Collecting pandas==1.3.3\n",
            "  Downloading pandas-1.3.3-cp310-cp310-manylinux_2_17_x86_64.manylinux2014_x86_64.whl (11.5 MB)\n",
            "\u001b[2K     \u001b[90m━━━━━━━━━━━━━━━━━━━━━━━━━━━━━━━━━━━━━━━━\u001b[0m \u001b[32m11.5/11.5 MB\u001b[0m \u001b[31m85.0 MB/s\u001b[0m eta \u001b[36m0:00:00\u001b[0m\n",
            "\u001b[?25hRequirement already satisfied: numpy>=1.17.3 in /usr/local/lib/python3.10/dist-packages (from pandas==1.3.3) (1.24.3)\n",
            "Requirement already satisfied: python-dateutil>=2.7.3 in /usr/local/lib/python3.10/dist-packages (from pandas==1.3.3) (2.8.2)\n",
            "Requirement already satisfied: pytz>=2017.3 in /usr/local/lib/python3.10/dist-packages (from pandas==1.3.3) (2022.7.1)\n",
            "Requirement already satisfied: six>=1.5 in /usr/local/lib/python3.10/dist-packages (from python-dateutil>=2.7.3->pandas==1.3.3) (1.16.0)\n",
            "Installing collected packages: pandas\n",
            "\u001b[31mERROR: pip's dependency resolver does not currently take into account all the packages that are installed. This behaviour is the source of the following dependency conflicts.\n",
            "fastai 2.7.12 requires scikit-learn, which is not installed.\n",
            "mlxtend 0.14.0 requires scikit-learn>=0.18, which is not installed.\n",
            "sklearn-pandas 2.2.0 requires scikit-learn>=0.23.0, which is not installed.\n",
            "google-colab 1.0.0 requires pandas==1.5.3, but you have pandas 1.3.3 which is incompatible.\n",
            "mizani 0.8.1 requires matplotlib>=3.5.0, but you have matplotlib 3.3.4 which is incompatible.\n",
            "mizani 0.8.1 requires pandas>=1.3.5, but you have pandas 1.3.3 which is incompatible.\n",
            "plotnine 0.10.1 requires matplotlib>=3.5.0, but you have matplotlib 3.3.4 which is incompatible.\n",
            "plotnine 0.10.1 requires pandas>=1.3.5, but you have pandas 1.3.3 which is incompatible.\u001b[0m\u001b[31m\n",
            "\u001b[0mSuccessfully installed pandas-1.3.3\n"
          ]
        },
        {
          "output_type": "display_data",
          "data": {
            "application/vnd.colab-display-data+json": {
              "pip_warning": {
                "packages": [
                  "pandas"
                ]
              }
            }
          },
          "metadata": {}
        },
        {
          "output_type": "stream",
          "name": "stdout",
          "text": [
            "Looking in indexes: https://pypi.org/simple, https://us-python.pkg.dev/colab-wheels/public/simple/\n",
            "Collecting streamlit==1.19.0\n",
            "  Downloading streamlit-1.19.0-py2.py3-none-any.whl (9.6 MB)\n",
            "\u001b[2K     \u001b[90m━━━━━━━━━━━━━━━━━━━━━━━━━━━━━━━━━━━━━━━━\u001b[0m \u001b[32m9.6/9.6 MB\u001b[0m \u001b[31m60.6 MB/s\u001b[0m eta \u001b[36m0:00:00\u001b[0m\n",
            "\u001b[?25hRequirement already satisfied: altair>=3.2.0 in /usr/local/lib/python3.10/dist-packages (from streamlit==1.19.0) (4.2.2)\n",
            "Collecting blinker>=1.0.0 (from streamlit==1.19.0)\n",
            "  Downloading blinker-1.6.2-py3-none-any.whl (13 kB)\n",
            "Requirement already satisfied: cachetools>=4.0 in /usr/local/lib/python3.10/dist-packages (from streamlit==1.19.0) (5.3.0)\n",
            "Requirement already satisfied: click>=7.0 in /usr/local/lib/python3.10/dist-packages (from streamlit==1.19.0) (8.1.3)\n",
            "Collecting importlib-metadata>=1.4 (from streamlit==1.19.0)\n",
            "  Downloading importlib_metadata-6.6.0-py3-none-any.whl (22 kB)\n",
            "Requirement already satisfied: numpy in /usr/local/lib/python3.10/dist-packages (from streamlit==1.19.0) (1.24.3)\n",
            "Requirement already satisfied: packaging>=14.1 in /usr/local/lib/python3.10/dist-packages (from streamlit==1.19.0) (23.1)\n",
            "Requirement already satisfied: pandas>=0.25 in /usr/local/lib/python3.10/dist-packages (from streamlit==1.19.0) (1.3.3)\n",
            "Requirement already satisfied: pillow>=6.2.0 in /usr/local/lib/python3.10/dist-packages (from streamlit==1.19.0) (8.4.0)\n",
            "Requirement already satisfied: protobuf<4,>=3.12 in /usr/local/lib/python3.10/dist-packages (from streamlit==1.19.0) (3.20.3)\n",
            "Requirement already satisfied: pyarrow>=4.0 in /usr/local/lib/python3.10/dist-packages (from streamlit==1.19.0) (9.0.0)\n",
            "Collecting pympler>=0.9 (from streamlit==1.19.0)\n",
            "  Downloading Pympler-1.0.1-py3-none-any.whl (164 kB)\n",
            "\u001b[2K     \u001b[90m━━━━━━━━━━━━━━━━━━━━━━━━━━━━━━━━━━━━━━\u001b[0m \u001b[32m164.8/164.8 kB\u001b[0m \u001b[31m16.3 MB/s\u001b[0m eta \u001b[36m0:00:00\u001b[0m\n",
            "\u001b[?25hRequirement already satisfied: python-dateutil in /usr/local/lib/python3.10/dist-packages (from streamlit==1.19.0) (2.8.2)\n",
            "Requirement already satisfied: requests>=2.4 in /usr/local/lib/python3.10/dist-packages (from streamlit==1.19.0) (2.27.1)\n",
            "Requirement already satisfied: rich>=10.11.0 in /usr/local/lib/python3.10/dist-packages (from streamlit==1.19.0) (13.3.4)\n",
            "Collecting semver (from streamlit==1.19.0)\n",
            "  Downloading semver-3.0.0-py3-none-any.whl (17 kB)\n",
            "Requirement already satisfied: toml in /usr/local/lib/python3.10/dist-packages (from streamlit==1.19.0) (0.10.2)\n",
            "Requirement already satisfied: typing-extensions>=3.10.0.0 in /usr/local/lib/python3.10/dist-packages (from streamlit==1.19.0) (4.5.0)\n",
            "Requirement already satisfied: tzlocal>=1.1 in /usr/local/lib/python3.10/dist-packages (from streamlit==1.19.0) (4.3)\n",
            "Collecting validators>=0.2 (from streamlit==1.19.0)\n",
            "  Downloading validators-0.20.0.tar.gz (30 kB)\n",
            "  Preparing metadata (setup.py) ... \u001b[?25l\u001b[?25hdone\n",
            "Collecting gitpython!=3.1.19 (from streamlit==1.19.0)\n",
            "  Downloading GitPython-3.1.31-py3-none-any.whl (184 kB)\n",
            "\u001b[2K     \u001b[90m━━━━━━━━━━━━━━━━━━━━━━━━━━━━━━━━━━━━━━\u001b[0m \u001b[32m184.3/184.3 kB\u001b[0m \u001b[31m18.0 MB/s\u001b[0m eta \u001b[36m0:00:00\u001b[0m\n",
            "\u001b[?25hCollecting pydeck>=0.1.dev5 (from streamlit==1.19.0)\n",
            "  Downloading pydeck-0.8.1b0-py2.py3-none-any.whl (4.8 MB)\n",
            "\u001b[2K     \u001b[90m━━━━━━━━━━━━━━━━━━━━━━━━━━━━━━━━━━━━━━━━\u001b[0m \u001b[32m4.8/4.8 MB\u001b[0m \u001b[31m79.8 MB/s\u001b[0m eta \u001b[36m0:00:00\u001b[0m\n",
            "\u001b[?25hRequirement already satisfied: tornado>=6.0.3 in /usr/local/lib/python3.10/dist-packages (from streamlit==1.19.0) (6.3.1)\n",
            "Collecting watchdog (from streamlit==1.19.0)\n",
            "  Downloading watchdog-3.0.0-py3-none-manylinux2014_x86_64.whl (82 kB)\n",
            "\u001b[2K     \u001b[90m━━━━━━━━━━━━━━━━━━━━━━━━━━━━━━━━━━━━━━━━\u001b[0m \u001b[32m82.1/82.1 kB\u001b[0m \u001b[31m7.7 MB/s\u001b[0m eta \u001b[36m0:00:00\u001b[0m\n",
            "\u001b[?25hRequirement already satisfied: entrypoints in /usr/local/lib/python3.10/dist-packages (from altair>=3.2.0->streamlit==1.19.0) (0.4)\n",
            "Requirement already satisfied: jinja2 in /usr/local/lib/python3.10/dist-packages (from altair>=3.2.0->streamlit==1.19.0) (3.1.2)\n",
            "Requirement already satisfied: jsonschema>=3.0 in /usr/local/lib/python3.10/dist-packages (from altair>=3.2.0->streamlit==1.19.0) (4.3.3)\n",
            "Requirement already satisfied: toolz in /usr/local/lib/python3.10/dist-packages (from altair>=3.2.0->streamlit==1.19.0) (0.12.0)\n",
            "Collecting gitdb<5,>=4.0.1 (from gitpython!=3.1.19->streamlit==1.19.0)\n",
            "  Downloading gitdb-4.0.10-py3-none-any.whl (62 kB)\n",
            "\u001b[2K     \u001b[90m━━━━━━━━━━━━━━━━━━━━━━━━━━━━━━━━━━━━━━━━\u001b[0m \u001b[32m62.7/62.7 kB\u001b[0m \u001b[31m6.1 MB/s\u001b[0m eta \u001b[36m0:00:00\u001b[0m\n",
            "\u001b[?25hRequirement already satisfied: zipp>=0.5 in /usr/local/lib/python3.10/dist-packages (from importlib-metadata>=1.4->streamlit==1.19.0) (3.15.0)\n",
            "Requirement already satisfied: pytz>=2017.3 in /usr/local/lib/python3.10/dist-packages (from pandas>=0.25->streamlit==1.19.0) (2022.7.1)\n",
            "Requirement already satisfied: six>=1.5 in /usr/local/lib/python3.10/dist-packages (from python-dateutil->streamlit==1.19.0) (1.16.0)\n",
            "Requirement already satisfied: urllib3<1.27,>=1.21.1 in /usr/local/lib/python3.10/dist-packages (from requests>=2.4->streamlit==1.19.0) (1.26.15)\n",
            "Requirement already satisfied: certifi>=2017.4.17 in /usr/local/lib/python3.10/dist-packages (from requests>=2.4->streamlit==1.19.0) (2022.12.7)\n",
            "Requirement already satisfied: charset-normalizer~=2.0.0 in /usr/local/lib/python3.10/dist-packages (from requests>=2.4->streamlit==1.19.0) (2.0.12)\n",
            "Requirement already satisfied: idna<4,>=2.5 in /usr/local/lib/python3.10/dist-packages (from requests>=2.4->streamlit==1.19.0) (3.4)\n",
            "Requirement already satisfied: markdown-it-py<3.0.0,>=2.2.0 in /usr/local/lib/python3.10/dist-packages (from rich>=10.11.0->streamlit==1.19.0) (2.2.0)\n",
            "Requirement already satisfied: pygments<3.0.0,>=2.13.0 in /usr/local/lib/python3.10/dist-packages (from rich>=10.11.0->streamlit==1.19.0) (2.14.0)\n",
            "Requirement already satisfied: pytz-deprecation-shim in /usr/local/lib/python3.10/dist-packages (from tzlocal>=1.1->streamlit==1.19.0) (0.1.0.post0)\n",
            "Requirement already satisfied: decorator>=3.4.0 in /usr/local/lib/python3.10/dist-packages (from validators>=0.2->streamlit==1.19.0) (4.4.2)\n",
            "Collecting smmap<6,>=3.0.1 (from gitdb<5,>=4.0.1->gitpython!=3.1.19->streamlit==1.19.0)\n",
            "  Downloading smmap-5.0.0-py3-none-any.whl (24 kB)\n",
            "Requirement already satisfied: MarkupSafe>=2.0 in /usr/local/lib/python3.10/dist-packages (from jinja2->altair>=3.2.0->streamlit==1.19.0) (2.1.2)\n",
            "Requirement already satisfied: attrs>=17.4.0 in /usr/local/lib/python3.10/dist-packages (from jsonschema>=3.0->altair>=3.2.0->streamlit==1.19.0) (23.1.0)\n",
            "Requirement already satisfied: pyrsistent!=0.17.0,!=0.17.1,!=0.17.2,>=0.14.0 in /usr/local/lib/python3.10/dist-packages (from jsonschema>=3.0->altair>=3.2.0->streamlit==1.19.0) (0.19.3)\n",
            "Requirement already satisfied: mdurl~=0.1 in /usr/local/lib/python3.10/dist-packages (from markdown-it-py<3.0.0,>=2.2.0->rich>=10.11.0->streamlit==1.19.0) (0.1.2)\n",
            "Requirement already satisfied: tzdata in /usr/local/lib/python3.10/dist-packages (from pytz-deprecation-shim->tzlocal>=1.1->streamlit==1.19.0) (2023.3)\n",
            "Building wheels for collected packages: validators\n",
            "  Building wheel for validators (setup.py) ... \u001b[?25l\u001b[?25hdone\n",
            "  Created wheel for validators: filename=validators-0.20.0-py3-none-any.whl size=19579 sha256=2b5f389702e6b7fe110037a7c621f0febdc8fc2488a6088d7c7bf387f35af311\n",
            "  Stored in directory: /root/.cache/pip/wheels/f2/ed/dd/d3a556ad245ef9dc570c6bcd2f22886d17b0b408dd3bbb9ac3\n",
            "Successfully built validators\n",
            "Installing collected packages: watchdog, validators, smmap, semver, pympler, importlib-metadata, blinker, pydeck, gitdb, gitpython, streamlit\n",
            "Successfully installed blinker-1.6.2 gitdb-4.0.10 gitpython-3.1.31 importlib-metadata-6.6.0 pydeck-0.8.1b0 pympler-1.0.1 semver-3.0.0 smmap-5.0.0 streamlit-1.19.0 validators-0.20.0 watchdog-3.0.0\n",
            "Looking in indexes: https://pypi.org/simple, https://us-python.pkg.dev/colab-wheels/public/simple/\n",
            "Collecting lightgbm==3.2.1\n",
            "  Downloading lightgbm-3.2.1-py3-none-manylinux1_x86_64.whl (2.0 MB)\n",
            "\u001b[2K     \u001b[90m━━━━━━━━━━━━━━━━━━━━━━━━━━━━━━━━━━━━━━━━\u001b[0m \u001b[32m2.0/2.0 MB\u001b[0m \u001b[31m8.2 MB/s\u001b[0m eta \u001b[36m0:00:00\u001b[0m\n",
            "\u001b[?25hRequirement already satisfied: wheel in /usr/local/lib/python3.10/dist-packages (from lightgbm==3.2.1) (0.40.0)\n",
            "Requirement already satisfied: numpy in /usr/local/lib/python3.10/dist-packages (from lightgbm==3.2.1) (1.24.3)\n",
            "Requirement already satisfied: scipy in /usr/local/lib/python3.10/dist-packages (from lightgbm==3.2.1) (1.10.1)\n",
            "Collecting scikit-learn!=0.22.0 (from lightgbm==3.2.1)\n",
            "  Downloading scikit_learn-1.2.2-cp310-cp310-manylinux_2_17_x86_64.manylinux2014_x86_64.whl (9.6 MB)\n",
            "\u001b[2K     \u001b[90m━━━━━━━━━━━━━━━━━━━━━━━━━━━━━━━━━━━━━━━━\u001b[0m \u001b[32m9.6/9.6 MB\u001b[0m \u001b[31m87.4 MB/s\u001b[0m eta \u001b[36m0:00:00\u001b[0m\n",
            "\u001b[?25hRequirement already satisfied: joblib>=1.1.1 in /usr/local/lib/python3.10/dist-packages (from scikit-learn!=0.22.0->lightgbm==3.2.1) (1.2.0)\n",
            "Requirement already satisfied: threadpoolctl>=2.0.0 in /usr/local/lib/python3.10/dist-packages (from scikit-learn!=0.22.0->lightgbm==3.2.1) (3.1.0)\n",
            "Installing collected packages: scikit-learn, lightgbm\n",
            "\u001b[31mERROR: pip's dependency resolver does not currently take into account all the packages that are installed. This behaviour is the source of the following dependency conflicts.\n",
            "librosa 0.10.0.post2 requires numba>=0.51.0, which is not installed.\u001b[0m\u001b[31m\n",
            "\u001b[0mSuccessfully installed lightgbm-3.2.1 scikit-learn-1.2.2\n",
            "Looking in indexes: https://pypi.org/simple, https://us-python.pkg.dev/colab-wheels/public/simple/\n",
            "Collecting numpy==1.19.5\n",
            "  Downloading numpy-1.19.5.zip (7.3 MB)\n",
            "\u001b[2K     \u001b[90m━━━━━━━━━━━━━━━━━━━━━━━━━━━━━━━━━━━━━━━━\u001b[0m \u001b[32m7.3/7.3 MB\u001b[0m \u001b[31m24.6 MB/s\u001b[0m eta \u001b[36m0:00:00\u001b[0m\n",
            "\u001b[?25h  Installing build dependencies ... \u001b[?25l\u001b[?25hdone\n",
            "  Getting requirements to build wheel ... \u001b[?25l\u001b[?25hdone\n",
            "  Preparing metadata (pyproject.toml) ... \u001b[?25l\u001b[?25hdone\n",
            "Building wheels for collected packages: numpy\n",
            "  \u001b[1;31merror\u001b[0m: \u001b[1msubprocess-exited-with-error\u001b[0m\n",
            "  \n",
            "  \u001b[31m×\u001b[0m \u001b[32mBuilding wheel for numpy \u001b[0m\u001b[1;32m(\u001b[0m\u001b[32mpyproject.toml\u001b[0m\u001b[1;32m)\u001b[0m did not run successfully.\n",
            "  \u001b[31m│\u001b[0m exit code: \u001b[1;36m1\u001b[0m\n",
            "  \u001b[31m╰─>\u001b[0m See above for output.\n",
            "  \n",
            "  \u001b[1;35mnote\u001b[0m: This error originates from a subprocess, and is likely not a problem with pip.\n",
            "  Building wheel for numpy (pyproject.toml) ... \u001b[?25l\u001b[?25herror\n",
            "\u001b[31m  ERROR: Failed building wheel for numpy\u001b[0m\u001b[31m\n",
            "\u001b[0mFailed to build numpy\n",
            "\u001b[31mERROR: Could not build wheels for numpy, which is required to install pyproject.toml-based projects\u001b[0m\u001b[31m\n",
            "\u001b[0mLooking in indexes: https://pypi.org/simple, https://us-python.pkg.dev/colab-wheels/public/simple/\n",
            "\u001b[31mERROR: Ignored the following versions that require a different python version: 0.52.0 Requires-Python >=3.6,<3.9; 0.52.0rc3 Requires-Python >=3.6,<3.9; 0.53.0 Requires-Python >=3.6,<3.10; 0.53.0rc1.post1 Requires-Python >=3.6,<3.10; 0.53.0rc2 Requires-Python >=3.6,<3.10; 0.53.0rc3 Requires-Python >=3.6,<3.10; 0.53.1 Requires-Python >=3.6,<3.10; 0.54.0 Requires-Python >=3.7,<3.10; 0.54.0rc2 Requires-Python >=3.7,<3.10; 0.54.0rc3 Requires-Python >=3.7,<3.10; 0.54.1 Requires-Python >=3.7,<3.10\u001b[0m\u001b[31m\n",
            "\u001b[0m\u001b[31mERROR: Could not find a version that satisfies the requirement numba==0.53.1 (from versions: 0.1, 0.2, 0.3, 0.5.0, 0.6.0, 0.7.0, 0.7.1, 0.7.2, 0.8.0, 0.8.1, 0.9.0, 0.10.0, 0.10.1, 0.11.0, 0.12.0, 0.12.1, 0.12.2, 0.13.0, 0.13.2, 0.13.3, 0.13.4, 0.14.0, 0.15.1, 0.16.0, 0.17.0, 0.18.1, 0.18.2, 0.19.1, 0.19.2, 0.20.0, 0.21.0, 0.22.0, 0.22.1, 0.23.0, 0.23.1, 0.24.0, 0.25.0, 0.26.0, 0.27.0, 0.28.1, 0.29.0, 0.30.0, 0.30.1, 0.31.0, 0.32.0, 0.33.0, 0.34.0, 0.35.0, 0.36.1, 0.36.2, 0.37.0, 0.38.0, 0.38.1, 0.39.0, 0.40.0, 0.40.1, 0.41.0, 0.42.0, 0.42.1, 0.43.0, 0.43.1, 0.44.0, 0.44.1, 0.45.0, 0.45.1, 0.46.0, 0.47.0, 0.48.0, 0.49.0, 0.49.1rc1, 0.49.1, 0.50.0rc1, 0.50.0, 0.50.1, 0.51.0rc1, 0.51.0, 0.51.1, 0.51.2, 0.52.0rc2, 0.55.0rc1, 0.55.0, 0.55.1, 0.55.2, 0.56.0rc1, 0.56.0, 0.56.2, 0.56.3, 0.56.4, 0.57.0rc1, 0.57.0)\u001b[0m\u001b[31m\n",
            "\u001b[0m\u001b[31mERROR: No matching distribution found for numba==0.53.1\u001b[0m\u001b[31m\n",
            "\u001b[0mLooking in indexes: https://pypi.org/simple, https://us-python.pkg.dev/colab-wheels/public/simple/\n",
            "Collecting scikit-learn==0.23.2\n",
            "  Downloading scikit-learn-0.23.2.tar.gz (7.2 MB)\n",
            "\u001b[2K     \u001b[90m━━━━━━━━━━━━━━━━━━━━━━━━━━━━━━━━━━━━━━━━\u001b[0m \u001b[32m7.2/7.2 MB\u001b[0m \u001b[31m50.5 MB/s\u001b[0m eta \u001b[36m0:00:00\u001b[0m\n",
            "\u001b[?25h  \u001b[1;31merror\u001b[0m: \u001b[1msubprocess-exited-with-error\u001b[0m\n",
            "  \n",
            "  \u001b[31m×\u001b[0m \u001b[32mpip subprocess to install build dependencies\u001b[0m did not run successfully.\n",
            "  \u001b[31m│\u001b[0m exit code: \u001b[1;36m1\u001b[0m\n",
            "  \u001b[31m╰─>\u001b[0m See above for output.\n",
            "  \n",
            "  \u001b[1;35mnote\u001b[0m: This error originates from a subprocess, and is likely not a problem with pip.\n",
            "  Installing build dependencies ... \u001b[?25l\u001b[?25herror\n",
            "\u001b[1;31merror\u001b[0m: \u001b[1msubprocess-exited-with-error\u001b[0m\n",
            "\n",
            "\u001b[31m×\u001b[0m \u001b[32mpip subprocess to install build dependencies\u001b[0m did not run successfully.\n",
            "\u001b[31m│\u001b[0m exit code: \u001b[1;36m1\u001b[0m\n",
            "\u001b[31m╰─>\u001b[0m See above for output.\n",
            "\n",
            "\u001b[1;35mnote\u001b[0m: This error originates from a subprocess, and is likely not a problem with pip.\n",
            "Looking in indexes: https://pypi.org/simple, https://us-python.pkg.dev/colab-wheels/public/simple/\n",
            "Collecting xgboost==1.7.4\n",
            "  Downloading xgboost-1.7.4-py3-none-manylinux2014_x86_64.whl (193.6 MB)\n",
            "\u001b[2K     \u001b[90m━━━━━━━━━━━━━━━━━━━━━━━━━━━━━━━━━━━━━━━\u001b[0m \u001b[32m193.6/193.6 MB\u001b[0m \u001b[31m5.1 MB/s\u001b[0m eta \u001b[36m0:00:00\u001b[0m\n",
            "\u001b[?25hRequirement already satisfied: numpy in /usr/local/lib/python3.10/dist-packages (from xgboost==1.7.4) (1.24.3)\n",
            "Requirement already satisfied: scipy in /usr/local/lib/python3.10/dist-packages (from xgboost==1.7.4) (1.10.1)\n",
            "Installing collected packages: xgboost\n",
            "Successfully installed xgboost-1.7.4\n",
            "\u001b[31mERROR: Invalid requirement: 'pycaret#==2.3.10'\u001b[0m\u001b[31m\n",
            "\u001b[0m"
          ]
        }
      ],
      "source": [
        "!pip uninstall matplotlib -y\n",
        "!pip uninstall pandas -y\n",
        "!pip uninstall streamlit -y\n",
        "!pip uninstall lightgbm -y\n",
        "!pip uninstall numpy -y\n",
        "!pip uninstall numba -y\n",
        "!pip uninstall pycaret -y\n",
        "!pip uninstall scikit-learn -y\n",
        "!pip uninstall xgboost -y\n",
        "!pip uninstall scikit-learn -y\n",
        "!pip install matplotlib==3.3.4\n",
        "!pip install pandas==1.3.3\n",
        "!pip install streamlit==1.19.0\n",
        "!pip install lightgbm==3.2.1\n",
        "!pip install numpy==1.19.5\n",
        "!pip install numba==0.53.1\n",
        "!pip install scikit-learn==0.23.2\n",
        "!pip install xgboost==1.7.4\n",
        "!pip install pycaret"
      ]
    },
    {
      "cell_type": "code",
      "source": [
        "!pip install pycaret"
      ],
      "metadata": {
        "colab": {
          "base_uri": "https://localhost:8080/",
          "height": 1000
        },
        "id": "ffCiutYHvTmQ",
        "outputId": "1c98fd9c-baa7-45ba-d277-d22b565cd9e1"
      },
      "execution_count": 3,
      "outputs": [
        {
          "output_type": "stream",
          "name": "stdout",
          "text": [
            "Looking in indexes: https://pypi.org/simple, https://us-python.pkg.dev/colab-wheels/public/simple/\n",
            "Collecting pycaret\n",
            "  Downloading pycaret-3.0.2-py3-none-any.whl (483 kB)\n",
            "\u001b[2K     \u001b[90m━━━━━━━━━━━━━━━━━━━━━━━━━━━━━━━━━━━━━━\u001b[0m \u001b[32m483.6/483.6 kB\u001b[0m \u001b[31m14.8 MB/s\u001b[0m eta \u001b[36m0:00:00\u001b[0m\n",
            "\u001b[?25hRequirement already satisfied: ipython>=5.5.0 in /usr/local/lib/python3.10/dist-packages (from pycaret) (7.34.0)\n",
            "Requirement already satisfied: ipywidgets>=7.6.5 in /usr/local/lib/python3.10/dist-packages (from pycaret) (7.7.1)\n",
            "Requirement already satisfied: tqdm>=4.62.0 in /usr/local/lib/python3.10/dist-packages (from pycaret) (4.65.0)\n",
            "Collecting numpy<1.24,>=1.21 (from pycaret)\n",
            "  Downloading numpy-1.23.5-cp310-cp310-manylinux_2_17_x86_64.manylinux2014_x86_64.whl (17.1 MB)\n",
            "\u001b[2K     \u001b[90m━━━━━━━━━━━━━━━━━━━━━━━━━━━━━━━━━━━━━━━━\u001b[0m \u001b[32m17.1/17.1 MB\u001b[0m \u001b[31m43.3 MB/s\u001b[0m eta \u001b[36m0:00:00\u001b[0m\n",
            "\u001b[?25hRequirement already satisfied: pandas<2.0.0,>=1.3.0 in /usr/local/lib/python3.10/dist-packages (from pycaret) (1.3.3)\n",
            "Requirement already satisfied: jinja2>=1.2 in /usr/local/lib/python3.10/dist-packages (from pycaret) (3.1.2)\n",
            "Requirement already satisfied: scipy<2.0.0 in /usr/local/lib/python3.10/dist-packages (from pycaret) (1.10.1)\n",
            "Requirement already satisfied: joblib>=1.2.0 in /usr/local/lib/python3.10/dist-packages (from pycaret) (1.2.0)\n",
            "Requirement already satisfied: scikit-learn>=1.0 in /usr/local/lib/python3.10/dist-packages (from pycaret) (1.2.2)\n",
            "Collecting pyod>=1.0.8 (from pycaret)\n",
            "  Downloading pyod-1.0.9.tar.gz (149 kB)\n",
            "\u001b[2K     \u001b[90m━━━━━━━━━━━━━━━━━━━━━━━━━━━━━━━━━━━━━━\u001b[0m \u001b[32m150.0/150.0 kB\u001b[0m \u001b[31m10.1 MB/s\u001b[0m eta \u001b[36m0:00:00\u001b[0m\n",
            "\u001b[?25h  Preparing metadata (setup.py) ... \u001b[?25l\u001b[?25hdone\n",
            "Requirement already satisfied: imbalanced-learn>=0.8.1 in /usr/local/lib/python3.10/dist-packages (from pycaret) (0.10.1)\n",
            "Collecting category-encoders>=2.4.0 (from pycaret)\n",
            "  Downloading category_encoders-2.6.1-py2.py3-none-any.whl (81 kB)\n",
            "\u001b[2K     \u001b[90m━━━━━━━━━━━━━━━━━━━━━━━━━━━━━━━━━━━━━━━━\u001b[0m \u001b[32m81.9/81.9 kB\u001b[0m \u001b[31m7.0 MB/s\u001b[0m eta \u001b[36m0:00:00\u001b[0m\n",
            "\u001b[?25hRequirement already satisfied: lightgbm>=3.0.0 in /usr/local/lib/python3.10/dist-packages (from pycaret) (3.2.1)\n",
            "Collecting numba>=0.55.0 (from pycaret)\n",
            "  Downloading numba-0.57.0-cp310-cp310-manylinux2014_x86_64.manylinux_2_17_x86_64.whl (3.6 MB)\n",
            "\u001b[2K     \u001b[90m━━━━━━━━━━━━━━━━━━━━━━━━━━━━━━━━━━━━━━━━\u001b[0m \u001b[32m3.6/3.6 MB\u001b[0m \u001b[31m39.7 MB/s\u001b[0m eta \u001b[36m0:00:00\u001b[0m\n",
            "\u001b[?25hRequirement already satisfied: requests>=2.27.1 in /usr/local/lib/python3.10/dist-packages (from pycaret) (2.27.1)\n",
            "Requirement already satisfied: psutil>=5.9.0 in /usr/local/lib/python3.10/dist-packages (from pycaret) (5.9.5)\n",
            "Requirement already satisfied: markupsafe>=2.0.1 in /usr/local/lib/python3.10/dist-packages (from pycaret) (2.1.2)\n",
            "Requirement already satisfied: importlib-metadata>=4.12.0 in /usr/local/lib/python3.10/dist-packages (from pycaret) (6.6.0)\n",
            "Requirement already satisfied: nbformat>=4.2.0 in /usr/local/lib/python3.10/dist-packages (from pycaret) (5.8.0)\n",
            "Requirement already satisfied: cloudpickle in /usr/local/lib/python3.10/dist-packages (from pycaret) (2.2.1)\n",
            "Collecting deprecation>=2.1.0 (from pycaret)\n",
            "  Downloading deprecation-2.1.0-py2.py3-none-any.whl (11 kB)\n",
            "Collecting xxhash (from pycaret)\n",
            "  Downloading xxhash-3.2.0-cp310-cp310-manylinux_2_17_x86_64.manylinux2014_x86_64.whl (212 kB)\n",
            "\u001b[2K     \u001b[90m━━━━━━━━━━━━━━━━━━━━━━━━━━━━━━━━━━━━━━\u001b[0m \u001b[32m212.5/212.5 kB\u001b[0m \u001b[31m16.4 MB/s\u001b[0m eta \u001b[36m0:00:00\u001b[0m\n",
            "\u001b[?25hRequirement already satisfied: matplotlib>=3.3.0 in /usr/local/lib/python3.10/dist-packages (from pycaret) (3.3.4)\n",
            "Collecting scikit-plot>=0.3.7 (from pycaret)\n",
            "  Downloading scikit_plot-0.3.7-py3-none-any.whl (33 kB)\n",
            "Requirement already satisfied: yellowbrick>=1.4 in /usr/local/lib/python3.10/dist-packages (from pycaret) (1.5)\n",
            "Requirement already satisfied: plotly>=5.0.0 in /usr/local/lib/python3.10/dist-packages (from pycaret) (5.13.1)\n",
            "Collecting kaleido>=0.2.1 (from pycaret)\n",
            "  Downloading kaleido-0.2.1-py2.py3-none-manylinux1_x86_64.whl (79.9 MB)\n",
            "\u001b[2K     \u001b[90m━━━━━━━━━━━━━━━━━━━━━━━━━━━━━━━━━━━━━━━━\u001b[0m \u001b[32m79.9/79.9 MB\u001b[0m \u001b[31m7.9 MB/s\u001b[0m eta \u001b[36m0:00:00\u001b[0m\n",
            "\u001b[?25hCollecting schemdraw==0.15 (from pycaret)\n",
            "  Downloading schemdraw-0.15-py3-none-any.whl (106 kB)\n",
            "\u001b[2K     \u001b[90m━━━━━━━━━━━━━━━━━━━━━━━━━━━━━━━━━━━━━━━\u001b[0m \u001b[32m106.8/106.8 kB\u001b[0m \u001b[31m4.8 MB/s\u001b[0m eta \u001b[36m0:00:00\u001b[0m\n",
            "\u001b[?25hCollecting plotly-resampler>=0.8.3.1 (from pycaret)\n",
            "  Downloading plotly_resampler-0.8.3.2.tar.gz (46 kB)\n",
            "\u001b[2K     \u001b[90m━━━━━━━━━━━━━━━━━━━━━━━━━━━━━━━━━━━━━━━━\u001b[0m \u001b[32m46.4/46.4 kB\u001b[0m \u001b[31m3.0 MB/s\u001b[0m eta \u001b[36m0:00:00\u001b[0m\n",
            "\u001b[?25h  Installing build dependencies ... \u001b[?25l\u001b[?25hdone\n",
            "  Getting requirements to build wheel ... \u001b[?25l\u001b[?25hdone\n",
            "  Preparing metadata (pyproject.toml) ... \u001b[?25l\u001b[?25hdone\n",
            "Requirement already satisfied: statsmodels>=0.12.1 in /usr/local/lib/python3.10/dist-packages (from pycaret) (0.13.5)\n",
            "Collecting sktime!=0.17.1,<0.17.2,>=0.16.1 (from pycaret)\n",
            "  Downloading sktime-0.17.0-py3-none-any.whl (16.1 MB)\n",
            "\u001b[2K     \u001b[90m━━━━━━━━━━━━━━━━━━━━━━━━━━━━━━━━━━━━━━━━\u001b[0m \u001b[32m16.1/16.1 MB\u001b[0m \u001b[31m65.1 MB/s\u001b[0m eta \u001b[36m0:00:00\u001b[0m\n",
            "\u001b[?25hCollecting tbats>=1.1.3 (from pycaret)\n",
            "  Downloading tbats-1.1.3-py3-none-any.whl (44 kB)\n",
            "\u001b[2K     \u001b[90m━━━━━━━━━━━━━━━━━━━━━━━━━━━━━━━━━━━━━━━━\u001b[0m \u001b[32m44.0/44.0 kB\u001b[0m \u001b[31m4.2 MB/s\u001b[0m eta \u001b[36m0:00:00\u001b[0m\n",
            "\u001b[?25hCollecting pmdarima!=1.8.1,<3.0.0,>=1.8.0 (from pycaret)\n",
            "  Downloading pmdarima-2.0.3-cp310-cp310-manylinux_2_17_x86_64.manylinux2014_x86_64.manylinux_2_28_x86_64.whl (1.8 MB)\n",
            "\u001b[2K     \u001b[90m━━━━━━━━━━━━━━━━━━━━━━━━━━━━━━━━━━━━━━━━\u001b[0m \u001b[32m1.8/1.8 MB\u001b[0m \u001b[31m75.6 MB/s\u001b[0m eta \u001b[36m0:00:00\u001b[0m\n",
            "\u001b[?25hCollecting wurlitzer (from pycaret)\n",
            "  Downloading wurlitzer-3.0.3-py3-none-any.whl (7.3 kB)\n",
            "Requirement already satisfied: patsy>=0.5.1 in /usr/local/lib/python3.10/dist-packages (from category-encoders>=2.4.0->pycaret) (0.5.3)\n",
            "Requirement already satisfied: packaging in /usr/local/lib/python3.10/dist-packages (from deprecation>=2.1.0->pycaret) (23.1)\n",
            "Requirement already satisfied: threadpoolctl>=2.0.0 in /usr/local/lib/python3.10/dist-packages (from imbalanced-learn>=0.8.1->pycaret) (3.1.0)\n",
            "Requirement already satisfied: zipp>=0.5 in /usr/local/lib/python3.10/dist-packages (from importlib-metadata>=4.12.0->pycaret) (3.15.0)\n",
            "Requirement already satisfied: setuptools>=18.5 in /usr/local/lib/python3.10/dist-packages (from ipython>=5.5.0->pycaret) (67.7.2)\n",
            "Collecting jedi>=0.16 (from ipython>=5.5.0->pycaret)\n",
            "  Downloading jedi-0.18.2-py2.py3-none-any.whl (1.6 MB)\n",
            "\u001b[2K     \u001b[90m━━━━━━━━━━━━━━━━━━━━━━━━━━━━━━━━━━━━━━━━\u001b[0m \u001b[32m1.6/1.6 MB\u001b[0m \u001b[31m57.0 MB/s\u001b[0m eta \u001b[36m0:00:00\u001b[0m\n",
            "\u001b[?25hRequirement already satisfied: decorator in /usr/local/lib/python3.10/dist-packages (from ipython>=5.5.0->pycaret) (4.4.2)\n",
            "Requirement already satisfied: pickleshare in /usr/local/lib/python3.10/dist-packages (from ipython>=5.5.0->pycaret) (0.7.5)\n",
            "Requirement already satisfied: traitlets>=4.2 in /usr/local/lib/python3.10/dist-packages (from ipython>=5.5.0->pycaret) (5.7.1)\n",
            "Requirement already satisfied: prompt-toolkit!=3.0.0,!=3.0.1,<3.1.0,>=2.0.0 in /usr/local/lib/python3.10/dist-packages (from ipython>=5.5.0->pycaret) (3.0.38)\n",
            "Requirement already satisfied: pygments in /usr/local/lib/python3.10/dist-packages (from ipython>=5.5.0->pycaret) (2.14.0)\n",
            "Requirement already satisfied: backcall in /usr/local/lib/python3.10/dist-packages (from ipython>=5.5.0->pycaret) (0.2.0)\n",
            "Requirement already satisfied: matplotlib-inline in /usr/local/lib/python3.10/dist-packages (from ipython>=5.5.0->pycaret) (0.1.6)\n",
            "Requirement already satisfied: pexpect>4.3 in /usr/local/lib/python3.10/dist-packages (from ipython>=5.5.0->pycaret) (4.8.0)\n",
            "Requirement already satisfied: ipykernel>=4.5.1 in /usr/local/lib/python3.10/dist-packages (from ipywidgets>=7.6.5->pycaret) (5.5.6)\n",
            "Requirement already satisfied: ipython-genutils~=0.2.0 in /usr/local/lib/python3.10/dist-packages (from ipywidgets>=7.6.5->pycaret) (0.2.0)\n",
            "Requirement already satisfied: widgetsnbextension~=3.6.0 in /usr/local/lib/python3.10/dist-packages (from ipywidgets>=7.6.5->pycaret) (3.6.4)\n",
            "Requirement already satisfied: jupyterlab-widgets>=1.0.0 in /usr/local/lib/python3.10/dist-packages (from ipywidgets>=7.6.5->pycaret) (3.0.7)\n",
            "Requirement already satisfied: wheel in /usr/local/lib/python3.10/dist-packages (from lightgbm>=3.0.0->pycaret) (0.40.0)\n",
            "Requirement already satisfied: cycler>=0.10 in /usr/local/lib/python3.10/dist-packages (from matplotlib>=3.3.0->pycaret) (0.11.0)\n",
            "Requirement already satisfied: kiwisolver>=1.0.1 in /usr/local/lib/python3.10/dist-packages (from matplotlib>=3.3.0->pycaret) (1.4.4)\n",
            "Requirement already satisfied: pillow>=6.2.0 in /usr/local/lib/python3.10/dist-packages (from matplotlib>=3.3.0->pycaret) (8.4.0)\n",
            "Requirement already satisfied: pyparsing!=2.0.4,!=2.1.2,!=2.1.6,>=2.0.3 in /usr/local/lib/python3.10/dist-packages (from matplotlib>=3.3.0->pycaret) (3.0.9)\n",
            "Requirement already satisfied: python-dateutil>=2.1 in /usr/local/lib/python3.10/dist-packages (from matplotlib>=3.3.0->pycaret) (2.8.2)\n",
            "Requirement already satisfied: fastjsonschema in /usr/local/lib/python3.10/dist-packages (from nbformat>=4.2.0->pycaret) (2.16.3)\n",
            "Requirement already satisfied: jsonschema>=2.6 in /usr/local/lib/python3.10/dist-packages (from nbformat>=4.2.0->pycaret) (4.3.3)\n",
            "Requirement already satisfied: jupyter-core in /usr/local/lib/python3.10/dist-packages (from nbformat>=4.2.0->pycaret) (5.3.0)\n",
            "Collecting llvmlite<0.41,>=0.40.0dev0 (from numba>=0.55.0->pycaret)\n",
            "  Downloading llvmlite-0.40.0-cp310-cp310-manylinux_2_17_x86_64.manylinux2014_x86_64.whl (42.1 MB)\n",
            "\u001b[2K     \u001b[90m━━━━━━━━━━━━━━━━━━━━━━━━━━━━━━━━━━━━━━━━\u001b[0m \u001b[32m42.1/42.1 MB\u001b[0m \u001b[31m9.1 MB/s\u001b[0m eta \u001b[36m0:00:00\u001b[0m\n",
            "\u001b[?25hRequirement already satisfied: pytz>=2017.3 in /usr/local/lib/python3.10/dist-packages (from pandas<2.0.0,>=1.3.0->pycaret) (2022.7.1)\n",
            "Requirement already satisfied: tenacity>=6.2.0 in /usr/local/lib/python3.10/dist-packages (from plotly>=5.0.0->pycaret) (8.2.2)\n",
            "Collecting dash<3.0.0,>=2.2.0 (from plotly-resampler>=0.8.3.1->pycaret)\n",
            "  Downloading dash-2.10.2-py3-none-any.whl (10.3 MB)\n",
            "\u001b[2K     \u001b[90m━━━━━━━━━━━━━━━━━━━━━━━━━━━━━━━━━━━━━━━━\u001b[0m \u001b[32m10.3/10.3 MB\u001b[0m \u001b[31m65.2 MB/s\u001b[0m eta \u001b[36m0:00:00\u001b[0m\n",
            "\u001b[?25hCollecting jupyter-dash>=0.4.2 (from plotly-resampler>=0.8.3.1->pycaret)\n",
            "  Downloading jupyter_dash-0.4.2-py3-none-any.whl (23 kB)\n",
            "Collecting orjson<4.0.0,>=3.8.0 (from plotly-resampler>=0.8.3.1->pycaret)\n",
            "  Downloading orjson-3.9.0-cp310-cp310-manylinux_2_17_x86_64.manylinux2014_x86_64.whl (136 kB)\n",
            "\u001b[2K     \u001b[90m━━━━━━━━━━━━━━━━━━━━━━━━━━━━━━━━━━━━━━\u001b[0m \u001b[32m137.0/137.0 kB\u001b[0m \u001b[31m11.5 MB/s\u001b[0m eta \u001b[36m0:00:00\u001b[0m\n",
            "\u001b[?25hCollecting pandas<2.0.0,>=1.3.0 (from pycaret)\n",
            "  Downloading pandas-1.5.3-cp310-cp310-manylinux_2_17_x86_64.manylinux2014_x86_64.whl (12.1 MB)\n",
            "\u001b[2K     \u001b[90m━━━━━━━━━━━━━━━━━━━━━━━━━━━━━━━━━━━━━━━━\u001b[0m \u001b[32m12.1/12.1 MB\u001b[0m \u001b[31m61.6 MB/s\u001b[0m eta \u001b[36m0:00:00\u001b[0m\n",
            "\u001b[?25hCollecting trace-updater>=0.0.8 (from plotly-resampler>=0.8.3.1->pycaret)\n",
            "  Downloading trace_updater-0.0.9.1-py3-none-any.whl (185 kB)\n",
            "\u001b[2K     \u001b[90m━━━━━━━━━━━━━━━━━━━━━━━━━━━━━━━━━━━━━━\u001b[0m \u001b[32m185.2/185.2 kB\u001b[0m \u001b[31m15.7 MB/s\u001b[0m eta \u001b[36m0:00:00\u001b[0m\n",
            "\u001b[?25hRequirement already satisfied: Cython!=0.29.18,!=0.29.31,>=0.29 in /usr/local/lib/python3.10/dist-packages (from pmdarima!=1.8.1,<3.0.0,>=1.8.0->pycaret) (0.29.34)\n",
            "Requirement already satisfied: urllib3 in /usr/local/lib/python3.10/dist-packages (from pmdarima!=1.8.1,<3.0.0,>=1.8.0->pycaret) (1.26.15)\n",
            "Requirement already satisfied: six in /usr/local/lib/python3.10/dist-packages (from pyod>=1.0.8->pycaret) (1.16.0)\n",
            "Requirement already satisfied: certifi>=2017.4.17 in /usr/local/lib/python3.10/dist-packages (from requests>=2.27.1->pycaret) (2022.12.7)\n",
            "Requirement already satisfied: charset-normalizer~=2.0.0 in /usr/local/lib/python3.10/dist-packages (from requests>=2.27.1->pycaret) (2.0.12)\n",
            "Requirement already satisfied: idna<4,>=2.5 in /usr/local/lib/python3.10/dist-packages (from requests>=2.27.1->pycaret) (3.4)\n",
            "Collecting deprecated>=1.2.13 (from sktime!=0.17.1,<0.17.2,>=0.16.1->pycaret)\n",
            "  Downloading Deprecated-1.2.14-py2.py3-none-any.whl (9.6 kB)\n",
            "Requirement already satisfied: Flask<2.3.0,>=1.0.4 in /usr/local/lib/python3.10/dist-packages (from dash<3.0.0,>=2.2.0->plotly-resampler>=0.8.3.1->pycaret) (2.2.4)\n",
            "Collecting Werkzeug<2.3.0 (from dash<3.0.0,>=2.2.0->plotly-resampler>=0.8.3.1->pycaret)\n",
            "  Downloading Werkzeug-2.2.3-py3-none-any.whl (233 kB)\n",
            "\u001b[2K     \u001b[90m━━━━━━━━━━━━━━━━━━━━━━━━━━━━━━━━━━━━━━\u001b[0m \u001b[32m233.6/233.6 kB\u001b[0m \u001b[31m20.5 MB/s\u001b[0m eta \u001b[36m0:00:00\u001b[0m\n",
            "\u001b[?25hCollecting dash-html-components==2.0.0 (from dash<3.0.0,>=2.2.0->plotly-resampler>=0.8.3.1->pycaret)\n",
            "  Downloading dash_html_components-2.0.0-py3-none-any.whl (4.1 kB)\n",
            "Collecting dash-core-components==2.0.0 (from dash<3.0.0,>=2.2.0->plotly-resampler>=0.8.3.1->pycaret)\n",
            "  Downloading dash_core_components-2.0.0-py3-none-any.whl (3.8 kB)\n",
            "Collecting dash-table==5.0.0 (from dash<3.0.0,>=2.2.0->plotly-resampler>=0.8.3.1->pycaret)\n",
            "  Downloading dash_table-5.0.0-py3-none-any.whl (3.9 kB)\n",
            "Requirement already satisfied: wrapt<2,>=1.10 in /usr/local/lib/python3.10/dist-packages (from deprecated>=1.2.13->sktime!=0.17.1,<0.17.2,>=0.16.1->pycaret) (1.14.1)\n",
            "Requirement already satisfied: jupyter-client in /usr/local/lib/python3.10/dist-packages (from ipykernel>=4.5.1->ipywidgets>=7.6.5->pycaret) (6.1.12)\n",
            "Requirement already satisfied: tornado>=4.2 in /usr/local/lib/python3.10/dist-packages (from ipykernel>=4.5.1->ipywidgets>=7.6.5->pycaret) (6.3.1)\n",
            "Requirement already satisfied: parso<0.9.0,>=0.8.0 in /usr/local/lib/python3.10/dist-packages (from jedi>=0.16->ipython>=5.5.0->pycaret) (0.8.3)\n",
            "Requirement already satisfied: attrs>=17.4.0 in /usr/local/lib/python3.10/dist-packages (from jsonschema>=2.6->nbformat>=4.2.0->pycaret) (23.1.0)\n",
            "Requirement already satisfied: pyrsistent!=0.17.0,!=0.17.1,!=0.17.2,>=0.14.0 in /usr/local/lib/python3.10/dist-packages (from jsonschema>=2.6->nbformat>=4.2.0->pycaret) (0.19.3)\n",
            "Collecting retrying (from jupyter-dash>=0.4.2->plotly-resampler>=0.8.3.1->pycaret)\n",
            "  Downloading retrying-1.3.4-py3-none-any.whl (11 kB)\n",
            "Collecting ansi2html (from jupyter-dash>=0.4.2->plotly-resampler>=0.8.3.1->pycaret)\n",
            "  Downloading ansi2html-1.8.0-py3-none-any.whl (16 kB)\n",
            "Requirement already satisfied: nest-asyncio in /usr/local/lib/python3.10/dist-packages (from jupyter-dash>=0.4.2->plotly-resampler>=0.8.3.1->pycaret) (1.5.6)\n",
            "Requirement already satisfied: ptyprocess>=0.5 in /usr/local/lib/python3.10/dist-packages (from pexpect>4.3->ipython>=5.5.0->pycaret) (0.7.0)\n",
            "Requirement already satisfied: wcwidth in /usr/local/lib/python3.10/dist-packages (from prompt-toolkit!=3.0.0,!=3.0.1,<3.1.0,>=2.0.0->ipython>=5.5.0->pycaret) (0.2.6)\n",
            "Requirement already satisfied: notebook>=4.4.1 in /usr/local/lib/python3.10/dist-packages (from widgetsnbextension~=3.6.0->ipywidgets>=7.6.5->pycaret) (6.4.8)\n",
            "Requirement already satisfied: platformdirs>=2.5 in /usr/local/lib/python3.10/dist-packages (from jupyter-core->nbformat>=4.2.0->pycaret) (3.3.0)\n",
            "Requirement already satisfied: itsdangerous>=2.0 in /usr/local/lib/python3.10/dist-packages (from Flask<2.3.0,>=1.0.4->dash<3.0.0,>=2.2.0->plotly-resampler>=0.8.3.1->pycaret) (2.1.2)\n",
            "Requirement already satisfied: click>=8.0 in /usr/local/lib/python3.10/dist-packages (from Flask<2.3.0,>=1.0.4->dash<3.0.0,>=2.2.0->plotly-resampler>=0.8.3.1->pycaret) (8.1.3)\n",
            "Requirement already satisfied: pyzmq>=17 in /usr/local/lib/python3.10/dist-packages (from notebook>=4.4.1->widgetsnbextension~=3.6.0->ipywidgets>=7.6.5->pycaret) (23.2.1)\n",
            "Requirement already satisfied: argon2-cffi in /usr/local/lib/python3.10/dist-packages (from notebook>=4.4.1->widgetsnbextension~=3.6.0->ipywidgets>=7.6.5->pycaret) (21.3.0)\n",
            "Requirement already satisfied: nbconvert in /usr/local/lib/python3.10/dist-packages (from notebook>=4.4.1->widgetsnbextension~=3.6.0->ipywidgets>=7.6.5->pycaret) (6.5.4)\n",
            "Requirement already satisfied: Send2Trash>=1.8.0 in /usr/local/lib/python3.10/dist-packages (from notebook>=4.4.1->widgetsnbextension~=3.6.0->ipywidgets>=7.6.5->pycaret) (1.8.0)\n",
            "Requirement already satisfied: terminado>=0.8.3 in /usr/local/lib/python3.10/dist-packages (from notebook>=4.4.1->widgetsnbextension~=3.6.0->ipywidgets>=7.6.5->pycaret) (0.17.1)\n",
            "Requirement already satisfied: prometheus-client in /usr/local/lib/python3.10/dist-packages (from notebook>=4.4.1->widgetsnbextension~=3.6.0->ipywidgets>=7.6.5->pycaret) (0.16.0)\n",
            "Requirement already satisfied: argon2-cffi-bindings in /usr/local/lib/python3.10/dist-packages (from argon2-cffi->notebook>=4.4.1->widgetsnbextension~=3.6.0->ipywidgets>=7.6.5->pycaret) (21.2.0)\n",
            "Requirement already satisfied: lxml in /usr/local/lib/python3.10/dist-packages (from nbconvert->notebook>=4.4.1->widgetsnbextension~=3.6.0->ipywidgets>=7.6.5->pycaret) (4.9.2)\n",
            "Requirement already satisfied: beautifulsoup4 in /usr/local/lib/python3.10/dist-packages (from nbconvert->notebook>=4.4.1->widgetsnbextension~=3.6.0->ipywidgets>=7.6.5->pycaret) (4.11.2)\n",
            "Requirement already satisfied: bleach in /usr/local/lib/python3.10/dist-packages (from nbconvert->notebook>=4.4.1->widgetsnbextension~=3.6.0->ipywidgets>=7.6.5->pycaret) (6.0.0)\n",
            "Requirement already satisfied: defusedxml in /usr/local/lib/python3.10/dist-packages (from nbconvert->notebook>=4.4.1->widgetsnbextension~=3.6.0->ipywidgets>=7.6.5->pycaret) (0.7.1)\n",
            "Requirement already satisfied: entrypoints>=0.2.2 in /usr/local/lib/python3.10/dist-packages (from nbconvert->notebook>=4.4.1->widgetsnbextension~=3.6.0->ipywidgets>=7.6.5->pycaret) (0.4)\n",
            "Requirement already satisfied: jupyterlab-pygments in /usr/local/lib/python3.10/dist-packages (from nbconvert->notebook>=4.4.1->widgetsnbextension~=3.6.0->ipywidgets>=7.6.5->pycaret) (0.2.2)\n",
            "Requirement already satisfied: mistune<2,>=0.8.1 in /usr/local/lib/python3.10/dist-packages (from nbconvert->notebook>=4.4.1->widgetsnbextension~=3.6.0->ipywidgets>=7.6.5->pycaret) (0.8.4)\n",
            "Requirement already satisfied: nbclient>=0.5.0 in /usr/local/lib/python3.10/dist-packages (from nbconvert->notebook>=4.4.1->widgetsnbextension~=3.6.0->ipywidgets>=7.6.5->pycaret) (0.7.4)\n",
            "Requirement already satisfied: pandocfilters>=1.4.1 in /usr/local/lib/python3.10/dist-packages (from nbconvert->notebook>=4.4.1->widgetsnbextension~=3.6.0->ipywidgets>=7.6.5->pycaret) (1.5.0)\n",
            "Requirement already satisfied: tinycss2 in /usr/local/lib/python3.10/dist-packages (from nbconvert->notebook>=4.4.1->widgetsnbextension~=3.6.0->ipywidgets>=7.6.5->pycaret) (1.2.1)\n",
            "Requirement already satisfied: cffi>=1.0.1 in /usr/local/lib/python3.10/dist-packages (from argon2-cffi-bindings->argon2-cffi->notebook>=4.4.1->widgetsnbextension~=3.6.0->ipywidgets>=7.6.5->pycaret) (1.15.1)\n",
            "Requirement already satisfied: soupsieve>1.2 in /usr/local/lib/python3.10/dist-packages (from beautifulsoup4->nbconvert->notebook>=4.4.1->widgetsnbextension~=3.6.0->ipywidgets>=7.6.5->pycaret) (2.4.1)\n",
            "Requirement already satisfied: webencodings in /usr/local/lib/python3.10/dist-packages (from bleach->nbconvert->notebook>=4.4.1->widgetsnbextension~=3.6.0->ipywidgets>=7.6.5->pycaret) (0.5.1)\n",
            "Requirement already satisfied: pycparser in /usr/local/lib/python3.10/dist-packages (from cffi>=1.0.1->argon2-cffi-bindings->argon2-cffi->notebook>=4.4.1->widgetsnbextension~=3.6.0->ipywidgets>=7.6.5->pycaret) (2.21)\n",
            "Building wheels for collected packages: plotly-resampler, pyod\n",
            "  Building wheel for plotly-resampler (pyproject.toml) ... \u001b[?25l\u001b[?25hdone\n",
            "  Created wheel for plotly-resampler: filename=plotly_resampler-0.8.3.2-cp310-cp310-manylinux_2_31_x86_64.whl size=75237 sha256=c32106276c5f05312f0cfd77713bf2e4860e85de4d7c8ea8d871bf5f62f420b8\n",
            "  Stored in directory: /root/.cache/pip/wheels/a9/19/e2/ec856d98cf9b617511fff0abae1dfed5bf1f6093ce65126b45\n",
            "  Building wheel for pyod (setup.py) ... \u001b[?25l\u001b[?25hdone\n",
            "  Created wheel for pyod: filename=pyod-1.0.9-py3-none-any.whl size=184097 sha256=5e51517a3b7babf288960962b0008f0e73e45143db3d18ebd53f6331a5dbb02c\n",
            "  Stored in directory: /root/.cache/pip/wheels/83/55/6b/552e083cf5509c0afe808b76cf434f1be284d01a112623bd37\n",
            "Successfully built plotly-resampler pyod\n",
            "Installing collected packages: trace-updater, kaleido, dash-table, dash-html-components, dash-core-components, xxhash, wurlitzer, Werkzeug, schemdraw, retrying, orjson, numpy, llvmlite, jedi, deprecation, deprecated, ansi2html, pandas, numba, dash, sktime, scikit-plot, pyod, pmdarima, jupyter-dash, category-encoders, tbats, plotly-resampler, pycaret\n",
            "  Attempting uninstall: Werkzeug\n",
            "    Found existing installation: Werkzeug 2.3.0\n",
            "    Uninstalling Werkzeug-2.3.0:\n",
            "      Successfully uninstalled Werkzeug-2.3.0\n",
            "  Attempting uninstall: numpy\n",
            "    Found existing installation: numpy 1.24.3\n",
            "    Uninstalling numpy-1.24.3:\n",
            "      Successfully uninstalled numpy-1.24.3\n",
            "  Attempting uninstall: llvmlite\n",
            "    Found existing installation: llvmlite 0.39.1\n",
            "    Uninstalling llvmlite-0.39.1:\n",
            "      Successfully uninstalled llvmlite-0.39.1\n",
            "  Attempting uninstall: pandas\n",
            "    Found existing installation: pandas 1.3.3\n",
            "    Uninstalling pandas-1.3.3:\n",
            "      Successfully uninstalled pandas-1.3.3\n",
            "\u001b[31mERROR: pip's dependency resolver does not currently take into account all the packages that are installed. This behaviour is the source of the following dependency conflicts.\n",
            "mizani 0.8.1 requires matplotlib>=3.5.0, but you have matplotlib 3.3.4 which is incompatible.\n",
            "plotnine 0.10.1 requires matplotlib>=3.5.0, but you have matplotlib 3.3.4 which is incompatible.\u001b[0m\u001b[31m\n",
            "\u001b[0mSuccessfully installed Werkzeug-2.2.3 ansi2html-1.8.0 category-encoders-2.6.1 dash-2.10.2 dash-core-components-2.0.0 dash-html-components-2.0.0 dash-table-5.0.0 deprecated-1.2.14 deprecation-2.1.0 jedi-0.18.2 jupyter-dash-0.4.2 kaleido-0.2.1 llvmlite-0.40.0 numba-0.57.0 numpy-1.23.5 orjson-3.9.0 pandas-1.5.3 plotly-resampler-0.8.3.2 pmdarima-2.0.3 pycaret-3.0.2 pyod-1.0.9 retrying-1.3.4 schemdraw-0.15 scikit-plot-0.3.7 sktime-0.17.0 tbats-1.1.3 trace-updater-0.0.9.1 wurlitzer-3.0.3 xxhash-3.2.0\n"
          ]
        },
        {
          "output_type": "display_data",
          "data": {
            "application/vnd.colab-display-data+json": {
              "pip_warning": {
                "packages": [
                  "numpy",
                  "pandas"
                ]
              }
            }
          },
          "metadata": {}
        }
      ]
    },
    {
      "cell_type": "code",
      "execution_count": 1,
      "metadata": {
        "id": "iqwUviz87lQz"
      },
      "outputs": [],
      "source": [
        "import pandas as pd\n",
        "import os \n",
        "import matplotlib.pyplot as plt\n",
        "import pycaret\n",
        "from pycaret.regression import *\n",
        "import numpy as np\n",
        "import seaborn as sns\n",
        "from sklearn.model_selection import train_test_split\n",
        "import statsmodels.api as sm\n",
        "from scipy import stats\n",
        "from statsmodels.graphics.gofplots import qqplot\n",
        "from statsmodels.stats.outliers_influence import variance_inflation_factor \n",
        "from sklearn.metrics import r2_score, mean_squared_error, mean_absolute_error, mean_absolute_percentage_error\n",
        "from sklearn.ensemble import RandomForestRegressor\n",
        "from sklearn.model_selection import RandomizedSearchCV\n",
        "from lightgbm import LGBMRegressor\n",
        "from xgboost import XGBRegressor\n",
        "import requests\n",
        "import numpy as np"
      ]
    },
    {
      "cell_type": "code",
      "execution_count": null,
      "metadata": {
        "id": "rfEnh6DJ4Ckb"
      },
      "outputs": [],
      "source": [
        "df = pd.read_csv(\"terrabrasilis_legal_amazon_04_06_2023,_11_35_11.csv\")"
      ]
    },
    {
      "cell_type": "markdown",
      "metadata": {
        "id": "XKZC6lNl4ZVt"
      },
      "source": [
        "Análises preliminares"
      ]
    },
    {
      "cell_type": "code",
      "execution_count": null,
      "metadata": {
        "id": "1OpBMjzw4eK_"
      },
      "outputs": [],
      "source": [
        "df.info()"
      ]
    },
    {
      "cell_type": "markdown",
      "metadata": {
        "id": "tzayaL8T4hxV"
      },
      "source": [
        "12 mil registros sem valores nulos em 5 variáveis, vamos analisar as variáveis de forma isolada"
      ]
    },
    {
      "cell_type": "code",
      "execution_count": 6,
      "metadata": {
        "colab": {
          "base_uri": "https://localhost:8080/"
        },
        "id": "EdXk6Fim4f-F",
        "outputId": "976849ae-4c79-4fa6-da32-7f61e3faf2de"
      },
      "outputs": [
        {
          "output_type": "execute_result",
          "data": {
            "text/plain": [
              "array([2007, 2008, 2009, 2010, 2011, 2012, 2013, 2014, 2015, 2016, 2017,\n",
              "       2018, 2019, 2020, 2021, 2022])"
            ]
          },
          "metadata": {},
          "execution_count": 6
        }
      ],
      "source": [
        "df['year'].unique()"
      ]
    },
    {
      "cell_type": "code",
      "execution_count": 7,
      "metadata": {
        "colab": {
          "base_uri": "https://localhost:8080/"
        },
        "id": "P5fUeAWg4tvd",
        "outputId": "08b0bb50-6306-4372-c2e6-d40e0fb470fb"
      },
      "outputs": [
        {
          "output_type": "execute_result",
          "data": {
            "text/plain": [
              "2007    773\n",
              "2008    773\n",
              "2009    773\n",
              "2010    773\n",
              "2011    773\n",
              "2012    773\n",
              "2013    773\n",
              "2014    773\n",
              "2015    773\n",
              "2016    773\n",
              "2017    773\n",
              "2018    773\n",
              "2019    773\n",
              "2020    773\n",
              "2021    773\n",
              "2022    773\n",
              "Name: year, dtype: int64"
            ]
          },
          "metadata": {},
          "execution_count": 7
        }
      ],
      "source": [
        "df['year'].value_counts()"
      ]
    },
    {
      "cell_type": "markdown",
      "metadata": {
        "id": "gTN-_M6z4wwt"
      },
      "source": [
        "Ao que parece são 773 pontos geográficos observados desde 2007 até 2022"
      ]
    },
    {
      "cell_type": "code",
      "execution_count": 8,
      "metadata": {
        "colab": {
          "base_uri": "https://localhost:8080/"
        },
        "id": "2BKkXgGp5D9n",
        "outputId": "857f9a12-b410-4533-c5a7-4b9ac4b8f148"
      },
      "outputs": [
        {
          "output_type": "execute_result",
          "data": {
            "text/plain": [
              "array(['Acre', 'Amapá', 'Amazonas', 'Maranhão', 'Mato Grosso', 'Pará',\n",
              "       'Rondônia', 'Roraima', 'Tocantins'], dtype=object)"
            ]
          },
          "metadata": {},
          "execution_count": 8
        }
      ],
      "source": [
        "df['state'].unique()"
      ]
    },
    {
      "cell_type": "code",
      "execution_count": 9,
      "metadata": {
        "colab": {
          "base_uri": "https://localhost:8080/"
        },
        "id": "1wBnge8I5TNF",
        "outputId": "38951db4-eb42-45d6-d0c5-fd9e37752056"
      },
      "outputs": [
        {
          "output_type": "execute_result",
          "data": {
            "text/plain": [
              "Maranhão       2912\n",
              "Pará           2304\n",
              "Mato Grosso    2256\n",
              "Tocantins      2224\n",
              "Amazonas        992\n",
              "Rondônia        832\n",
              "Acre            352\n",
              "Amapá           256\n",
              "Roraima         240\n",
              "Name: state, dtype: int64"
            ]
          },
          "metadata": {},
          "execution_count": 9
        }
      ],
      "source": [
        "df['state'].value_counts()"
      ]
    },
    {
      "cell_type": "code",
      "execution_count": 10,
      "metadata": {
        "colab": {
          "base_uri": "https://localhost:8080/"
        },
        "id": "afCTdz1G5KH_",
        "outputId": "e6e977a9-2cdc-4403-bc7c-3e60789eb394"
      },
      "outputs": [
        {
          "output_type": "execute_result",
          "data": {
            "text/plain": [
              "state     year\n",
              "Maranhão  2021    182\n",
              "          2013    182\n",
              "          2022    182\n",
              "          2007    182\n",
              "          2008    182\n",
              "                 ... \n",
              "Roraima   2009     15\n",
              "          2014     15\n",
              "          2013     15\n",
              "          2012     15\n",
              "          2015     15\n",
              "Length: 144, dtype: int64"
            ]
          },
          "metadata": {},
          "execution_count": 10
        }
      ],
      "source": [
        "df[['state','year']].value_counts()"
      ]
    },
    {
      "cell_type": "markdown",
      "metadata": {
        "id": "Xm78ftsj5WWE"
      },
      "source": [
        "Como podemos verificar o Maranhão é o estado com mais pontos observados ao longo dos anos."
      ]
    },
    {
      "cell_type": "code",
      "execution_count": 11,
      "metadata": {
        "colab": {
          "base_uri": "https://localhost:8080/"
        },
        "id": "HZKlWpUM5-l-",
        "outputId": "a0c00107-4d00-446c-939e-e320b845597b"
      },
      "outputs": [
        {
          "output_type": "execute_result",
          "data": {
            "text/plain": [
              "5108956"
            ]
          },
          "metadata": {},
          "execution_count": 11
        }
      ],
      "source": [
        "df['geocode_ibge'].max()"
      ]
    },
    {
      "cell_type": "code",
      "execution_count": 12,
      "metadata": {
        "colab": {
          "base_uri": "https://localhost:8080/"
        },
        "id": "TaD5cRQL5_zV",
        "outputId": "e0d0f2d6-1d80-4dca-c66b-6eb267bf7ec7"
      },
      "outputs": [
        {
          "output_type": "execute_result",
          "data": {
            "text/plain": [
              "1100015"
            ]
          },
          "metadata": {},
          "execution_count": 12
        }
      ],
      "source": [
        "df['geocode_ibge'].min()"
      ]
    },
    {
      "cell_type": "code",
      "execution_count": 13,
      "metadata": {
        "colab": {
          "base_uri": "https://localhost:8080/"
        },
        "id": "6gEbEGKI5iK6",
        "outputId": "ea0e4ef0-4590-4760-d594-31021c63dcce"
      },
      "outputs": [
        {
          "output_type": "execute_result",
          "data": {
            "text/plain": [
              "773"
            ]
          },
          "metadata": {},
          "execution_count": 13
        }
      ],
      "source": [
        "df['geocode_ibge'].nunique()"
      ]
    },
    {
      "cell_type": "markdown",
      "metadata": {
        "id": "q1xcwvwt6FBW"
      },
      "source": [
        "Os códigos de localização variam de entre 1.1MM até 5.1MM e são 773 pontos observados."
      ]
    },
    {
      "cell_type": "code",
      "execution_count": 14,
      "metadata": {
        "colab": {
          "base_uri": "https://localhost:8080/"
        },
        "id": "KPjKv0Lv6TDA",
        "outputId": "7d8a001f-d51a-4f5c-ec53-9c380c01abc7"
      },
      "outputs": [
        {
          "output_type": "execute_result",
          "data": {
            "text/plain": [
              "array(['Acrelândia', 'Assis Brasil', 'Brasiléia', 'Bujari'], dtype=object)"
            ]
          },
          "metadata": {},
          "execution_count": 14
        }
      ],
      "source": [
        "df['municipality'].unique()[0:4]"
      ]
    },
    {
      "cell_type": "code",
      "execution_count": 15,
      "metadata": {
        "colab": {
          "base_uri": "https://localhost:8080/"
        },
        "id": "qoizGUhG6awF",
        "outputId": "3320ed4a-56b0-4531-d989-55e60ad84714"
      },
      "outputs": [
        {
          "output_type": "execute_result",
          "data": {
            "text/plain": [
              "768"
            ]
          },
          "metadata": {},
          "execution_count": 15
        }
      ],
      "source": [
        "df['municipality'].nunique()"
      ]
    },
    {
      "cell_type": "markdown",
      "metadata": {
        "id": "zIix1lkq6c9G"
      },
      "source": [
        "768 cidades observadas no levantamento."
      ]
    },
    {
      "cell_type": "markdown",
      "metadata": {
        "id": "J9BlIBaJ7DzG"
      },
      "source": [
        "Vamos analisar a variável principal que diz respeito ao total da área desmatada"
      ]
    },
    {
      "cell_type": "code",
      "execution_count": 16,
      "metadata": {
        "colab": {
          "base_uri": "https://localhost:8080/",
          "height": 408
        },
        "id": "nMZgwY0Z7C-7",
        "outputId": "e1d57b27-91b3-4344-8660-e961a76bfdd2"
      },
      "outputs": [
        {
          "output_type": "display_data",
          "data": {
            "text/plain": [
              "<Figure size 1000x400 with 1 Axes>"
            ],
            "image/png": "[encoded data removed]"
          },
          "metadata": {}
        }
      ],
      "source": [
        "# Agrupar os dados por ano e somar os valores de desmatamento\n",
        "df_grouped = df.groupby('year')['areakm'].sum()\n",
        "\n",
        "# Criar o gráfico de linha\n",
        "plt.figure(figsize=(10,4))\n",
        "df_grouped.plot(kind='line')\n",
        "plt.title('Soma de Desmatamento por Ano')\n",
        "plt.xlabel('Ano')\n",
        "plt.ylabel('Soma de Desmatamento')\n",
        "plt.show()"
      ]
    },
    {
      "cell_type": "markdown",
      "metadata": {
        "id": "gU7Osqzs8xcZ"
      },
      "source": [
        "Através de pesquisas verificamos que a Amazônia Legal corresponde a um território de 5MM de kms. Se considerarmos os 840.000 kms de área devastada no gráfico como o valor mais atualizado de desmatamento acumulado, vamos obter uma perda de 17% de toda a área da Amazônia Legal, número bem próximo do veiculado atualmente que gira em torno de 20%."
      ]
    },
    {
      "cell_type": "markdown",
      "metadata": {
        "id": "ItMwutWD-Atk"
      },
      "source": [
        "Outro ponto interessante é que notamos uma reta mais acentuada a partir do governo Bolsonaro em 2019. "
      ]
    },
    {
      "cell_type": "markdown",
      "metadata": {
        "id": "64Frli8c-OjO"
      },
      "source": [
        "Vamos avaliar os estados ao longo dos anos."
      ]
    },
    {
      "cell_type": "code",
      "execution_count": 17,
      "metadata": {
        "colab": {
          "base_uri": "https://localhost:8080/",
          "height": 408
        },
        "id": "jN67Duh1-AN2",
        "outputId": "0d1e50da-6d31-42b8-a9bc-2411ae59bc19"
      },
      "outputs": [
        {
          "output_type": "display_data",
          "data": {
            "text/plain": [
              "<Figure size 900x400 with 1 Axes>"
            ],
            "image/png": "[encoded data removed]"
          },
          "metadata": {}
        }
      ],
      "source": [
        "estados = df['state'].unique()\n",
        "plt.figure(figsize=(9,4))\n",
        "\n",
        "for estado in estados:\n",
        "    df_estado = df[df['state'] == estado]\n",
        "    df_grouped = df_estado.groupby('year')['areakm'].sum()\n",
        "    plt.plot(df_grouped.index, df_grouped.values, label=estado)\n",
        "\n",
        "plt.legend(bbox_to_anchor=(1.05, 1), loc='upper left')\n",
        "\n",
        "plt.xlabel('Ano')\n",
        "plt.ylabel('Soma de Desmatamento')\n",
        "plt.title('Soma de Desmatamento por Ano por Estado')\n",
        "\n",
        "plt.show()"
      ]
    },
    {
      "cell_type": "markdown",
      "metadata": {
        "id": "tnc2H7sv8Qp1"
      },
      "source": [
        "É interessante que alguns estados sofreram pouca evolução no desmatamento quando comparados com outros. Para nos aprofundarmos neste ponto vamos avaliar o quanto em percentual cada estado gerou de incremento entre a primeira medição e a última."
      ]
    },
    {
      "cell_type": "code",
      "execution_count": 18,
      "metadata": {
        "colab": {
          "base_uri": "https://localhost:8080/",
          "height": 520
        },
        "id": "l7zh20DUAVZc",
        "outputId": "66af1788-d5c6-4c91-b938-6dcc0e0c26ed"
      },
      "outputs": [
        {
          "output_type": "execute_result",
          "data": {
            "text/plain": [
              "<AxesSubplot:xlabel='year', ylabel='state'>"
            ]
          },
          "metadata": {},
          "execution_count": 18
        },
        {
          "output_type": "display_data",
          "data": {
            "text/plain": [
              "<Figure size 800x550 with 2 Axes>"
            ],
            "image/png": "[encoded data removed]"
          },
          "metadata": {}
        }
      ],
      "source": [
        "# 1. Calcular a soma de valor por estado e por ano.\n",
        "df_soma = df.groupby(['state', 'year'])['areakm'].sum().unstack()\n",
        "\n",
        "# 2. Calcular a taxa de crescimento percentual de cada estado do primeiro para o último ano.\n",
        "df_soma['crescimento'] = (df_soma[df_soma.columns[-1]] - df_soma[df_soma.columns[0]]) / df_soma[df_soma.columns[0]] * 100\n",
        "df_soma = df_soma.sort_values('crescimento', ascending=False)\n",
        "\n",
        "# 3. Gerar um heatmap dos estados com esses valores percentuais.\n",
        "sns.heatmap(df_soma[['crescimento']], annot=True, fmt=\".1f\", cmap='RdYlGn_r')"
      ]
    },
    {
      "cell_type": "markdown",
      "metadata": {
        "id": "AdcouZXTC7a-"
      },
      "source": [
        "Agora vamos fazer a marcação dos governos ao longo dos anos e depois construir o modelo preditivo."
      ]
    },
    {
      "cell_type": "code",
      "execution_count": 19,
      "metadata": {
        "id": "Cq7EvlNVDBJN"
      },
      "outputs": [],
      "source": [
        "def marcar_governo(year):\n",
        "    if year < 2011:\n",
        "        return 'Lula'\n",
        "    elif 2011 <= year <= 2016:\n",
        "        return 'Dilma'\n",
        "    elif 2011 <= year <= 2014:\n",
        "      return 'Dilma1'\n",
        "    elif 2015 <= year <= 2016:\n",
        "      return 'Dilma2'\n",
        "    elif 2017 <= year <= 2018:\n",
        "        return 'Temer'\n",
        "    elif 2018 <= year <= 2022:\n",
        "        return 'Bolsonaro'\n",
        "    else:\n",
        "        return 'Desconhecido' "
      ]
    },
    {
      "cell_type": "code",
      "execution_count": 20,
      "metadata": {
        "id": "7suvy00-DsHk"
      },
      "outputs": [],
      "source": [
        "df['governo'] = df['year'].apply(marcar_governo)"
      ]
    },
    {
      "cell_type": "code",
      "execution_count": 21,
      "metadata": {
        "colab": {
          "base_uri": "https://localhost:8080/"
        },
        "id": "MJFKb4iwEJeD",
        "outputId": "1bc2ad38-3160-41f8-83ef-7da271df07ea"
      },
      "outputs": [
        {
          "output_type": "execute_result",
          "data": {
            "text/plain": [
              "array(['Lula', 'Dilma', 'Temer', 'Bolsonaro'], dtype=object)"
            ]
          },
          "metadata": {},
          "execution_count": 21
        }
      ],
      "source": [
        "df['governo'].unique()"
      ]
    },
    {
      "cell_type": "markdown",
      "source": [
        "Antes de construir o modelo vamos calcular o incremento que tivemos ano a ano para cada ponto observado. O modelo será construído em cima desta métrica e não com base no valor acumulado."
      ],
      "metadata": {
        "id": "KH-N3iIi7HkT"
      }
    },
    {
      "cell_type": "code",
      "execution_count": 22,
      "metadata": {
        "id": "fSrMh6bTRfip"
      },
      "outputs": [],
      "source": [
        "# Ordenar os dados por estado, município, geocode_ibge e ano\n",
        "df = df.sort_values(['state', 'municipality', 'geocode_ibge', 'year'])\n",
        "\n",
        "# Calcular a diferença ano a ano no desmatamento por cada combinação única de estado, município e geocode_ibge\n",
        "df['delta_areakm'] = df.groupby(['state', 'municipality', 'geocode_ibge'])['areakm'].diff()\n",
        "\n",
        "# Preencher NA/NaN valores com 0s (isso ocorrerá para o primeiro ano de cada combinação única, pois não há ano anterior para comparar)\n",
        "df['delta_areakm'] = df['delta_areakm'].fillna(0)"
      ]
    },
    {
      "cell_type": "markdown",
      "source": [
        "Gerando dummies das variáveis categóricas"
      ],
      "metadata": {
        "id": "CrOflv7a7V7a"
      }
    },
    {
      "cell_type": "code",
      "execution_count": 23,
      "metadata": {
        "id": "UKZNeTcwEmo2"
      },
      "outputs": [],
      "source": [
        "df_dummies = pd.get_dummies(df, columns=['governo', 'state', 'municipality'])"
      ]
    },
    {
      "cell_type": "code",
      "execution_count": 24,
      "metadata": {
        "id": "FJRoLgUGRzRf"
      },
      "outputs": [],
      "source": [
        "df_dummies = df_dummies.drop(columns=['areakm'])"
      ]
    },
    {
      "cell_type": "code",
      "execution_count": 25,
      "metadata": {
        "colab": {
          "base_uri": "https://localhost:8080/",
          "height": 505
        },
        "id": "nVwoBTEGR6Sy",
        "outputId": "d4a8c9d5-eea3-4250-f3af-db25da0cc121"
      },
      "outputs": [
        {
          "output_type": "execute_result",
          "data": {
            "text/plain": [
              "       year  geocode_ibge  delta_areakm  governo_Bolsonaro  governo_Dilma  \\\n",
              "0      2007       1200013      0.000000                  0              0   \n",
              "1      2008       1200013     23.667087                  0              0   \n",
              "2      2009       1200013     12.938233                  0              0   \n",
              "3      2010       1200013     11.332078                  0              0   \n",
              "4      2011       1200013     15.938638                  0              1   \n",
              "...     ...           ...           ...                ...            ...   \n",
              "12363  2018       1722107      0.500595                  0              0   \n",
              "12364  2019       1722107      0.487012                  1              0   \n",
              "12365  2020       1722107      0.582180                  1              0   \n",
              "12366  2021       1722107      1.062286                  1              0   \n",
              "12367  2022       1722107      1.547968                  1              0   \n",
              "\n",
              "       governo_Lula  governo_Temer  state_Acre  state_Amapá  state_Amazonas  \\\n",
              "0                 1              0           1            0               0   \n",
              "1                 1              0           1            0               0   \n",
              "2                 1              0           1            0               0   \n",
              "3                 1              0           1            0               0   \n",
              "4                 0              0           1            0               0   \n",
              "...             ...            ...         ...          ...             ...   \n",
              "12363             0              1           0            0               0   \n",
              "12364             0              0           0            0               0   \n",
              "12365             0              0           0            0               0   \n",
              "12366             0              0           0            0               0   \n",
              "12367             0              0           0            0               0   \n",
              "\n",
              "       ...  municipality_Vitória do Xingu  municipality_Várzea Grande  \\\n",
              "0      ...                              0                           0   \n",
              "1      ...                              0                           0   \n",
              "2      ...                              0                           0   \n",
              "3      ...                              0                           0   \n",
              "4      ...                              0                           0   \n",
              "...    ...                            ...                         ...   \n",
              "12363  ...                              0                           0   \n",
              "12364  ...                              0                           0   \n",
              "12365  ...                              0                           0   \n",
              "12366  ...                              0                           0   \n",
              "12367  ...                              0                           0   \n",
              "\n",
              "       municipality_Wanderlândia  municipality_Xambioá  municipality_Xapuri  \\\n",
              "0                              0                     0                    0   \n",
              "1                              0                     0                    0   \n",
              "2                              0                     0                    0   \n",
              "3                              0                     0                    0   \n",
              "4                              0                     0                    0   \n",
              "...                          ...                   ...                  ...   \n",
              "12363                          0                     1                    0   \n",
              "12364                          0                     1                    0   \n",
              "12365                          0                     1                    0   \n",
              "12366                          0                     1                    0   \n",
              "12367                          0                     1                    0   \n",
              "\n",
              "       municipality_Xinguara  municipality_Zé Doca  \\\n",
              "0                          0                     0   \n",
              "1                          0                     0   \n",
              "2                          0                     0   \n",
              "3                          0                     0   \n",
              "4                          0                     0   \n",
              "...                      ...                   ...   \n",
              "12363                      0                     0   \n",
              "12364                      0                     0   \n",
              "12365                      0                     0   \n",
              "12366                      0                     0   \n",
              "12367                      0                     0   \n",
              "\n",
              "       municipality_Água Azul do Norte  municipality_Água Boa  \\\n",
              "0                                    0                      0   \n",
              "1                                    0                      0   \n",
              "2                                    0                      0   \n",
              "3                                    0                      0   \n",
              "4                                    0                      0   \n",
              "...                                ...                    ...   \n",
              "12363                                0                      0   \n",
              "12364                                0                      0   \n",
              "12365                                0                      0   \n",
              "12366                                0                      0   \n",
              "12367                                0                      0   \n",
              "\n",
              "       municipality_Óbidos  \n",
              "0                        0  \n",
              "1                        0  \n",
              "2                        0  \n",
              "3                        0  \n",
              "4                        0  \n",
              "...                    ...  \n",
              "12363                    0  \n",
              "12364                    0  \n",
              "12365                    0  \n",
              "12366                    0  \n",
              "12367                    0  \n",
              "\n",
              "[12368 rows x 784 columns]"
            ],
            "text/html": [
              "\n",
              "  <div id=\"df-045b789e-7567-44de-af39-a4174f2a92b7\">\n",
              "    <div class=\"colab-df-container\">\n",
              "      <div>\n",
              "<style scoped>\n",
              "    .dataframe tbody tr th:only-of-type {\n",
              "        vertical-align: middle;\n",
              "    }\n",
              "\n",
              "    .dataframe tbody tr th {\n",
              "        vertical-align: top;\n",
              "    }\n",
              "\n",
              "    .dataframe thead th {\n",
              "        text-align: right;\n",
              "    }\n",
              "</style>\n",
              "<table border=\"1\" class=\"dataframe\">\n",
              "  <thead>\n",
              "    <tr style=\"text-align: right;\">\n",
              "      <th></th>\n",
              "      <th>year</th>\n",
              "      <th>geocode_ibge</th>\n",
              "      <th>delta_areakm</th>\n",
              "      <th>governo_Bolsonaro</th>\n",
              "      <th>governo_Dilma</th>\n",
              "      <th>governo_Lula</th>\n",
              "      <th>governo_Temer</th>\n",
              "      <th>state_Acre</th>\n",
              "      <th>state_Amapá</th>\n",
              "      <th>state_Amazonas</th>\n",
              "      <th>...</th>\n",
              "      <th>municipality_Vitória do Xingu</th>\n",
              "      <th>municipality_Várzea Grande</th>\n",
              "      <th>municipality_Wanderlândia</th>\n",
              "      <th>municipality_Xambioá</th>\n",
              "      <th>municipality_Xapuri</th>\n",
              "      <th>municipality_Xinguara</th>\n",
              "      <th>municipality_Zé Doca</th>\n",
              "      <th>municipality_Água Azul do Norte</th>\n",
              "      <th>municipality_Água Boa</th>\n",
              "      <th>municipality_Óbidos</th>\n",
              "    </tr>\n",
              "  </thead>\n",
              "  <tbody>\n",
              "    <tr>\n",
              "      <th>0</th>\n",
              "      <td>2007</td>\n",
              "      <td>1200013</td>\n",
              "      <td>0.000000</td>\n",
              "      <td>0</td>\n",
              "      <td>0</td>\n",
              "      <td>1</td>\n",
              "      <td>0</td>\n",
              "      <td>1</td>\n",
              "      <td>0</td>\n",
              "      <td>0</td>\n",
              "      <td>...</td>\n",
              "      <td>0</td>\n",
              "      <td>0</td>\n",
              "      <td>0</td>\n",
              "      <td>0</td>\n",
              "      <td>0</td>\n",
              "      <td>0</td>\n",
              "      <td>0</td>\n",
              "      <td>0</td>\n",
              "      <td>0</td>\n",
              "      <td>0</td>\n",
              "    </tr>\n",
              "    <tr>\n",
              "      <th>1</th>\n",
              "      <td>2008</td>\n",
              "      <td>1200013</td>\n",
              "      <td>23.667087</td>\n",
              "      <td>0</td>\n",
              "      <td>0</td>\n",
              "      <td>1</td>\n",
              "      <td>0</td>\n",
              "      <td>1</td>\n",
              "      <td>0</td>\n",
              "      <td>0</td>\n",
              "      <td>...</td>\n",
              "      <td>0</td>\n",
              "      <td>0</td>\n",
              "      <td>0</td>\n",
              "      <td>0</td>\n",
              "      <td>0</td>\n",
              "      <td>0</td>\n",
              "      <td>0</td>\n",
              "      <td>0</td>\n",
              "      <td>0</td>\n",
              "      <td>0</td>\n",
              "    </tr>\n",
              "    <tr>\n",
              "      <th>2</th>\n",
              "      <td>2009</td>\n",
              "      <td>1200013</td>\n",
              "      <td>12.938233</td>\n",
              "      <td>0</td>\n",
              "      <td>0</td>\n",
              "      <td>1</td>\n",
              "      <td>0</td>\n",
              "      <td>1</td>\n",
              "      <td>0</td>\n",
              "      <td>0</td>\n",
              "      <td>...</td>\n",
              "      <td>0</td>\n",
              "      <td>0</td>\n",
              "      <td>0</td>\n",
              "      <td>0</td>\n",
              "      <td>0</td>\n",
              "      <td>0</td>\n",
              "      <td>0</td>\n",
              "      <td>0</td>\n",
              "      <td>0</td>\n",
              "      <td>0</td>\n",
              "    </tr>\n",
              "    <tr>\n",
              "      <th>3</th>\n",
              "      <td>2010</td>\n",
              "      <td>1200013</td>\n",
              "      <td>11.332078</td>\n",
              "      <td>0</td>\n",
              "      <td>0</td>\n",
              "      <td>1</td>\n",
              "      <td>0</td>\n",
              "      <td>1</td>\n",
              "      <td>0</td>\n",
              "      <td>0</td>\n",
              "      <td>...</td>\n",
              "      <td>0</td>\n",
              "      <td>0</td>\n",
              "      <td>0</td>\n",
              "      <td>0</td>\n",
              "      <td>0</td>\n",
              "      <td>0</td>\n",
              "      <td>0</td>\n",
              "      <td>0</td>\n",
              "      <td>0</td>\n",
              "      <td>0</td>\n",
              "    </tr>\n",
              "    <tr>\n",
              "      <th>4</th>\n",
              "      <td>2011</td>\n",
              "      <td>1200013</td>\n",
              "      <td>15.938638</td>\n",
              "      <td>0</td>\n",
              "      <td>1</td>\n",
              "      <td>0</td>\n",
              "      <td>0</td>\n",
              "      <td>1</td>\n",
              "      <td>0</td>\n",
              "      <td>0</td>\n",
              "      <td>...</td>\n",
              "      <td>0</td>\n",
              "      <td>0</td>\n",
              "      <td>0</td>\n",
              "      <td>0</td>\n",
              "      <td>0</td>\n",
              "      <td>0</td>\n",
              "      <td>0</td>\n",
              "      <td>0</td>\n",
              "      <td>0</td>\n",
              "      <td>0</td>\n",
              "    </tr>\n",
              "    <tr>\n",
              "      <th>...</th>\n",
              "      <td>...</td>\n",
              "      <td>...</td>\n",
              "      <td>...</td>\n",
              "      <td>...</td>\n",
              "      <td>...</td>\n",
              "      <td>...</td>\n",
              "      <td>...</td>\n",
              "      <td>...</td>\n",
              "      <td>...</td>\n",
              "      <td>...</td>\n",
              "      <td>...</td>\n",
              "      <td>...</td>\n",
              "      <td>...</td>\n",
              "      <td>...</td>\n",
              "      <td>...</td>\n",
              "      <td>...</td>\n",
              "      <td>...</td>\n",
              "      <td>...</td>\n",
              "      <td>...</td>\n",
              "      <td>...</td>\n",
              "      <td>...</td>\n",
              "    </tr>\n",
              "    <tr>\n",
              "      <th>12363</th>\n",
              "      <td>2018</td>\n",
              "      <td>1722107</td>\n",
              "      <td>0.500595</td>\n",
              "      <td>0</td>\n",
              "      <td>0</td>\n",
              "      <td>0</td>\n",
              "      <td>1</td>\n",
              "      <td>0</td>\n",
              "      <td>0</td>\n",
              "      <td>0</td>\n",
              "      <td>...</td>\n",
              "      <td>0</td>\n",
              "      <td>0</td>\n",
              "      <td>0</td>\n",
              "      <td>1</td>\n",
              "      <td>0</td>\n",
              "      <td>0</td>\n",
              "      <td>0</td>\n",
              "      <td>0</td>\n",
              "      <td>0</td>\n",
              "      <td>0</td>\n",
              "    </tr>\n",
              "    <tr>\n",
              "      <th>12364</th>\n",
              "      <td>2019</td>\n",
              "      <td>1722107</td>\n",
              "      <td>0.487012</td>\n",
              "      <td>1</td>\n",
              "      <td>0</td>\n",
              "      <td>0</td>\n",
              "      <td>0</td>\n",
              "      <td>0</td>\n",
              "      <td>0</td>\n",
              "      <td>0</td>\n",
              "      <td>...</td>\n",
              "      <td>0</td>\n",
              "      <td>0</td>\n",
              "      <td>0</td>\n",
              "      <td>1</td>\n",
              "      <td>0</td>\n",
              "      <td>0</td>\n",
              "      <td>0</td>\n",
              "      <td>0</td>\n",
              "      <td>0</td>\n",
              "      <td>0</td>\n",
              "    </tr>\n",
              "    <tr>\n",
              "      <th>12365</th>\n",
              "      <td>2020</td>\n",
              "      <td>1722107</td>\n",
              "      <td>0.582180</td>\n",
              "      <td>1</td>\n",
              "      <td>0</td>\n",
              "      <td>0</td>\n",
              "      <td>0</td>\n",
              "      <td>0</td>\n",
              "      <td>0</td>\n",
              "      <td>0</td>\n",
              "      <td>...</td>\n",
              "      <td>0</td>\n",
              "      <td>0</td>\n",
              "      <td>0</td>\n",
              "      <td>1</td>\n",
              "      <td>0</td>\n",
              "      <td>0</td>\n",
              "      <td>0</td>\n",
              "      <td>0</td>\n",
              "      <td>0</td>\n",
              "      <td>0</td>\n",
              "    </tr>\n",
              "    <tr>\n",
              "      <th>12366</th>\n",
              "      <td>2021</td>\n",
              "      <td>1722107</td>\n",
              "      <td>1.062286</td>\n",
              "      <td>1</td>\n",
              "      <td>0</td>\n",
              "      <td>0</td>\n",
              "      <td>0</td>\n",
              "      <td>0</td>\n",
              "      <td>0</td>\n",
              "      <td>0</td>\n",
              "      <td>...</td>\n",
              "      <td>0</td>\n",
              "      <td>0</td>\n",
              "      <td>0</td>\n",
              "      <td>1</td>\n",
              "      <td>0</td>\n",
              "      <td>0</td>\n",
              "      <td>0</td>\n",
              "      <td>0</td>\n",
              "      <td>0</td>\n",
              "      <td>0</td>\n",
              "    </tr>\n",
              "    <tr>\n",
              "      <th>12367</th>\n",
              "      <td>2022</td>\n",
              "      <td>1722107</td>\n",
              "      <td>1.547968</td>\n",
              "      <td>1</td>\n",
              "      <td>0</td>\n",
              "      <td>0</td>\n",
              "      <td>0</td>\n",
              "      <td>0</td>\n",
              "      <td>0</td>\n",
              "      <td>0</td>\n",
              "      <td>...</td>\n",
              "      <td>0</td>\n",
              "      <td>0</td>\n",
              "      <td>0</td>\n",
              "      <td>1</td>\n",
              "      <td>0</td>\n",
              "      <td>0</td>\n",
              "      <td>0</td>\n",
              "      <td>0</td>\n",
              "      <td>0</td>\n",
              "      <td>0</td>\n",
              "    </tr>\n",
              "  </tbody>\n",
              "</table>\n",
              "<p>12368 rows × 784 columns</p>\n",
              "</div>\n",
              "      <button class=\"colab-df-convert\" onclick=\"convertToInteractive('df-045b789e-7567-44de-af39-a4174f2a92b7')\"\n",
              "              title=\"Convert this dataframe to an interactive table.\"\n",
              "              style=\"display:none;\">\n",
              "        \n",
              "  <svg xmlns=\"http://www.w3.org/2000/svg\" height=\"24px\"viewBox=\"0 0 24 24\"\n",
              "       width=\"24px\">\n",
              "    <path d=\"M0 0h24v24H0V0z\" fill=\"none\"/>\n",
              "    <path d=\"M18.56 5.44l.94 2.06.94-2.06 2.06-.94-2.06-.94-.94-2.06-.94 2.06-2.06.94zm-11 1L8.5 8.5l.94-2.06 2.06-.94-2.06-.94L8.5 2.5l-.94 2.06-2.06.94zm10 10l.94 2.06.94-2.06 2.06-.94-2.06-.94-.94-2.06-.94 2.06-2.06.94z\"/><path d=\"M17.41 7.96l-1.37-1.37c-.4-.4-.92-.59-1.43-.59-.52 0-1.04.2-1.43.59L10.3 9.45l-7.72 7.72c-.78.78-.78 2.05 0 2.83L4 21.41c.39.39.9.59 1.41.59.51 0 1.02-.2 1.41-.59l7.78-7.78 2.81-2.81c.8-.78.8-2.07 0-2.86zM5.41 20L4 18.59l7.72-7.72 1.47 1.35L5.41 20z\"/>\n",
              "  </svg>\n",
              "      </button>\n",
              "      \n",
              "  <style>\n",
              "    .colab-df-container {\n",
              "      display:flex;\n",
              "      flex-wrap:wrap;\n",
              "      gap: 12px;\n",
              "    }\n",
              "\n",
              "    .colab-df-convert {\n",
              "      background-color: #E8F0FE;\n",
              "      border: none;\n",
              "      border-radius: 50%;\n",
              "      cursor: pointer;\n",
              "      display: none;\n",
              "      fill: #1967D2;\n",
              "      height: 32px;\n",
              "      padding: 0 0 0 0;\n",
              "      width: 32px;\n",
              "    }\n",
              "\n",
              "    .colab-df-convert:hover {\n",
              "      background-color: #E2EBFA;\n",
              "      box-shadow: 0px 1px 2px rgba(60, 64, 67, 0.3), 0px 1px 3px 1px rgba(60, 64, 67, 0.15);\n",
              "      fill: #174EA6;\n",
              "    }\n",
              "\n",
              "    [theme=dark] .colab-df-convert {\n",
              "      background-color: #3B4455;\n",
              "      fill: #D2E3FC;\n",
              "    }\n",
              "\n",
              "    [theme=dark] .colab-df-convert:hover {\n",
              "      background-color: #434B5C;\n",
              "      box-shadow: 0px 1px 3px 1px rgba(0, 0, 0, 0.15);\n",
              "      filter: drop-shadow(0px 1px 2px rgba(0, 0, 0, 0.3));\n",
              "      fill: #FFFFFF;\n",
              "    }\n",
              "  </style>\n",
              "\n",
              "      <script>\n",
              "        const buttonEl =\n",
              "          document.querySelector('#df-045b789e-7567-44de-af39-a4174f2a92b7 button.colab-df-convert');\n",
              "        buttonEl.style.display =\n",
              "          google.colab.kernel.accessAllowed ? 'block' : 'none';\n",
              "\n",
              "        async function convertToInteractive(key) {\n",
              "          const element = document.querySelector('#df-045b789e-7567-44de-af39-a4174f2a92b7');\n",
              "          const dataTable =\n",
              "            await google.colab.kernel.invokeFunction('convertToInteractive',\n",
              "                                                     [key], {});\n",
              "          if (!dataTable) return;\n",
              "\n",
              "          const docLinkHtml = 'Like what you see? Visit the ' +\n",
              "            '<a target=\"_blank\" href=https://colab.research.google.com/notebooks/data_table.ipynb>data table notebook</a>'\n",
              "            + ' to learn more about interactive tables.';\n",
              "          element.innerHTML = '';\n",
              "          dataTable['output_type'] = 'display_data';\n",
              "          await google.colab.output.renderOutput(dataTable, element);\n",
              "          const docLink = document.createElement('div');\n",
              "          docLink.innerHTML = docLinkHtml;\n",
              "          element.appendChild(docLink);\n",
              "        }\n",
              "      </script>\n",
              "    </div>\n",
              "  </div>\n",
              "  "
            ]
          },
          "metadata": {},
          "execution_count": 25
        }
      ],
      "source": [
        "df_dummies"
      ]
    },
    {
      "cell_type": "markdown",
      "metadata": {
        "id": "VGiV-LIGFIQy"
      },
      "source": [
        "Construção do modelo"
      ]
    },
    {
      "cell_type": "code",
      "execution_count": 26,
      "metadata": {
        "colab": {
          "base_uri": "https://localhost:8080/",
          "height": 645
        },
        "id": "0aY-sOqNFNEN",
        "outputId": "ae5804d8-e07f-4cb8-c3c5-47d590b3b0f2"
      },
      "outputs": [
        {
          "output_type": "display_data",
          "data": {
            "text/plain": [
              "<pandas.io.formats.style.Styler at 0x7f3420341bd0>"
            ],
            "text/html": [
              "<style type=\"text/css\">\n",
              "#T_5ead9_row8_col1 {\n",
              "  background-color: lightgreen;\n",
              "}\n",
              "</style>\n",
              "<table id=\"T_5ead9\" class=\"dataframe\">\n",
              "  <thead>\n",
              "    <tr>\n",
              "      <th class=\"blank level0\" >&nbsp;</th>\n",
              "      <th id=\"T_5ead9_level0_col0\" class=\"col_heading level0 col0\" >Description</th>\n",
              "      <th id=\"T_5ead9_level0_col1\" class=\"col_heading level0 col1\" >Value</th>\n",
              "    </tr>\n",
              "  </thead>\n",
              "  <tbody>\n",
              "    <tr>\n",
              "      <th id=\"T_5ead9_level0_row0\" class=\"row_heading level0 row0\" >0</th>\n",
              "      <td id=\"T_5ead9_row0_col0\" class=\"data row0 col0\" >Session id</td>\n",
              "      <td id=\"T_5ead9_row0_col1\" class=\"data row0 col1\" >123</td>\n",
              "    </tr>\n",
              "    <tr>\n",
              "      <th id=\"T_5ead9_level0_row1\" class=\"row_heading level0 row1\" >1</th>\n",
              "      <td id=\"T_5ead9_row1_col0\" class=\"data row1 col0\" >Target</td>\n",
              "      <td id=\"T_5ead9_row1_col1\" class=\"data row1 col1\" >delta_areakm</td>\n",
              "    </tr>\n",
              "    <tr>\n",
              "      <th id=\"T_5ead9_level0_row2\" class=\"row_heading level0 row2\" >2</th>\n",
              "      <td id=\"T_5ead9_row2_col0\" class=\"data row2 col0\" >Target type</td>\n",
              "      <td id=\"T_5ead9_row2_col1\" class=\"data row2 col1\" >Regression</td>\n",
              "    </tr>\n",
              "    <tr>\n",
              "      <th id=\"T_5ead9_level0_row3\" class=\"row_heading level0 row3\" >3</th>\n",
              "      <td id=\"T_5ead9_row3_col0\" class=\"data row3 col0\" >Original data shape</td>\n",
              "      <td id=\"T_5ead9_row3_col1\" class=\"data row3 col1\" >(12368, 784)</td>\n",
              "    </tr>\n",
              "    <tr>\n",
              "      <th id=\"T_5ead9_level0_row4\" class=\"row_heading level0 row4\" >4</th>\n",
              "      <td id=\"T_5ead9_row4_col0\" class=\"data row4 col0\" >Transformed data shape</td>\n",
              "      <td id=\"T_5ead9_row4_col1\" class=\"data row4 col1\" >(12368, 784)</td>\n",
              "    </tr>\n",
              "    <tr>\n",
              "      <th id=\"T_5ead9_level0_row5\" class=\"row_heading level0 row5\" >5</th>\n",
              "      <td id=\"T_5ead9_row5_col0\" class=\"data row5 col0\" >Transformed train set shape</td>\n",
              "      <td id=\"T_5ead9_row5_col1\" class=\"data row5 col1\" >(8657, 784)</td>\n",
              "    </tr>\n",
              "    <tr>\n",
              "      <th id=\"T_5ead9_level0_row6\" class=\"row_heading level0 row6\" >6</th>\n",
              "      <td id=\"T_5ead9_row6_col0\" class=\"data row6 col0\" >Transformed test set shape</td>\n",
              "      <td id=\"T_5ead9_row6_col1\" class=\"data row6 col1\" >(3711, 784)</td>\n",
              "    </tr>\n",
              "    <tr>\n",
              "      <th id=\"T_5ead9_level0_row7\" class=\"row_heading level0 row7\" >7</th>\n",
              "      <td id=\"T_5ead9_row7_col0\" class=\"data row7 col0\" >Numeric features</td>\n",
              "      <td id=\"T_5ead9_row7_col1\" class=\"data row7 col1\" >783</td>\n",
              "    </tr>\n",
              "    <tr>\n",
              "      <th id=\"T_5ead9_level0_row8\" class=\"row_heading level0 row8\" >8</th>\n",
              "      <td id=\"T_5ead9_row8_col0\" class=\"data row8 col0\" >Preprocess</td>\n",
              "      <td id=\"T_5ead9_row8_col1\" class=\"data row8 col1\" >True</td>\n",
              "    </tr>\n",
              "    <tr>\n",
              "      <th id=\"T_5ead9_level0_row9\" class=\"row_heading level0 row9\" >9</th>\n",
              "      <td id=\"T_5ead9_row9_col0\" class=\"data row9 col0\" >Imputation type</td>\n",
              "      <td id=\"T_5ead9_row9_col1\" class=\"data row9 col1\" >simple</td>\n",
              "    </tr>\n",
              "    <tr>\n",
              "      <th id=\"T_5ead9_level0_row10\" class=\"row_heading level0 row10\" >10</th>\n",
              "      <td id=\"T_5ead9_row10_col0\" class=\"data row10 col0\" >Numeric imputation</td>\n",
              "      <td id=\"T_5ead9_row10_col1\" class=\"data row10 col1\" >mean</td>\n",
              "    </tr>\n",
              "    <tr>\n",
              "      <th id=\"T_5ead9_level0_row11\" class=\"row_heading level0 row11\" >11</th>\n",
              "      <td id=\"T_5ead9_row11_col0\" class=\"data row11 col0\" >Categorical imputation</td>\n",
              "      <td id=\"T_5ead9_row11_col1\" class=\"data row11 col1\" >mode</td>\n",
              "    </tr>\n",
              "    <tr>\n",
              "      <th id=\"T_5ead9_level0_row12\" class=\"row_heading level0 row12\" >12</th>\n",
              "      <td id=\"T_5ead9_row12_col0\" class=\"data row12 col0\" >Fold Generator</td>\n",
              "      <td id=\"T_5ead9_row12_col1\" class=\"data row12 col1\" >KFold</td>\n",
              "    </tr>\n",
              "    <tr>\n",
              "      <th id=\"T_5ead9_level0_row13\" class=\"row_heading level0 row13\" >13</th>\n",
              "      <td id=\"T_5ead9_row13_col0\" class=\"data row13 col0\" >Fold Number</td>\n",
              "      <td id=\"T_5ead9_row13_col1\" class=\"data row13 col1\" >10</td>\n",
              "    </tr>\n",
              "    <tr>\n",
              "      <th id=\"T_5ead9_level0_row14\" class=\"row_heading level0 row14\" >14</th>\n",
              "      <td id=\"T_5ead9_row14_col0\" class=\"data row14 col0\" >CPU Jobs</td>\n",
              "      <td id=\"T_5ead9_row14_col1\" class=\"data row14 col1\" >-1</td>\n",
              "    </tr>\n",
              "    <tr>\n",
              "      <th id=\"T_5ead9_level0_row15\" class=\"row_heading level0 row15\" >15</th>\n",
              "      <td id=\"T_5ead9_row15_col0\" class=\"data row15 col0\" >Use GPU</td>\n",
              "      <td id=\"T_5ead9_row15_col1\" class=\"data row15 col1\" >False</td>\n",
              "    </tr>\n",
              "    <tr>\n",
              "      <th id=\"T_5ead9_level0_row16\" class=\"row_heading level0 row16\" >16</th>\n",
              "      <td id=\"T_5ead9_row16_col0\" class=\"data row16 col0\" >Log Experiment</td>\n",
              "      <td id=\"T_5ead9_row16_col1\" class=\"data row16 col1\" >False</td>\n",
              "    </tr>\n",
              "    <tr>\n",
              "      <th id=\"T_5ead9_level0_row17\" class=\"row_heading level0 row17\" >17</th>\n",
              "      <td id=\"T_5ead9_row17_col0\" class=\"data row17 col0\" >Experiment Name</td>\n",
              "      <td id=\"T_5ead9_row17_col1\" class=\"data row17 col1\" >reg-default-name</td>\n",
              "    </tr>\n",
              "    <tr>\n",
              "      <th id=\"T_5ead9_level0_row18\" class=\"row_heading level0 row18\" >18</th>\n",
              "      <td id=\"T_5ead9_row18_col0\" class=\"data row18 col0\" >USI</td>\n",
              "      <td id=\"T_5ead9_row18_col1\" class=\"data row18 col1\" >7d9d</td>\n",
              "    </tr>\n",
              "  </tbody>\n",
              "</table>\n"
            ]
          },
          "metadata": {}
        }
      ],
      "source": [
        "s = setup(data = df_dummies, \n",
        "          target = 'delta_areakm', \n",
        "          remove_outliers = False,\n",
        "          session_id = 123)"
      ]
    },
    {
      "cell_type": "code",
      "execution_count": 27,
      "metadata": {
        "colab": {
          "base_uri": "https://localhost:8080/",
          "height": 865
        },
        "id": "8_J8nIcyF8g-",
        "outputId": "5b915843-cf9a-4eb0-ddf5-03d587ec6194"
      },
      "outputs": [
        {
          "output_type": "execute_result",
          "data": {
            "text/plain": [
              "                                       Name  \\\n",
              "ID                                            \n",
              "lr                        Linear Regression   \n",
              "lasso                      Lasso Regression   \n",
              "ridge                      Ridge Regression   \n",
              "en                              Elastic Net   \n",
              "lar                  Least Angle Regression   \n",
              "llar           Lasso Least Angle Regression   \n",
              "omp             Orthogonal Matching Pursuit   \n",
              "br                           Bayesian Ridge   \n",
              "ard       Automatic Relevance Determination   \n",
              "par            Passive Aggressive Regressor   \n",
              "ransac              Random Sample Consensus   \n",
              "tr                       TheilSen Regressor   \n",
              "huber                       Huber Regressor   \n",
              "kr                             Kernel Ridge   \n",
              "svm               Support Vector Regression   \n",
              "knn                   K Neighbors Regressor   \n",
              "dt                  Decision Tree Regressor   \n",
              "rf                  Random Forest Regressor   \n",
              "et                    Extra Trees Regressor   \n",
              "ada                      AdaBoost Regressor   \n",
              "gbr             Gradient Boosting Regressor   \n",
              "mlp                           MLP Regressor   \n",
              "xgboost           Extreme Gradient Boosting   \n",
              "lightgbm    Light Gradient Boosting Machine   \n",
              "dummy                       Dummy Regressor   \n",
              "\n",
              "                                                  Reference  Turbo  \n",
              "ID                                                                  \n",
              "lr              sklearn.linear_model._base.LinearRegression   True  \n",
              "lasso        sklearn.linear_model._coordinate_descent.Lasso   True  \n",
              "ridge                     sklearn.linear_model._ridge.Ridge   True  \n",
              "en        sklearn.linear_model._coordinate_descent.Elast...   True  \n",
              "lar                  sklearn.linear_model._least_angle.Lars   True  \n",
              "llar            sklearn.linear_model._least_angle.LassoLars   True  \n",
              "omp       sklearn.linear_model._omp.OrthogonalMatchingPu...   True  \n",
              "br                sklearn.linear_model._bayes.BayesianRidge   True  \n",
              "ard               sklearn.linear_model._bayes.ARDRegression  False  \n",
              "par       sklearn.linear_model._passive_aggressive.Passi...   True  \n",
              "ransac         sklearn.linear_model._ransac.RANSACRegressor  False  \n",
              "tr        sklearn.linear_model._theil_sen.TheilSenRegressor  False  \n",
              "huber            sklearn.linear_model._huber.HuberRegressor   True  \n",
              "kr                         sklearn.kernel_ridge.KernelRidge  False  \n",
              "svm                                sklearn.svm._classes.SVR  False  \n",
              "knn       sklearn.neighbors._regression.KNeighborsRegressor   True  \n",
              "dt              sklearn.tree._classes.DecisionTreeRegressor   True  \n",
              "rf           sklearn.ensemble._forest.RandomForestRegressor   True  \n",
              "et             sklearn.ensemble._forest.ExtraTreesRegressor   True  \n",
              "ada       sklearn.ensemble._weight_boosting.AdaBoostRegr...   True  \n",
              "gbr          sklearn.ensemble._gb.GradientBoostingRegressor   True  \n",
              "mlp       sklearn.neural_network._multilayer_perceptron....  False  \n",
              "xgboost                        xgboost.sklearn.XGBRegressor   True  \n",
              "lightgbm                     lightgbm.sklearn.LGBMRegressor   True  \n",
              "dummy                          sklearn.dummy.DummyRegressor   True  "
            ],
            "text/html": [
              "\n",
              "  <div id=\"df-3f5d5064-12bc-4b5d-b56f-100c422cf91d\">\n",
              "    <div class=\"colab-df-container\">\n",
              "      <div>\n",
              "<style scoped>\n",
              "    .dataframe tbody tr th:only-of-type {\n",
              "        vertical-align: middle;\n",
              "    }\n",
              "\n",
              "    .dataframe tbody tr th {\n",
              "        vertical-align: top;\n",
              "    }\n",
              "\n",
              "    .dataframe thead th {\n",
              "        text-align: right;\n",
              "    }\n",
              "</style>\n",
              "<table border=\"1\" class=\"dataframe\">\n",
              "  <thead>\n",
              "    <tr style=\"text-align: right;\">\n",
              "      <th></th>\n",
              "      <th>Name</th>\n",
              "      <th>Reference</th>\n",
              "      <th>Turbo</th>\n",
              "    </tr>\n",
              "    <tr>\n",
              "      <th>ID</th>\n",
              "      <th></th>\n",
              "      <th></th>\n",
              "      <th></th>\n",
              "    </tr>\n",
              "  </thead>\n",
              "  <tbody>\n",
              "    <tr>\n",
              "      <th>lr</th>\n",
              "      <td>Linear Regression</td>\n",
              "      <td>sklearn.linear_model._base.LinearRegression</td>\n",
              "      <td>True</td>\n",
              "    </tr>\n",
              "    <tr>\n",
              "      <th>lasso</th>\n",
              "      <td>Lasso Regression</td>\n",
              "      <td>sklearn.linear_model._coordinate_descent.Lasso</td>\n",
              "      <td>True</td>\n",
              "    </tr>\n",
              "    <tr>\n",
              "      <th>ridge</th>\n",
              "      <td>Ridge Regression</td>\n",
              "      <td>sklearn.linear_model._ridge.Ridge</td>\n",
              "      <td>True</td>\n",
              "    </tr>\n",
              "    <tr>\n",
              "      <th>en</th>\n",
              "      <td>Elastic Net</td>\n",
              "      <td>sklearn.linear_model._coordinate_descent.Elast...</td>\n",
              "      <td>True</td>\n",
              "    </tr>\n",
              "    <tr>\n",
              "      <th>lar</th>\n",
              "      <td>Least Angle Regression</td>\n",
              "      <td>sklearn.linear_model._least_angle.Lars</td>\n",
              "      <td>True</td>\n",
              "    </tr>\n",
              "    <tr>\n",
              "      <th>llar</th>\n",
              "      <td>Lasso Least Angle Regression</td>\n",
              "      <td>sklearn.linear_model._least_angle.LassoLars</td>\n",
              "      <td>True</td>\n",
              "    </tr>\n",
              "    <tr>\n",
              "      <th>omp</th>\n",
              "      <td>Orthogonal Matching Pursuit</td>\n",
              "      <td>sklearn.linear_model._omp.OrthogonalMatchingPu...</td>\n",
              "      <td>True</td>\n",
              "    </tr>\n",
              "    <tr>\n",
              "      <th>br</th>\n",
              "      <td>Bayesian Ridge</td>\n",
              "      <td>sklearn.linear_model._bayes.BayesianRidge</td>\n",
              "      <td>True</td>\n",
              "    </tr>\n",
              "    <tr>\n",
              "      <th>ard</th>\n",
              "      <td>Automatic Relevance Determination</td>\n",
              "      <td>sklearn.linear_model._bayes.ARDRegression</td>\n",
              "      <td>False</td>\n",
              "    </tr>\n",
              "    <tr>\n",
              "      <th>par</th>\n",
              "      <td>Passive Aggressive Regressor</td>\n",
              "      <td>sklearn.linear_model._passive_aggressive.Passi...</td>\n",
              "      <td>True</td>\n",
              "    </tr>\n",
              "    <tr>\n",
              "      <th>ransac</th>\n",
              "      <td>Random Sample Consensus</td>\n",
              "      <td>sklearn.linear_model._ransac.RANSACRegressor</td>\n",
              "      <td>False</td>\n",
              "    </tr>\n",
              "    <tr>\n",
              "      <th>tr</th>\n",
              "      <td>TheilSen Regressor</td>\n",
              "      <td>sklearn.linear_model._theil_sen.TheilSenRegressor</td>\n",
              "      <td>False</td>\n",
              "    </tr>\n",
              "    <tr>\n",
              "      <th>huber</th>\n",
              "      <td>Huber Regressor</td>\n",
              "      <td>sklearn.linear_model._huber.HuberRegressor</td>\n",
              "      <td>True</td>\n",
              "    </tr>\n",
              "    <tr>\n",
              "      <th>kr</th>\n",
              "      <td>Kernel Ridge</td>\n",
              "      <td>sklearn.kernel_ridge.KernelRidge</td>\n",
              "      <td>False</td>\n",
              "    </tr>\n",
              "    <tr>\n",
              "      <th>svm</th>\n",
              "      <td>Support Vector Regression</td>\n",
              "      <td>sklearn.svm._classes.SVR</td>\n",
              "      <td>False</td>\n",
              "    </tr>\n",
              "    <tr>\n",
              "      <th>knn</th>\n",
              "      <td>K Neighbors Regressor</td>\n",
              "      <td>sklearn.neighbors._regression.KNeighborsRegressor</td>\n",
              "      <td>True</td>\n",
              "    </tr>\n",
              "    <tr>\n",
              "      <th>dt</th>\n",
              "      <td>Decision Tree Regressor</td>\n",
              "      <td>sklearn.tree._classes.DecisionTreeRegressor</td>\n",
              "      <td>True</td>\n",
              "    </tr>\n",
              "    <tr>\n",
              "      <th>rf</th>\n",
              "      <td>Random Forest Regressor</td>\n",
              "      <td>sklearn.ensemble._forest.RandomForestRegressor</td>\n",
              "      <td>True</td>\n",
              "    </tr>\n",
              "    <tr>\n",
              "      <th>et</th>\n",
              "      <td>Extra Trees Regressor</td>\n",
              "      <td>sklearn.ensemble._forest.ExtraTreesRegressor</td>\n",
              "      <td>True</td>\n",
              "    </tr>\n",
              "    <tr>\n",
              "      <th>ada</th>\n",
              "      <td>AdaBoost Regressor</td>\n",
              "      <td>sklearn.ensemble._weight_boosting.AdaBoostRegr...</td>\n",
              "      <td>True</td>\n",
              "    </tr>\n",
              "    <tr>\n",
              "      <th>gbr</th>\n",
              "      <td>Gradient Boosting Regressor</td>\n",
              "      <td>sklearn.ensemble._gb.GradientBoostingRegressor</td>\n",
              "      <td>True</td>\n",
              "    </tr>\n",
              "    <tr>\n",
              "      <th>mlp</th>\n",
              "      <td>MLP Regressor</td>\n",
              "      <td>sklearn.neural_network._multilayer_perceptron....</td>\n",
              "      <td>False</td>\n",
              "    </tr>\n",
              "    <tr>\n",
              "      <th>xgboost</th>\n",
              "      <td>Extreme Gradient Boosting</td>\n",
              "      <td>xgboost.sklearn.XGBRegressor</td>\n",
              "      <td>True</td>\n",
              "    </tr>\n",
              "    <tr>\n",
              "      <th>lightgbm</th>\n",
              "      <td>Light Gradient Boosting Machine</td>\n",
              "      <td>lightgbm.sklearn.LGBMRegressor</td>\n",
              "      <td>True</td>\n",
              "    </tr>\n",
              "    <tr>\n",
              "      <th>dummy</th>\n",
              "      <td>Dummy Regressor</td>\n",
              "      <td>sklearn.dummy.DummyRegressor</td>\n",
              "      <td>True</td>\n",
              "    </tr>\n",
              "  </tbody>\n",
              "</table>\n",
              "</div>\n",
              "      <button class=\"colab-df-convert\" onclick=\"convertToInteractive('df-3f5d5064-12bc-4b5d-b56f-100c422cf91d')\"\n",
              "              title=\"Convert this dataframe to an interactive table.\"\n",
              "              style=\"display:none;\">\n",
              "        \n",
              "  <svg xmlns=\"http://www.w3.org/2000/svg\" height=\"24px\"viewBox=\"0 0 24 24\"\n",
              "       width=\"24px\">\n",
              "    <path d=\"M0 0h24v24H0V0z\" fill=\"none\"/>\n",
              "    <path d=\"M18.56 5.44l.94 2.06.94-2.06 2.06-.94-2.06-.94-.94-2.06-.94 2.06-2.06.94zm-11 1L8.5 8.5l.94-2.06 2.06-.94-2.06-.94L8.5 2.5l-.94 2.06-2.06.94zm10 10l.94 2.06.94-2.06 2.06-.94-2.06-.94-.94-2.06-.94 2.06-2.06.94z\"/><path d=\"M17.41 7.96l-1.37-1.37c-.4-.4-.92-.59-1.43-.59-.52 0-1.04.2-1.43.59L10.3 9.45l-7.72 7.72c-.78.78-.78 2.05 0 2.83L4 21.41c.39.39.9.59 1.41.59.51 0 1.02-.2 1.41-.59l7.78-7.78 2.81-2.81c.8-.78.8-2.07 0-2.86zM5.41 20L4 18.59l7.72-7.72 1.47 1.35L5.41 20z\"/>\n",
              "  </svg>\n",
              "      </button>\n",
              "      \n",
              "  <style>\n",
              "    .colab-df-container {\n",
              "      display:flex;\n",
              "      flex-wrap:wrap;\n",
              "      gap: 12px;\n",
              "    }\n",
              "\n",
              "    .colab-df-convert {\n",
              "      background-color: #E8F0FE;\n",
              "      border: none;\n",
              "      border-radius: 50%;\n",
              "      cursor: pointer;\n",
              "      display: none;\n",
              "      fill: #1967D2;\n",
              "      height: 32px;\n",
              "      padding: 0 0 0 0;\n",
              "      width: 32px;\n",
              "    }\n",
              "\n",
              "    .colab-df-convert:hover {\n",
              "      background-color: #E2EBFA;\n",
              "      box-shadow: 0px 1px 2px rgba(60, 64, 67, 0.3), 0px 1px 3px 1px rgba(60, 64, 67, 0.15);\n",
              "      fill: #174EA6;\n",
              "    }\n",
              "\n",
              "    [theme=dark] .colab-df-convert {\n",
              "      background-color: #3B4455;\n",
              "      fill: #D2E3FC;\n",
              "    }\n",
              "\n",
              "    [theme=dark] .colab-df-convert:hover {\n",
              "      background-color: #434B5C;\n",
              "      box-shadow: 0px 1px 3px 1px rgba(0, 0, 0, 0.15);\n",
              "      filter: drop-shadow(0px 1px 2px rgba(0, 0, 0, 0.3));\n",
              "      fill: #FFFFFF;\n",
              "    }\n",
              "  </style>\n",
              "\n",
              "      <script>\n",
              "        const buttonEl =\n",
              "          document.querySelector('#df-3f5d5064-12bc-4b5d-b56f-100c422cf91d button.colab-df-convert');\n",
              "        buttonEl.style.display =\n",
              "          google.colab.kernel.accessAllowed ? 'block' : 'none';\n",
              "\n",
              "        async function convertToInteractive(key) {\n",
              "          const element = document.querySelector('#df-3f5d5064-12bc-4b5d-b56f-100c422cf91d');\n",
              "          const dataTable =\n",
              "            await google.colab.kernel.invokeFunction('convertToInteractive',\n",
              "                                                     [key], {});\n",
              "          if (!dataTable) return;\n",
              "\n",
              "          const docLinkHtml = 'Like what you see? Visit the ' +\n",
              "            '<a target=\"_blank\" href=https://colab.research.google.com/notebooks/data_table.ipynb>data table notebook</a>'\n",
              "            + ' to learn more about interactive tables.';\n",
              "          element.innerHTML = '';\n",
              "          dataTable['output_type'] = 'display_data';\n",
              "          await google.colab.output.renderOutput(dataTable, element);\n",
              "          const docLink = document.createElement('div');\n",
              "          docLink.innerHTML = docLinkHtml;\n",
              "          element.appendChild(docLink);\n",
              "        }\n",
              "      </script>\n",
              "    </div>\n",
              "  </div>\n",
              "  "
            ]
          },
          "metadata": {},
          "execution_count": 27
        }
      ],
      "source": [
        "models()"
      ]
    },
    {
      "cell_type": "code",
      "execution_count": 28,
      "metadata": {
        "colab": {
          "base_uri": "https://localhost:8080/",
          "height": 645,
          "referenced_widgets": [
            "d01830d871d04b348b82731978753484",
            "fd2b1f2aec8a448194cddfb6f8ee5690",
            "8413d4b09c1c444d89768a2bad3da529",
            "1ac6dbb5e5844ab691e26243e8f6ed11",
            "ad98d2ffa4ed49f68584422d703906d9",
            "930119913f4041af889d8e290239a5f5",
            "f34bc07be4404e4bb110929503dfcb9b",
            "70f57a9a34b84103b963a79a8b283e7e",
            "4899c37ce60f48dcbff6ecc20fabaefb",
            "90192f828dd14e899a344cb79564e5d7",
            "a21ba4928a4f45598fe1cd0cab51e92b"
          ]
        },
        "id": "29pssUSZGfWR",
        "outputId": "68c07070-90c0-41c8-982c-9786964b2fda"
      },
      "outputs": [
        {
          "output_type": "display_data",
          "data": {
            "text/plain": [
              "<IPython.core.display.HTML object>"
            ],
            "text/html": []
          },
          "metadata": {}
        },
        {
          "output_type": "display_data",
          "data": {
            "text/plain": [
              "<pandas.io.formats.style.Styler at 0x7f3421491750>"
            ],
            "text/html": [
              "<style type=\"text/css\">\n",
              "#T_3a251 th {\n",
              "  text-align: left;\n",
              "}\n",
              "#T_3a251_row0_col0, #T_3a251_row0_col6, #T_3a251_row1_col0, #T_3a251_row1_col1, #T_3a251_row1_col2, #T_3a251_row1_col3, #T_3a251_row1_col4, #T_3a251_row1_col5, #T_3a251_row2_col0, #T_3a251_row2_col1, #T_3a251_row2_col2, #T_3a251_row2_col3, #T_3a251_row2_col4, #T_3a251_row2_col5, #T_3a251_row2_col6, #T_3a251_row3_col0, #T_3a251_row3_col1, #T_3a251_row3_col2, #T_3a251_row3_col3, #T_3a251_row3_col4, #T_3a251_row3_col5, #T_3a251_row3_col6, #T_3a251_row4_col0, #T_3a251_row4_col1, #T_3a251_row4_col2, #T_3a251_row4_col3, #T_3a251_row4_col4, #T_3a251_row4_col5, #T_3a251_row4_col6, #T_3a251_row5_col0, #T_3a251_row5_col1, #T_3a251_row5_col2, #T_3a251_row5_col3, #T_3a251_row5_col4, #T_3a251_row5_col5, #T_3a251_row5_col6, #T_3a251_row6_col0, #T_3a251_row6_col1, #T_3a251_row6_col2, #T_3a251_row6_col3, #T_3a251_row6_col4, #T_3a251_row6_col5, #T_3a251_row6_col6, #T_3a251_row7_col0, #T_3a251_row7_col1, #T_3a251_row7_col2, #T_3a251_row7_col3, #T_3a251_row7_col4, #T_3a251_row7_col5, #T_3a251_row7_col6, #T_3a251_row8_col0, #T_3a251_row8_col1, #T_3a251_row8_col2, #T_3a251_row8_col3, #T_3a251_row8_col4, #T_3a251_row8_col5, #T_3a251_row8_col6, #T_3a251_row9_col0, #T_3a251_row9_col1, #T_3a251_row9_col2, #T_3a251_row9_col3, #T_3a251_row9_col4, #T_3a251_row9_col5, #T_3a251_row9_col6, #T_3a251_row10_col0, #T_3a251_row10_col1, #T_3a251_row10_col2, #T_3a251_row10_col3, #T_3a251_row10_col4, #T_3a251_row10_col5, #T_3a251_row10_col6, #T_3a251_row11_col0, #T_3a251_row11_col1, #T_3a251_row11_col2, #T_3a251_row11_col3, #T_3a251_row11_col4, #T_3a251_row11_col5, #T_3a251_row11_col6, #T_3a251_row12_col0, #T_3a251_row12_col1, #T_3a251_row12_col2, #T_3a251_row12_col3, #T_3a251_row12_col4, #T_3a251_row12_col5, #T_3a251_row12_col6, #T_3a251_row13_col0, #T_3a251_row13_col1, #T_3a251_row13_col2, #T_3a251_row13_col3, #T_3a251_row13_col4, #T_3a251_row13_col5, #T_3a251_row13_col6, #T_3a251_row14_col0, #T_3a251_row14_col1, #T_3a251_row14_col2, #T_3a251_row14_col3, #T_3a251_row14_col4, #T_3a251_row14_col5, #T_3a251_row14_col6, #T_3a251_row15_col0, #T_3a251_row15_col1, #T_3a251_row15_col2, #T_3a251_row15_col3, #T_3a251_row15_col4, #T_3a251_row15_col5, #T_3a251_row15_col6, #T_3a251_row16_col0, #T_3a251_row16_col1, #T_3a251_row16_col2, #T_3a251_row16_col3, #T_3a251_row16_col4, #T_3a251_row16_col5, #T_3a251_row16_col6, #T_3a251_row17_col0, #T_3a251_row17_col1, #T_3a251_row17_col2, #T_3a251_row17_col3, #T_3a251_row17_col4, #T_3a251_row17_col5, #T_3a251_row17_col6, #T_3a251_row18_col0, #T_3a251_row18_col1, #T_3a251_row18_col2, #T_3a251_row18_col3, #T_3a251_row18_col4, #T_3a251_row18_col5, #T_3a251_row18_col6 {\n",
              "  text-align: left;\n",
              "}\n",
              "#T_3a251_row0_col1, #T_3a251_row0_col2, #T_3a251_row0_col3, #T_3a251_row0_col4, #T_3a251_row0_col5, #T_3a251_row1_col6 {\n",
              "  text-align: left;\n",
              "  background-color: yellow;\n",
              "}\n",
              "#T_3a251_row0_col7, #T_3a251_row1_col7, #T_3a251_row2_col7, #T_3a251_row3_col7, #T_3a251_row4_col7, #T_3a251_row5_col7, #T_3a251_row6_col7, #T_3a251_row7_col7, #T_3a251_row8_col7, #T_3a251_row9_col7, #T_3a251_row10_col7, #T_3a251_row11_col7, #T_3a251_row12_col7, #T_3a251_row13_col7, #T_3a251_row15_col7, #T_3a251_row16_col7, #T_3a251_row17_col7, #T_3a251_row18_col7 {\n",
              "  text-align: left;\n",
              "  background-color: lightgrey;\n",
              "}\n",
              "#T_3a251_row14_col7 {\n",
              "  text-align: left;\n",
              "  background-color: yellow;\n",
              "  background-color: lightgrey;\n",
              "}\n",
              "</style>\n",
              "<table id=\"T_3a251\" class=\"dataframe\">\n",
              "  <thead>\n",
              "    <tr>\n",
              "      <th class=\"blank level0\" >&nbsp;</th>\n",
              "      <th id=\"T_3a251_level0_col0\" class=\"col_heading level0 col0\" >Model</th>\n",
              "      <th id=\"T_3a251_level0_col1\" class=\"col_heading level0 col1\" >MAE</th>\n",
              "      <th id=\"T_3a251_level0_col2\" class=\"col_heading level0 col2\" >MSE</th>\n",
              "      <th id=\"T_3a251_level0_col3\" class=\"col_heading level0 col3\" >RMSE</th>\n",
              "      <th id=\"T_3a251_level0_col4\" class=\"col_heading level0 col4\" >R2</th>\n",
              "      <th id=\"T_3a251_level0_col5\" class=\"col_heading level0 col5\" >RMSLE</th>\n",
              "      <th id=\"T_3a251_level0_col6\" class=\"col_heading level0 col6\" >MAPE</th>\n",
              "      <th id=\"T_3a251_level0_col7\" class=\"col_heading level0 col7\" >TT (Sec)</th>\n",
              "    </tr>\n",
              "  </thead>\n",
              "  <tbody>\n",
              "    <tr>\n",
              "      <th id=\"T_3a251_level0_row0\" class=\"row_heading level0 row0\" >rf</th>\n",
              "      <td id=\"T_3a251_row0_col0\" class=\"data row0 col0\" >Random Forest Regressor</td>\n",
              "      <td id=\"T_3a251_row0_col1\" class=\"data row0 col1\" >4.8044</td>\n",
              "      <td id=\"T_3a251_row0_col2\" class=\"data row0 col2\" >382.9685</td>\n",
              "      <td id=\"T_3a251_row0_col3\" class=\"data row0 col3\" >19.2179</td>\n",
              "      <td id=\"T_3a251_row0_col4\" class=\"data row0 col4\" >0.7108</td>\n",
              "      <td id=\"T_3a251_row0_col5\" class=\"data row0 col5\" >0.6353</td>\n",
              "      <td id=\"T_3a251_row0_col6\" class=\"data row0 col6\" >2.5779</td>\n",
              "      <td id=\"T_3a251_row0_col7\" class=\"data row0 col7\" >60.7870</td>\n",
              "    </tr>\n",
              "    <tr>\n",
              "      <th id=\"T_3a251_level0_row1\" class=\"row_heading level0 row1\" >knn</th>\n",
              "      <td id=\"T_3a251_row1_col0\" class=\"data row1 col0\" >K Neighbors Regressor</td>\n",
              "      <td id=\"T_3a251_row1_col1\" class=\"data row1 col1\" >5.1071</td>\n",
              "      <td id=\"T_3a251_row1_col2\" class=\"data row1 col2\" >395.5011</td>\n",
              "      <td id=\"T_3a251_row1_col3\" class=\"data row1 col3\" >19.6006</td>\n",
              "      <td id=\"T_3a251_row1_col4\" class=\"data row1 col4\" >0.7033</td>\n",
              "      <td id=\"T_3a251_row1_col5\" class=\"data row1 col5\" >0.6634</td>\n",
              "      <td id=\"T_3a251_row1_col6\" class=\"data row1 col6\" >2.0858</td>\n",
              "      <td id=\"T_3a251_row1_col7\" class=\"data row1 col7\" >0.8900</td>\n",
              "    </tr>\n",
              "    <tr>\n",
              "      <th id=\"T_3a251_level0_row2\" class=\"row_heading level0 row2\" >xgboost</th>\n",
              "      <td id=\"T_3a251_row2_col0\" class=\"data row2 col0\" >Extreme Gradient Boosting</td>\n",
              "      <td id=\"T_3a251_row2_col1\" class=\"data row2 col1\" >6.1808</td>\n",
              "      <td id=\"T_3a251_row2_col2\" class=\"data row2 col2\" >422.0883</td>\n",
              "      <td id=\"T_3a251_row2_col3\" class=\"data row2 col3\" >19.9817</td>\n",
              "      <td id=\"T_3a251_row2_col4\" class=\"data row2 col4\" >0.6910</td>\n",
              "      <td id=\"T_3a251_row2_col5\" class=\"data row2 col5\" >1.0105</td>\n",
              "      <td id=\"T_3a251_row2_col6\" class=\"data row2 col6\" >18.8923</td>\n",
              "      <td id=\"T_3a251_row2_col7\" class=\"data row2 col7\" >31.6050</td>\n",
              "    </tr>\n",
              "    <tr>\n",
              "      <th id=\"T_3a251_level0_row3\" class=\"row_heading level0 row3\" >et</th>\n",
              "      <td id=\"T_3a251_row3_col0\" class=\"data row3 col0\" >Extra Trees Regressor</td>\n",
              "      <td id=\"T_3a251_row3_col1\" class=\"data row3 col1\" >5.0077</td>\n",
              "      <td id=\"T_3a251_row3_col2\" class=\"data row3 col2\" >440.0176</td>\n",
              "      <td id=\"T_3a251_row3_col3\" class=\"data row3 col3\" >20.4792</td>\n",
              "      <td id=\"T_3a251_row3_col4\" class=\"data row3 col4\" >0.6683</td>\n",
              "      <td id=\"T_3a251_row3_col5\" class=\"data row3 col5\" >0.6876</td>\n",
              "      <td id=\"T_3a251_row3_col6\" class=\"data row3 col6\" >3.1324</td>\n",
              "      <td id=\"T_3a251_row3_col7\" class=\"data row3 col7\" >109.2730</td>\n",
              "    </tr>\n",
              "    <tr>\n",
              "      <th id=\"T_3a251_level0_row4\" class=\"row_heading level0 row4\" >dt</th>\n",
              "      <td id=\"T_3a251_row4_col0\" class=\"data row4 col0\" >Decision Tree Regressor</td>\n",
              "      <td id=\"T_3a251_row4_col1\" class=\"data row4 col1\" >5.5373</td>\n",
              "      <td id=\"T_3a251_row4_col2\" class=\"data row4 col2\" >546.7059</td>\n",
              "      <td id=\"T_3a251_row4_col3\" class=\"data row4 col3\" >22.9037</td>\n",
              "      <td id=\"T_3a251_row4_col4\" class=\"data row4 col4\" >0.5856</td>\n",
              "      <td id=\"T_3a251_row4_col5\" class=\"data row4 col5\" >0.7644</td>\n",
              "      <td id=\"T_3a251_row4_col6\" class=\"data row4 col6\" >3.3761</td>\n",
              "      <td id=\"T_3a251_row4_col7\" class=\"data row4 col7\" >1.6470</td>\n",
              "    </tr>\n",
              "    <tr>\n",
              "      <th id=\"T_3a251_level0_row5\" class=\"row_heading level0 row5\" >ridge</th>\n",
              "      <td id=\"T_3a251_row5_col0\" class=\"data row5 col0\" >Ridge Regression</td>\n",
              "      <td id=\"T_3a251_row5_col1\" class=\"data row5 col1\" >7.6959</td>\n",
              "      <td id=\"T_3a251_row5_col2\" class=\"data row5 col2\" >549.3817</td>\n",
              "      <td id=\"T_3a251_row5_col3\" class=\"data row5 col3\" >23.2704</td>\n",
              "      <td id=\"T_3a251_row5_col4\" class=\"data row5 col4\" >0.5833</td>\n",
              "      <td id=\"T_3a251_row5_col5\" class=\"data row5 col5\" >1.1424</td>\n",
              "      <td id=\"T_3a251_row5_col6\" class=\"data row5 col6\" >36.3797</td>\n",
              "      <td id=\"T_3a251_row5_col7\" class=\"data row5 col7\" >1.2840</td>\n",
              "    </tr>\n",
              "    <tr>\n",
              "      <th id=\"T_3a251_level0_row6\" class=\"row_heading level0 row6\" >br</th>\n",
              "      <td id=\"T_3a251_row6_col0\" class=\"data row6 col0\" >Bayesian Ridge</td>\n",
              "      <td id=\"T_3a251_row6_col1\" class=\"data row6 col1\" >7.7187</td>\n",
              "      <td id=\"T_3a251_row6_col2\" class=\"data row6 col2\" >548.7217</td>\n",
              "      <td id=\"T_3a251_row6_col3\" class=\"data row6 col3\" >23.2660</td>\n",
              "      <td id=\"T_3a251_row6_col4\" class=\"data row6 col4\" >0.5821</td>\n",
              "      <td id=\"T_3a251_row6_col5\" class=\"data row6 col5\" >1.1430</td>\n",
              "      <td id=\"T_3a251_row6_col6\" class=\"data row6 col6\" >35.8562</td>\n",
              "      <td id=\"T_3a251_row6_col7\" class=\"data row6 col7\" >2.7680</td>\n",
              "    </tr>\n",
              "    <tr>\n",
              "      <th id=\"T_3a251_level0_row7\" class=\"row_heading level0 row7\" >lr</th>\n",
              "      <td id=\"T_3a251_row7_col0\" class=\"data row7 col0\" >Linear Regression</td>\n",
              "      <td id=\"T_3a251_row7_col1\" class=\"data row7 col1\" >7.8329</td>\n",
              "      <td id=\"T_3a251_row7_col2\" class=\"data row7 col2\" >551.0506</td>\n",
              "      <td id=\"T_3a251_row7_col3\" class=\"data row7 col3\" >23.3332</td>\n",
              "      <td id=\"T_3a251_row7_col4\" class=\"data row7 col4\" >0.5767</td>\n",
              "      <td id=\"T_3a251_row7_col5\" class=\"data row7 col5\" >1.1505</td>\n",
              "      <td id=\"T_3a251_row7_col6\" class=\"data row7 col6\" >35.6754</td>\n",
              "      <td id=\"T_3a251_row7_col7\" class=\"data row7 col7\" >2.8320</td>\n",
              "    </tr>\n",
              "    <tr>\n",
              "      <th id=\"T_3a251_level0_row8\" class=\"row_heading level0 row8\" >gbr</th>\n",
              "      <td id=\"T_3a251_row8_col0\" class=\"data row8 col0\" >Gradient Boosting Regressor</td>\n",
              "      <td id=\"T_3a251_row8_col1\" class=\"data row8 col1\" >9.1544</td>\n",
              "      <td id=\"T_3a251_row8_col2\" class=\"data row8 col2\" >574.7855</td>\n",
              "      <td id=\"T_3a251_row8_col3\" class=\"data row8 col3\" >23.6960</td>\n",
              "      <td id=\"T_3a251_row8_col4\" class=\"data row8 col4\" >0.5586</td>\n",
              "      <td id=\"T_3a251_row8_col5\" class=\"data row8 col5\" >1.3995</td>\n",
              "      <td id=\"T_3a251_row8_col6\" class=\"data row8 col6\" >40.6822</td>\n",
              "      <td id=\"T_3a251_row8_col7\" class=\"data row8 col7\" >8.6200</td>\n",
              "    </tr>\n",
              "    <tr>\n",
              "      <th id=\"T_3a251_level0_row9\" class=\"row_heading level0 row9\" >omp</th>\n",
              "      <td id=\"T_3a251_row9_col0\" class=\"data row9 col0\" >Orthogonal Matching Pursuit</td>\n",
              "      <td id=\"T_3a251_row9_col1\" class=\"data row9 col1\" >8.3862</td>\n",
              "      <td id=\"T_3a251_row9_col2\" class=\"data row9 col2\" >580.3489</td>\n",
              "      <td id=\"T_3a251_row9_col3\" class=\"data row9 col3\" >23.9583</td>\n",
              "      <td id=\"T_3a251_row9_col4\" class=\"data row9 col4\" >0.5533</td>\n",
              "      <td id=\"T_3a251_row9_col5\" class=\"data row9 col5\" >1.2386</td>\n",
              "      <td id=\"T_3a251_row9_col6\" class=\"data row9 col6\" >43.3005</td>\n",
              "      <td id=\"T_3a251_row9_col7\" class=\"data row9 col7\" >0.6580</td>\n",
              "    </tr>\n",
              "    <tr>\n",
              "      <th id=\"T_3a251_level0_row10\" class=\"row_heading level0 row10\" >lightgbm</th>\n",
              "      <td id=\"T_3a251_row10_col0\" class=\"data row10 col0\" >Light Gradient Boosting Machine</td>\n",
              "      <td id=\"T_3a251_row10_col1\" class=\"data row10 col1\" >11.9694</td>\n",
              "      <td id=\"T_3a251_row10_col2\" class=\"data row10 col2\" >1199.5605</td>\n",
              "      <td id=\"T_3a251_row10_col3\" class=\"data row10 col3\" >34.2984</td>\n",
              "      <td id=\"T_3a251_row10_col4\" class=\"data row10 col4\" >0.1167</td>\n",
              "      <td id=\"T_3a251_row10_col5\" class=\"data row10 col5\" >1.3227</td>\n",
              "      <td id=\"T_3a251_row10_col6\" class=\"data row10 col6\" >25.7420</td>\n",
              "      <td id=\"T_3a251_row10_col7\" class=\"data row10 col7\" >1.2230</td>\n",
              "    </tr>\n",
              "    <tr>\n",
              "      <th id=\"T_3a251_level0_row11\" class=\"row_heading level0 row11\" >lasso</th>\n",
              "      <td id=\"T_3a251_row11_col0\" class=\"data row11 col0\" >Lasso Regression</td>\n",
              "      <td id=\"T_3a251_row11_col1\" class=\"data row11 col1\" >13.3877</td>\n",
              "      <td id=\"T_3a251_row11_col2\" class=\"data row11 col2\" >1316.9822</td>\n",
              "      <td id=\"T_3a251_row11_col3\" class=\"data row11 col3\" >35.9068</td>\n",
              "      <td id=\"T_3a251_row11_col4\" class=\"data row11 col4\" >0.0373</td>\n",
              "      <td id=\"T_3a251_row11_col5\" class=\"data row11 col5\" >1.7397</td>\n",
              "      <td id=\"T_3a251_row11_col6\" class=\"data row11 col6\" >75.5827</td>\n",
              "      <td id=\"T_3a251_row11_col7\" class=\"data row11 col7\" >0.6690</td>\n",
              "    </tr>\n",
              "    <tr>\n",
              "      <th id=\"T_3a251_level0_row12\" class=\"row_heading level0 row12\" >llar</th>\n",
              "      <td id=\"T_3a251_row12_col0\" class=\"data row12 col0\" >Lasso Least Angle Regression</td>\n",
              "      <td id=\"T_3a251_row12_col1\" class=\"data row12 col1\" >13.3877</td>\n",
              "      <td id=\"T_3a251_row12_col2\" class=\"data row12 col2\" >1316.9822</td>\n",
              "      <td id=\"T_3a251_row12_col3\" class=\"data row12 col3\" >35.9068</td>\n",
              "      <td id=\"T_3a251_row12_col4\" class=\"data row12 col4\" >0.0373</td>\n",
              "      <td id=\"T_3a251_row12_col5\" class=\"data row12 col5\" >1.7397</td>\n",
              "      <td id=\"T_3a251_row12_col6\" class=\"data row12 col6\" >75.5827</td>\n",
              "      <td id=\"T_3a251_row12_col7\" class=\"data row12 col7\" >1.1820</td>\n",
              "    </tr>\n",
              "    <tr>\n",
              "      <th id=\"T_3a251_level0_row13\" class=\"row_heading level0 row13\" >en</th>\n",
              "      <td id=\"T_3a251_row13_col0\" class=\"data row13 col0\" >Elastic Net</td>\n",
              "      <td id=\"T_3a251_row13_col1\" class=\"data row13 col1\" >13.8137</td>\n",
              "      <td id=\"T_3a251_row13_col2\" class=\"data row13 col2\" >1339.1503</td>\n",
              "      <td id=\"T_3a251_row13_col3\" class=\"data row13 col3\" >36.2152</td>\n",
              "      <td id=\"T_3a251_row13_col4\" class=\"data row13 col4\" >0.0203</td>\n",
              "      <td id=\"T_3a251_row13_col5\" class=\"data row13 col5\" >1.8177</td>\n",
              "      <td id=\"T_3a251_row13_col6\" class=\"data row13 col6\" >91.5375</td>\n",
              "      <td id=\"T_3a251_row13_col7\" class=\"data row13 col7\" >1.1770</td>\n",
              "    </tr>\n",
              "    <tr>\n",
              "      <th id=\"T_3a251_level0_row14\" class=\"row_heading level0 row14\" >dummy</th>\n",
              "      <td id=\"T_3a251_row14_col0\" class=\"data row14 col0\" >Dummy Regressor</td>\n",
              "      <td id=\"T_3a251_row14_col1\" class=\"data row14 col1\" >14.1140</td>\n",
              "      <td id=\"T_3a251_row14_col2\" class=\"data row14 col2\" >1367.5264</td>\n",
              "      <td id=\"T_3a251_row14_col3\" class=\"data row14 col3\" >36.6005</td>\n",
              "      <td id=\"T_3a251_row14_col4\" class=\"data row14 col4\" >-0.0008</td>\n",
              "      <td id=\"T_3a251_row14_col5\" class=\"data row14 col5\" >1.8730</td>\n",
              "      <td id=\"T_3a251_row14_col6\" class=\"data row14 col6\" >88.0874</td>\n",
              "      <td id=\"T_3a251_row14_col7\" class=\"data row14 col7\" >0.3550</td>\n",
              "    </tr>\n",
              "    <tr>\n",
              "      <th id=\"T_3a251_level0_row15\" class=\"row_heading level0 row15\" >lar</th>\n",
              "      <td id=\"T_3a251_row15_col0\" class=\"data row15 col0\" >Least Angle Regression</td>\n",
              "      <td id=\"T_3a251_row15_col1\" class=\"data row15 col1\" >26.3103</td>\n",
              "      <td id=\"T_3a251_row15_col2\" class=\"data row15 col2\" >1370.6399</td>\n",
              "      <td id=\"T_3a251_row15_col3\" class=\"data row15 col3\" >36.2732</td>\n",
              "      <td id=\"T_3a251_row15_col4\" class=\"data row15 col4\" >-0.0417</td>\n",
              "      <td id=\"T_3a251_row15_col5\" class=\"data row15 col5\" >2.4423</td>\n",
              "      <td id=\"T_3a251_row15_col6\" class=\"data row15 col6\" >208.7093</td>\n",
              "      <td id=\"T_3a251_row15_col7\" class=\"data row15 col7\" >1.6310</td>\n",
              "    </tr>\n",
              "    <tr>\n",
              "      <th id=\"T_3a251_level0_row16\" class=\"row_heading level0 row16\" >huber</th>\n",
              "      <td id=\"T_3a251_row16_col0\" class=\"data row16 col0\" >Huber Regressor</td>\n",
              "      <td id=\"T_3a251_row16_col1\" class=\"data row16 col1\" >9.8162</td>\n",
              "      <td id=\"T_3a251_row16_col2\" class=\"data row16 col2\" >1444.6377</td>\n",
              "      <td id=\"T_3a251_row16_col3\" class=\"data row16 col3\" >37.6335</td>\n",
              "      <td id=\"T_3a251_row16_col4\" class=\"data row16 col4\" >-0.0590</td>\n",
              "      <td id=\"T_3a251_row16_col5\" class=\"data row16 col5\" >1.3610</td>\n",
              "      <td id=\"T_3a251_row16_col6\" class=\"data row16 col6\" >9.6175</td>\n",
              "      <td id=\"T_3a251_row16_col7\" class=\"data row16 col7\" >1.8330</td>\n",
              "    </tr>\n",
              "    <tr>\n",
              "      <th id=\"T_3a251_level0_row17\" class=\"row_heading level0 row17\" >par</th>\n",
              "      <td id=\"T_3a251_row17_col0\" class=\"data row17 col0\" >Passive Aggressive Regressor</td>\n",
              "      <td id=\"T_3a251_row17_col1\" class=\"data row17 col1\" >12.6192</td>\n",
              "      <td id=\"T_3a251_row17_col2\" class=\"data row17 col2\" >1463.7230</td>\n",
              "      <td id=\"T_3a251_row17_col3\" class=\"data row17 col3\" >37.9119</td>\n",
              "      <td id=\"T_3a251_row17_col4\" class=\"data row17 col4\" >-0.0767</td>\n",
              "      <td id=\"T_3a251_row17_col5\" class=\"data row17 col5\" >1.7630</td>\n",
              "      <td id=\"T_3a251_row17_col6\" class=\"data row17 col6\" >76.6667</td>\n",
              "      <td id=\"T_3a251_row17_col7\" class=\"data row17 col7\" >0.9360</td>\n",
              "    </tr>\n",
              "    <tr>\n",
              "      <th id=\"T_3a251_level0_row18\" class=\"row_heading level0 row18\" >ada</th>\n",
              "      <td id=\"T_3a251_row18_col0\" class=\"data row18 col0\" >AdaBoost Regressor</td>\n",
              "      <td id=\"T_3a251_row18_col1\" class=\"data row18 col1\" >127.2442</td>\n",
              "      <td id=\"T_3a251_row18_col2\" class=\"data row18 col2\" >20291.1039</td>\n",
              "      <td id=\"T_3a251_row18_col3\" class=\"data row18 col3\" >132.3411</td>\n",
              "      <td id=\"T_3a251_row18_col4\" class=\"data row18 col4\" >-15.5786</td>\n",
              "      <td id=\"T_3a251_row18_col5\" class=\"data row18 col5\" >3.7914</td>\n",
              "      <td id=\"T_3a251_row18_col6\" class=\"data row18 col6\" >1319.0861</td>\n",
              "      <td id=\"T_3a251_row18_col7\" class=\"data row18 col7\" >13.1810</td>\n",
              "    </tr>\n",
              "  </tbody>\n",
              "</table>\n"
            ]
          },
          "metadata": {}
        },
        {
          "output_type": "display_data",
          "data": {
            "text/plain": [
              "Processing:   0%|          | 0/81 [00:00<?, ?it/s]"
            ],
            "application/vnd.jupyter.widget-view+json": {
              "version_major": 2,
              "version_minor": 0,
              "model_id": "d01830d871d04b348b82731978753484"
            }
          },
          "metadata": {
            "application/vnd.jupyter.widget-view+json": {
              "colab": {
                "custom_widget_manager": {
                  "url": "https://ssl.gstatic.com/colaboratory-static/widgets/colab-cdn-widget-manager/b3e629b1971e1542/manager.min.js"
                }
              }
            }
          }
        },
        {
          "output_type": "display_data",
          "data": {
            "text/plain": [
              "<IPython.core.display.HTML object>"
            ],
            "text/html": []
          },
          "metadata": {}
        }
      ],
      "source": [
        "best_model = compare_models(sort = 'r2', errors = 'raise')"
      ]
    },
    {
      "cell_type": "markdown",
      "metadata": {
        "id": "0tNr0S7iLhnD"
      },
      "source": [
        "Os 3 modelos que obtiveram os melhores desempenhos foram KNN, Ramdom Forest e o Xgboost"
      ]
    },
    {
      "cell_type": "code",
      "execution_count": 29,
      "metadata": {
        "colab": {
          "base_uri": "https://localhost:8080/",
          "height": 457,
          "referenced_widgets": [
            "7d6d9e50b70d4328bc428321695207dd",
            "b477fb63b506438da3f0fd00f5af1f78",
            "ae92b45d125c4d318d3a0e1df14d2915",
            "d9dcf4addd7b4b0682858175a1eefd3c",
            "d4aa6691ca934b7aa05ed2e9a2350dd4",
            "af6ffaf1713f4f0aa485be800be6ccdb",
            "dcb30cc45ac54d9db21ef72b9d687bb5",
            "1cf87d54cfda41d3bc3d27d911c5fcfd",
            "54e162568d884d5f8623f1d50d8ec4aa",
            "5f098a0f232a4fd18ee025fa85ddca61",
            "f33171c0f3514aed9c0552f20ec234cc"
          ]
        },
        "id": "5HIdr2HDLGWJ",
        "outputId": "d0c1ab8a-6d69-4955-fb1a-1ba17b0bca95"
      },
      "outputs": [
        {
          "output_type": "display_data",
          "data": {
            "text/plain": [
              "<IPython.core.display.HTML object>"
            ],
            "text/html": []
          },
          "metadata": {}
        },
        {
          "output_type": "display_data",
          "data": {
            "text/plain": [
              "<pandas.io.formats.style.Styler at 0x7f342256fa30>"
            ],
            "text/html": [
              "<style type=\"text/css\">\n",
              "#T_4d503_row10_col0, #T_4d503_row10_col1, #T_4d503_row10_col2, #T_4d503_row10_col3, #T_4d503_row10_col4, #T_4d503_row10_col5 {\n",
              "  background: yellow;\n",
              "}\n",
              "</style>\n",
              "<table id=\"T_4d503\" class=\"dataframe\">\n",
              "  <thead>\n",
              "    <tr>\n",
              "      <th class=\"blank level0\" >&nbsp;</th>\n",
              "      <th id=\"T_4d503_level0_col0\" class=\"col_heading level0 col0\" >MAE</th>\n",
              "      <th id=\"T_4d503_level0_col1\" class=\"col_heading level0 col1\" >MSE</th>\n",
              "      <th id=\"T_4d503_level0_col2\" class=\"col_heading level0 col2\" >RMSE</th>\n",
              "      <th id=\"T_4d503_level0_col3\" class=\"col_heading level0 col3\" >R2</th>\n",
              "      <th id=\"T_4d503_level0_col4\" class=\"col_heading level0 col4\" >RMSLE</th>\n",
              "      <th id=\"T_4d503_level0_col5\" class=\"col_heading level0 col5\" >MAPE</th>\n",
              "    </tr>\n",
              "    <tr>\n",
              "      <th class=\"index_name level0\" >Fold</th>\n",
              "      <th class=\"blank col0\" >&nbsp;</th>\n",
              "      <th class=\"blank col1\" >&nbsp;</th>\n",
              "      <th class=\"blank col2\" >&nbsp;</th>\n",
              "      <th class=\"blank col3\" >&nbsp;</th>\n",
              "      <th class=\"blank col4\" >&nbsp;</th>\n",
              "      <th class=\"blank col5\" >&nbsp;</th>\n",
              "    </tr>\n",
              "  </thead>\n",
              "  <tbody>\n",
              "    <tr>\n",
              "      <th id=\"T_4d503_level0_row0\" class=\"row_heading level0 row0\" >0</th>\n",
              "      <td id=\"T_4d503_row0_col0\" class=\"data row0 col0\" >5.4246</td>\n",
              "      <td id=\"T_4d503_row0_col1\" class=\"data row0 col1\" >472.0801</td>\n",
              "      <td id=\"T_4d503_row0_col2\" class=\"data row0 col2\" >21.7274</td>\n",
              "      <td id=\"T_4d503_row0_col3\" class=\"data row0 col3\" >0.7744</td>\n",
              "      <td id=\"T_4d503_row0_col4\" class=\"data row0 col4\" >0.6703</td>\n",
              "      <td id=\"T_4d503_row0_col5\" class=\"data row0 col5\" >1.9392</td>\n",
              "    </tr>\n",
              "    <tr>\n",
              "      <th id=\"T_4d503_level0_row1\" class=\"row_heading level0 row1\" >1</th>\n",
              "      <td id=\"T_4d503_row1_col0\" class=\"data row1 col0\" >4.6313</td>\n",
              "      <td id=\"T_4d503_row1_col1\" class=\"data row1 col1\" >321.8207</td>\n",
              "      <td id=\"T_4d503_row1_col2\" class=\"data row1 col2\" >17.9394</td>\n",
              "      <td id=\"T_4d503_row1_col3\" class=\"data row1 col3\" >0.7560</td>\n",
              "      <td id=\"T_4d503_row1_col4\" class=\"data row1 col4\" >0.6462</td>\n",
              "      <td id=\"T_4d503_row1_col5\" class=\"data row1 col5\" >1.0795</td>\n",
              "    </tr>\n",
              "    <tr>\n",
              "      <th id=\"T_4d503_level0_row2\" class=\"row_heading level0 row2\" >2</th>\n",
              "      <td id=\"T_4d503_row2_col0\" class=\"data row2 col0\" >5.0221</td>\n",
              "      <td id=\"T_4d503_row2_col1\" class=\"data row2 col1\" >665.6228</td>\n",
              "      <td id=\"T_4d503_row2_col2\" class=\"data row2 col2\" >25.7997</td>\n",
              "      <td id=\"T_4d503_row2_col3\" class=\"data row2 col3\" >0.6755</td>\n",
              "      <td id=\"T_4d503_row2_col4\" class=\"data row2 col4\" >0.6125</td>\n",
              "      <td id=\"T_4d503_row2_col5\" class=\"data row2 col5\" >1.3320</td>\n",
              "    </tr>\n",
              "    <tr>\n",
              "      <th id=\"T_4d503_level0_row3\" class=\"row_heading level0 row3\" >3</th>\n",
              "      <td id=\"T_4d503_row3_col0\" class=\"data row3 col0\" >4.6874</td>\n",
              "      <td id=\"T_4d503_row3_col1\" class=\"data row3 col1\" >381.2519</td>\n",
              "      <td id=\"T_4d503_row3_col2\" class=\"data row3 col2\" >19.5257</td>\n",
              "      <td id=\"T_4d503_row3_col3\" class=\"data row3 col3\" >0.5324</td>\n",
              "      <td id=\"T_4d503_row3_col4\" class=\"data row3 col4\" >0.6340</td>\n",
              "      <td id=\"T_4d503_row3_col5\" class=\"data row3 col5\" >2.0445</td>\n",
              "    </tr>\n",
              "    <tr>\n",
              "      <th id=\"T_4d503_level0_row4\" class=\"row_heading level0 row4\" >4</th>\n",
              "      <td id=\"T_4d503_row4_col0\" class=\"data row4 col0\" >4.6632</td>\n",
              "      <td id=\"T_4d503_row4_col1\" class=\"data row4 col1\" >228.3671</td>\n",
              "      <td id=\"T_4d503_row4_col2\" class=\"data row4 col2\" >15.1118</td>\n",
              "      <td id=\"T_4d503_row4_col3\" class=\"data row4 col3\" >0.7738</td>\n",
              "      <td id=\"T_4d503_row4_col4\" class=\"data row4 col4\" >0.6628</td>\n",
              "      <td id=\"T_4d503_row4_col5\" class=\"data row4 col5\" >1.6888</td>\n",
              "    </tr>\n",
              "    <tr>\n",
              "      <th id=\"T_4d503_level0_row5\" class=\"row_heading level0 row5\" >5</th>\n",
              "      <td id=\"T_4d503_row5_col0\" class=\"data row5 col0\" >4.0700</td>\n",
              "      <td id=\"T_4d503_row5_col1\" class=\"data row5 col1\" >159.0890</td>\n",
              "      <td id=\"T_4d503_row5_col2\" class=\"data row5 col2\" >12.6130</td>\n",
              "      <td id=\"T_4d503_row5_col3\" class=\"data row5 col3\" >0.8734</td>\n",
              "      <td id=\"T_4d503_row5_col4\" class=\"data row5 col4\" >0.6000</td>\n",
              "      <td id=\"T_4d503_row5_col5\" class=\"data row5 col5\" >1.2819</td>\n",
              "    </tr>\n",
              "    <tr>\n",
              "      <th id=\"T_4d503_level0_row6\" class=\"row_heading level0 row6\" >6</th>\n",
              "      <td id=\"T_4d503_row6_col0\" class=\"data row6 col0\" >5.3681</td>\n",
              "      <td id=\"T_4d503_row6_col1\" class=\"data row6 col1\" >573.9061</td>\n",
              "      <td id=\"T_4d503_row6_col2\" class=\"data row6 col2\" >23.9563</td>\n",
              "      <td id=\"T_4d503_row6_col3\" class=\"data row6 col3\" >0.5361</td>\n",
              "      <td id=\"T_4d503_row6_col4\" class=\"data row6 col4\" >0.6644</td>\n",
              "      <td id=\"T_4d503_row6_col5\" class=\"data row6 col5\" >1.1448</td>\n",
              "    </tr>\n",
              "    <tr>\n",
              "      <th id=\"T_4d503_level0_row7\" class=\"row_heading level0 row7\" >7</th>\n",
              "      <td id=\"T_4d503_row7_col0\" class=\"data row7 col0\" >4.8098</td>\n",
              "      <td id=\"T_4d503_row7_col1\" class=\"data row7 col1\" >336.0359</td>\n",
              "      <td id=\"T_4d503_row7_col2\" class=\"data row7 col2\" >18.3313</td>\n",
              "      <td id=\"T_4d503_row7_col3\" class=\"data row7 col3\" >0.6677</td>\n",
              "      <td id=\"T_4d503_row7_col4\" class=\"data row7 col4\" >0.5925</td>\n",
              "      <td id=\"T_4d503_row7_col5\" class=\"data row7 col5\" >1.8580</td>\n",
              "    </tr>\n",
              "    <tr>\n",
              "      <th id=\"T_4d503_level0_row8\" class=\"row_heading level0 row8\" >8</th>\n",
              "      <td id=\"T_4d503_row8_col0\" class=\"data row8 col0\" >5.0278</td>\n",
              "      <td id=\"T_4d503_row8_col1\" class=\"data row8 col1\" >326.4742</td>\n",
              "      <td id=\"T_4d503_row8_col2\" class=\"data row8 col2\" >18.0686</td>\n",
              "      <td id=\"T_4d503_row8_col3\" class=\"data row8 col3\" >0.7601</td>\n",
              "      <td id=\"T_4d503_row8_col4\" class=\"data row8 col4\" >0.6536</td>\n",
              "      <td id=\"T_4d503_row8_col5\" class=\"data row8 col5\" >2.8188</td>\n",
              "    </tr>\n",
              "    <tr>\n",
              "      <th id=\"T_4d503_level0_row9\" class=\"row_heading level0 row9\" >9</th>\n",
              "      <td id=\"T_4d503_row9_col0\" class=\"data row9 col0\" >4.3398</td>\n",
              "      <td id=\"T_4d503_row9_col1\" class=\"data row9 col1\" >365.0371</td>\n",
              "      <td id=\"T_4d503_row9_col2\" class=\"data row9 col2\" >19.1059</td>\n",
              "      <td id=\"T_4d503_row9_col3\" class=\"data row9 col3\" >0.7582</td>\n",
              "      <td id=\"T_4d503_row9_col4\" class=\"data row9 col4\" >0.6172</td>\n",
              "      <td id=\"T_4d503_row9_col5\" class=\"data row9 col5\" >10.5917</td>\n",
              "    </tr>\n",
              "    <tr>\n",
              "      <th id=\"T_4d503_level0_row10\" class=\"row_heading level0 row10\" >Mean</th>\n",
              "      <td id=\"T_4d503_row10_col0\" class=\"data row10 col0\" >4.8044</td>\n",
              "      <td id=\"T_4d503_row10_col1\" class=\"data row10 col1\" >382.9685</td>\n",
              "      <td id=\"T_4d503_row10_col2\" class=\"data row10 col2\" >19.2179</td>\n",
              "      <td id=\"T_4d503_row10_col3\" class=\"data row10 col3\" >0.7108</td>\n",
              "      <td id=\"T_4d503_row10_col4\" class=\"data row10 col4\" >0.6353</td>\n",
              "      <td id=\"T_4d503_row10_col5\" class=\"data row10 col5\" >2.5779</td>\n",
              "    </tr>\n",
              "    <tr>\n",
              "      <th id=\"T_4d503_level0_row11\" class=\"row_heading level0 row11\" >Std</th>\n",
              "      <td id=\"T_4d503_row11_col0\" class=\"data row11 col0\" >0.4023</td>\n",
              "      <td id=\"T_4d503_row11_col1\" class=\"data row11 col1\" >144.1433</td>\n",
              "      <td id=\"T_4d503_row11_col2\" class=\"data row11 col2\" >3.6933</td>\n",
              "      <td id=\"T_4d503_row11_col3\" class=\"data row11 col3\" >0.1033</td>\n",
              "      <td id=\"T_4d503_row11_col4\" class=\"data row11 col4\" >0.0268</td>\n",
              "      <td id=\"T_4d503_row11_col5\" class=\"data row11 col5\" >2.7168</td>\n",
              "    </tr>\n",
              "  </tbody>\n",
              "</table>\n"
            ]
          },
          "metadata": {}
        },
        {
          "output_type": "display_data",
          "data": {
            "text/plain": [
              "Processing:   0%|          | 0/4 [00:00<?, ?it/s]"
            ],
            "application/vnd.jupyter.widget-view+json": {
              "version_major": 2,
              "version_minor": 0,
              "model_id": "7d6d9e50b70d4328bc428321695207dd"
            }
          },
          "metadata": {
            "application/vnd.jupyter.widget-view+json": {
              "colab": {
                "custom_widget_manager": {
                  "url": "https://ssl.gstatic.com/colaboratory-static/widgets/colab-cdn-widget-manager/b3e629b1971e1542/manager.min.js"
                }
              }
            }
          }
        },
        {
          "output_type": "display_data",
          "data": {
            "text/plain": [
              "<IPython.core.display.HTML object>"
            ],
            "text/html": []
          },
          "metadata": {}
        }
      ],
      "source": [
        "mdl_rf = create_model('rf')"
      ]
    },
    {
      "cell_type": "code",
      "execution_count": 30,
      "metadata": {
        "colab": {
          "base_uri": "https://localhost:8080/",
          "height": 457,
          "referenced_widgets": [
            "0bd194e77fd84718b8e2cd1d0b705488",
            "1a899c21acee41a78ee21b65540ca7e8",
            "adfd55ab3a664e07bb54879d7331c6c7",
            "4c07a483a1f445eda9566795b03a8aec",
            "4923c238207d411b85fcc1e5a55bdb27",
            "9bfbe6cc8ce04923a7ea89cdc385f9ca",
            "1eda6a5fa2b54fa7954d163201d73e64",
            "740de9ed1572465e86c83cdd2f85310a",
            "2aa68a3ee5514a81b9a1eb7be6456d0d",
            "eed3cc9e917141cf80cf45b595bc17ba",
            "4689a5e46834477ca09726e5ebcc434f"
          ]
        },
        "id": "jkb0dDLCLKSn",
        "outputId": "2588d70d-e8b1-4635-f89a-05312f04fd05"
      },
      "outputs": [
        {
          "output_type": "display_data",
          "data": {
            "text/plain": [
              "<IPython.core.display.HTML object>"
            ],
            "text/html": []
          },
          "metadata": {}
        },
        {
          "output_type": "display_data",
          "data": {
            "text/plain": [
              "<pandas.io.formats.style.Styler at 0x7f342262df90>"
            ],
            "text/html": [
              "<style type=\"text/css\">\n",
              "#T_dfa00_row10_col0, #T_dfa00_row10_col1, #T_dfa00_row10_col2, #T_dfa00_row10_col3, #T_dfa00_row10_col4, #T_dfa00_row10_col5 {\n",
              "  background: yellow;\n",
              "}\n",
              "</style>\n",
              "<table id=\"T_dfa00\" class=\"dataframe\">\n",
              "  <thead>\n",
              "    <tr>\n",
              "      <th class=\"blank level0\" >&nbsp;</th>\n",
              "      <th id=\"T_dfa00_level0_col0\" class=\"col_heading level0 col0\" >MAE</th>\n",
              "      <th id=\"T_dfa00_level0_col1\" class=\"col_heading level0 col1\" >MSE</th>\n",
              "      <th id=\"T_dfa00_level0_col2\" class=\"col_heading level0 col2\" >RMSE</th>\n",
              "      <th id=\"T_dfa00_level0_col3\" class=\"col_heading level0 col3\" >R2</th>\n",
              "      <th id=\"T_dfa00_level0_col4\" class=\"col_heading level0 col4\" >RMSLE</th>\n",
              "      <th id=\"T_dfa00_level0_col5\" class=\"col_heading level0 col5\" >MAPE</th>\n",
              "    </tr>\n",
              "    <tr>\n",
              "      <th class=\"index_name level0\" >Fold</th>\n",
              "      <th class=\"blank col0\" >&nbsp;</th>\n",
              "      <th class=\"blank col1\" >&nbsp;</th>\n",
              "      <th class=\"blank col2\" >&nbsp;</th>\n",
              "      <th class=\"blank col3\" >&nbsp;</th>\n",
              "      <th class=\"blank col4\" >&nbsp;</th>\n",
              "      <th class=\"blank col5\" >&nbsp;</th>\n",
              "    </tr>\n",
              "  </thead>\n",
              "  <tbody>\n",
              "    <tr>\n",
              "      <th id=\"T_dfa00_level0_row0\" class=\"row_heading level0 row0\" >0</th>\n",
              "      <td id=\"T_dfa00_row0_col0\" class=\"data row0 col0\" >5.6605</td>\n",
              "      <td id=\"T_dfa00_row0_col1\" class=\"data row0 col1\" >430.8058</td>\n",
              "      <td id=\"T_dfa00_row0_col2\" class=\"data row0 col2\" >20.7559</td>\n",
              "      <td id=\"T_dfa00_row0_col3\" class=\"data row0 col3\" >0.7941</td>\n",
              "      <td id=\"T_dfa00_row0_col4\" class=\"data row0 col4\" >0.6987</td>\n",
              "      <td id=\"T_dfa00_row0_col5\" class=\"data row0 col5\" >2.1436</td>\n",
              "    </tr>\n",
              "    <tr>\n",
              "      <th id=\"T_dfa00_level0_row1\" class=\"row_heading level0 row1\" >1</th>\n",
              "      <td id=\"T_dfa00_row1_col0\" class=\"data row1 col0\" >5.2558</td>\n",
              "      <td id=\"T_dfa00_row1_col1\" class=\"data row1 col1\" >486.1194</td>\n",
              "      <td id=\"T_dfa00_row1_col2\" class=\"data row1 col2\" >22.0481</td>\n",
              "      <td id=\"T_dfa00_row1_col3\" class=\"data row1 col3\" >0.6314</td>\n",
              "      <td id=\"T_dfa00_row1_col4\" class=\"data row1 col4\" >0.6794</td>\n",
              "      <td id=\"T_dfa00_row1_col5\" class=\"data row1 col5\" >1.4997</td>\n",
              "    </tr>\n",
              "    <tr>\n",
              "      <th id=\"T_dfa00_level0_row2\" class=\"row_heading level0 row2\" >2</th>\n",
              "      <td id=\"T_dfa00_row2_col0\" class=\"data row2 col0\" >5.5335</td>\n",
              "      <td id=\"T_dfa00_row2_col1\" class=\"data row2 col1\" >695.8882</td>\n",
              "      <td id=\"T_dfa00_row2_col2\" class=\"data row2 col2\" >26.3797</td>\n",
              "      <td id=\"T_dfa00_row2_col3\" class=\"data row2 col3\" >0.6608</td>\n",
              "      <td id=\"T_dfa00_row2_col4\" class=\"data row2 col4\" >0.6281</td>\n",
              "      <td id=\"T_dfa00_row2_col5\" class=\"data row2 col5\" >1.3582</td>\n",
              "    </tr>\n",
              "    <tr>\n",
              "      <th id=\"T_dfa00_level0_row3\" class=\"row_heading level0 row3\" >3</th>\n",
              "      <td id=\"T_dfa00_row3_col0\" class=\"data row3 col0\" >5.0083</td>\n",
              "      <td id=\"T_dfa00_row3_col1\" class=\"data row3 col1\" >382.8664</td>\n",
              "      <td id=\"T_dfa00_row3_col2\" class=\"data row3 col2\" >19.5670</td>\n",
              "      <td id=\"T_dfa00_row3_col3\" class=\"data row3 col3\" >0.5304</td>\n",
              "      <td id=\"T_dfa00_row3_col4\" class=\"data row3 col4\" >0.6873</td>\n",
              "      <td id=\"T_dfa00_row3_col5\" class=\"data row3 col5\" >2.1113</td>\n",
              "    </tr>\n",
              "    <tr>\n",
              "      <th id=\"T_dfa00_level0_row4\" class=\"row_heading level0 row4\" >4</th>\n",
              "      <td id=\"T_dfa00_row4_col0\" class=\"data row4 col0\" >4.7052</td>\n",
              "      <td id=\"T_dfa00_row4_col1\" class=\"data row4 col1\" >228.5937</td>\n",
              "      <td id=\"T_dfa00_row4_col2\" class=\"data row4 col2\" >15.1193</td>\n",
              "      <td id=\"T_dfa00_row4_col3\" class=\"data row4 col3\" >0.7736</td>\n",
              "      <td id=\"T_dfa00_row4_col4\" class=\"data row4 col4\" >0.6738</td>\n",
              "      <td id=\"T_dfa00_row4_col5\" class=\"data row4 col5\" >1.7644</td>\n",
              "    </tr>\n",
              "    <tr>\n",
              "      <th id=\"T_dfa00_level0_row5\" class=\"row_heading level0 row5\" >5</th>\n",
              "      <td id=\"T_dfa00_row5_col0\" class=\"data row5 col0\" >4.4251</td>\n",
              "      <td id=\"T_dfa00_row5_col1\" class=\"data row5 col1\" >206.9351</td>\n",
              "      <td id=\"T_dfa00_row5_col2\" class=\"data row5 col2\" >14.3852</td>\n",
              "      <td id=\"T_dfa00_row5_col3\" class=\"data row5 col3\" >0.8353</td>\n",
              "      <td id=\"T_dfa00_row5_col4\" class=\"data row5 col4\" >0.6347</td>\n",
              "      <td id=\"T_dfa00_row5_col5\" class=\"data row5 col5\" >1.4913</td>\n",
              "    </tr>\n",
              "    <tr>\n",
              "      <th id=\"T_dfa00_level0_row6\" class=\"row_heading level0 row6\" >6</th>\n",
              "      <td id=\"T_dfa00_row6_col0\" class=\"data row6 col0\" >5.7735</td>\n",
              "      <td id=\"T_dfa00_row6_col1\" class=\"data row6 col1\" >443.6739</td>\n",
              "      <td id=\"T_dfa00_row6_col2\" class=\"data row6 col2\" >21.0636</td>\n",
              "      <td id=\"T_dfa00_row6_col3\" class=\"data row6 col3\" >0.6414</td>\n",
              "      <td id=\"T_dfa00_row6_col4\" class=\"data row6 col4\" >0.6938</td>\n",
              "      <td id=\"T_dfa00_row6_col5\" class=\"data row6 col5\" >1.4087</td>\n",
              "    </tr>\n",
              "    <tr>\n",
              "      <th id=\"T_dfa00_level0_row7\" class=\"row_heading level0 row7\" >7</th>\n",
              "      <td id=\"T_dfa00_row7_col0\" class=\"data row7 col0\" >4.7836</td>\n",
              "      <td id=\"T_dfa00_row7_col1\" class=\"data row7 col1\" >285.9218</td>\n",
              "      <td id=\"T_dfa00_row7_col2\" class=\"data row7 col2\" >16.9092</td>\n",
              "      <td id=\"T_dfa00_row7_col3\" class=\"data row7 col3\" >0.7173</td>\n",
              "      <td id=\"T_dfa00_row7_col4\" class=\"data row7 col4\" >0.5994</td>\n",
              "      <td id=\"T_dfa00_row7_col5\" class=\"data row7 col5\" >2.4859</td>\n",
              "    </tr>\n",
              "    <tr>\n",
              "      <th id=\"T_dfa00_level0_row8\" class=\"row_heading level0 row8\" >8</th>\n",
              "      <td id=\"T_dfa00_row8_col0\" class=\"data row8 col0\" >5.3638</td>\n",
              "      <td id=\"T_dfa00_row8_col1\" class=\"data row8 col1\" >347.8410</td>\n",
              "      <td id=\"T_dfa00_row8_col2\" class=\"data row8 col2\" >18.6505</td>\n",
              "      <td id=\"T_dfa00_row8_col3\" class=\"data row8 col3\" >0.7444</td>\n",
              "      <td id=\"T_dfa00_row8_col4\" class=\"data row8 col4\" >0.6656</td>\n",
              "      <td id=\"T_dfa00_row8_col5\" class=\"data row8 col5\" >2.5834</td>\n",
              "    </tr>\n",
              "    <tr>\n",
              "      <th id=\"T_dfa00_level0_row9\" class=\"row_heading level0 row9\" >9</th>\n",
              "      <td id=\"T_dfa00_row9_col0\" class=\"data row9 col0\" >4.5615</td>\n",
              "      <td id=\"T_dfa00_row9_col1\" class=\"data row9 col1\" >446.3662</td>\n",
              "      <td id=\"T_dfa00_row9_col2\" class=\"data row9 col2\" >21.1274</td>\n",
              "      <td id=\"T_dfa00_row9_col3\" class=\"data row9 col3\" >0.7044</td>\n",
              "      <td id=\"T_dfa00_row9_col4\" class=\"data row9 col4\" >0.6736</td>\n",
              "      <td id=\"T_dfa00_row9_col5\" class=\"data row9 col5\" >4.0118</td>\n",
              "    </tr>\n",
              "    <tr>\n",
              "      <th id=\"T_dfa00_level0_row10\" class=\"row_heading level0 row10\" >Mean</th>\n",
              "      <td id=\"T_dfa00_row10_col0\" class=\"data row10 col0\" >5.1071</td>\n",
              "      <td id=\"T_dfa00_row10_col1\" class=\"data row10 col1\" >395.5011</td>\n",
              "      <td id=\"T_dfa00_row10_col2\" class=\"data row10 col2\" >19.6006</td>\n",
              "      <td id=\"T_dfa00_row10_col3\" class=\"data row10 col3\" >0.7033</td>\n",
              "      <td id=\"T_dfa00_row10_col4\" class=\"data row10 col4\" >0.6634</td>\n",
              "      <td id=\"T_dfa00_row10_col5\" class=\"data row10 col5\" >2.0858</td>\n",
              "    </tr>\n",
              "    <tr>\n",
              "      <th id=\"T_dfa00_level0_row11\" class=\"row_heading level0 row11\" >Std</th>\n",
              "      <td id=\"T_dfa00_row11_col0\" class=\"data row11 col0\" >0.4537</td>\n",
              "      <td id=\"T_dfa00_row11_col1\" class=\"data row11 col1\" >135.0749</td>\n",
              "      <td id=\"T_dfa00_row11_col2\" class=\"data row11 col2\" >3.3642</td>\n",
              "      <td id=\"T_dfa00_row11_col3\" class=\"data row11 col3\" >0.0856</td>\n",
              "      <td id=\"T_dfa00_row11_col4\" class=\"data row11 col4\" >0.0306</td>\n",
              "      <td id=\"T_dfa00_row11_col5\" class=\"data row11 col5\" >0.7687</td>\n",
              "    </tr>\n",
              "  </tbody>\n",
              "</table>\n"
            ]
          },
          "metadata": {}
        },
        {
          "output_type": "display_data",
          "data": {
            "text/plain": [
              "Processing:   0%|          | 0/4 [00:00<?, ?it/s]"
            ],
            "application/vnd.jupyter.widget-view+json": {
              "version_major": 2,
              "version_minor": 0,
              "model_id": "0bd194e77fd84718b8e2cd1d0b705488"
            }
          },
          "metadata": {
            "application/vnd.jupyter.widget-view+json": {
              "colab": {
                "custom_widget_manager": {
                  "url": "https://ssl.gstatic.com/colaboratory-static/widgets/colab-cdn-widget-manager/b3e629b1971e1542/manager.min.js"
                }
              }
            }
          }
        },
        {
          "output_type": "display_data",
          "data": {
            "text/plain": [
              "<IPython.core.display.HTML object>"
            ],
            "text/html": []
          },
          "metadata": {}
        }
      ],
      "source": [
        "mdl_knn = create_model('knn')"
      ]
    },
    {
      "cell_type": "code",
      "execution_count": 31,
      "metadata": {
        "colab": {
          "base_uri": "https://localhost:8080/",
          "height": 457,
          "referenced_widgets": [
            "45dfd92cd204446183e0266cb90a4cc5",
            "37d1c7d091b24c88a48dcb0fb7a47c9c",
            "9202ac4b2f8442febcee0e4f459d6ce8",
            "772b42cfceb644e1b2ac2564a7c4f027",
            "58e60c21b09b4a5ea870d3b46a4d14d3",
            "7a99994818154bd29d89aeb5f24422a8",
            "050490ced9824304852610978db38f8b",
            "046661852f154e2ca2247270f61df577",
            "f0f8881f6a9a4a6593bc650b4b470609",
            "b946595ffa2740f3bac038fbe7e4eec9",
            "af40ab4e3eb44ce3b4ef9bda40a28121"
          ]
        },
        "id": "dZ4HPzJvLL-r",
        "outputId": "3433adfa-77a3-4d9c-cd42-495e30f8bedb"
      },
      "outputs": [
        {
          "output_type": "display_data",
          "data": {
            "text/plain": [
              "<IPython.core.display.HTML object>"
            ],
            "text/html": []
          },
          "metadata": {}
        },
        {
          "output_type": "display_data",
          "data": {
            "text/plain": [
              "<pandas.io.formats.style.Styler at 0x7f342262caf0>"
            ],
            "text/html": [
              "<style type=\"text/css\">\n",
              "#T_24e31_row10_col0, #T_24e31_row10_col1, #T_24e31_row10_col2, #T_24e31_row10_col3, #T_24e31_row10_col4, #T_24e31_row10_col5 {\n",
              "  background: yellow;\n",
              "}\n",
              "</style>\n",
              "<table id=\"T_24e31\" class=\"dataframe\">\n",
              "  <thead>\n",
              "    <tr>\n",
              "      <th class=\"blank level0\" >&nbsp;</th>\n",
              "      <th id=\"T_24e31_level0_col0\" class=\"col_heading level0 col0\" >MAE</th>\n",
              "      <th id=\"T_24e31_level0_col1\" class=\"col_heading level0 col1\" >MSE</th>\n",
              "      <th id=\"T_24e31_level0_col2\" class=\"col_heading level0 col2\" >RMSE</th>\n",
              "      <th id=\"T_24e31_level0_col3\" class=\"col_heading level0 col3\" >R2</th>\n",
              "      <th id=\"T_24e31_level0_col4\" class=\"col_heading level0 col4\" >RMSLE</th>\n",
              "      <th id=\"T_24e31_level0_col5\" class=\"col_heading level0 col5\" >MAPE</th>\n",
              "    </tr>\n",
              "    <tr>\n",
              "      <th class=\"index_name level0\" >Fold</th>\n",
              "      <th class=\"blank col0\" >&nbsp;</th>\n",
              "      <th class=\"blank col1\" >&nbsp;</th>\n",
              "      <th class=\"blank col2\" >&nbsp;</th>\n",
              "      <th class=\"blank col3\" >&nbsp;</th>\n",
              "      <th class=\"blank col4\" >&nbsp;</th>\n",
              "      <th class=\"blank col5\" >&nbsp;</th>\n",
              "    </tr>\n",
              "  </thead>\n",
              "  <tbody>\n",
              "    <tr>\n",
              "      <th id=\"T_24e31_level0_row0\" class=\"row_heading level0 row0\" >0</th>\n",
              "      <td id=\"T_24e31_row0_col0\" class=\"data row0 col0\" >6.5285</td>\n",
              "      <td id=\"T_24e31_row0_col1\" class=\"data row0 col1\" >471.8970</td>\n",
              "      <td id=\"T_24e31_row0_col2\" class=\"data row0 col2\" >21.7232</td>\n",
              "      <td id=\"T_24e31_row0_col3\" class=\"data row0 col3\" >0.7745</td>\n",
              "      <td id=\"T_24e31_row0_col4\" class=\"data row0 col4\" >0.9926</td>\n",
              "      <td id=\"T_24e31_row0_col5\" class=\"data row0 col5\" >16.0799</td>\n",
              "    </tr>\n",
              "    <tr>\n",
              "      <th id=\"T_24e31_level0_row1\" class=\"row_heading level0 row1\" >1</th>\n",
              "      <td id=\"T_24e31_row1_col0\" class=\"data row1 col0\" >6.1460</td>\n",
              "      <td id=\"T_24e31_row1_col1\" class=\"data row1 col1\" >342.7142</td>\n",
              "      <td id=\"T_24e31_row1_col2\" class=\"data row1 col2\" >18.5125</td>\n",
              "      <td id=\"T_24e31_row1_col3\" class=\"data row1 col3\" >0.7402</td>\n",
              "      <td id=\"T_24e31_row1_col4\" class=\"data row1 col4\" >1.0386</td>\n",
              "      <td id=\"T_24e31_row1_col5\" class=\"data row1 col5\" >40.7517</td>\n",
              "    </tr>\n",
              "    <tr>\n",
              "      <th id=\"T_24e31_level0_row2\" class=\"row_heading level0 row2\" >2</th>\n",
              "      <td id=\"T_24e31_row2_col0\" class=\"data row2 col0\" >6.5870</td>\n",
              "      <td id=\"T_24e31_row2_col1\" class=\"data row2 col1\" >831.3701</td>\n",
              "      <td id=\"T_24e31_row2_col2\" class=\"data row2 col2\" >28.8335</td>\n",
              "      <td id=\"T_24e31_row2_col3\" class=\"data row2 col3\" >0.5947</td>\n",
              "      <td id=\"T_24e31_row2_col4\" class=\"data row2 col4\" >0.9864</td>\n",
              "      <td id=\"T_24e31_row2_col5\" class=\"data row2 col5\" >5.9542</td>\n",
              "    </tr>\n",
              "    <tr>\n",
              "      <th id=\"T_24e31_level0_row3\" class=\"row_heading level0 row3\" >3</th>\n",
              "      <td id=\"T_24e31_row3_col0\" class=\"data row3 col0\" >6.0436</td>\n",
              "      <td id=\"T_24e31_row3_col1\" class=\"data row3 col1\" >282.6212</td>\n",
              "      <td id=\"T_24e31_row3_col2\" class=\"data row3 col2\" >16.8113</td>\n",
              "      <td id=\"T_24e31_row3_col3\" class=\"data row3 col3\" >0.6534</td>\n",
              "      <td id=\"T_24e31_row3_col4\" class=\"data row3 col4\" >1.0338</td>\n",
              "      <td id=\"T_24e31_row3_col5\" class=\"data row3 col5\" >14.3490</td>\n",
              "    </tr>\n",
              "    <tr>\n",
              "      <th id=\"T_24e31_level0_row4\" class=\"row_heading level0 row4\" >4</th>\n",
              "      <td id=\"T_24e31_row4_col0\" class=\"data row4 col0\" >5.7062</td>\n",
              "      <td id=\"T_24e31_row4_col1\" class=\"data row4 col1\" >210.2998</td>\n",
              "      <td id=\"T_24e31_row4_col2\" class=\"data row4 col2\" >14.5017</td>\n",
              "      <td id=\"T_24e31_row4_col3\" class=\"data row4 col3\" >0.7917</td>\n",
              "      <td id=\"T_24e31_row4_col4\" class=\"data row4 col4\" >1.0277</td>\n",
              "      <td id=\"T_24e31_row4_col5\" class=\"data row4 col5\" >12.0491</td>\n",
              "    </tr>\n",
              "    <tr>\n",
              "      <th id=\"T_24e31_level0_row5\" class=\"row_heading level0 row5\" >5</th>\n",
              "      <td id=\"T_24e31_row5_col0\" class=\"data row5 col0\" >5.6660</td>\n",
              "      <td id=\"T_24e31_row5_col1\" class=\"data row5 col1\" >193.6921</td>\n",
              "      <td id=\"T_24e31_row5_col2\" class=\"data row5 col2\" >13.9173</td>\n",
              "      <td id=\"T_24e31_row5_col3\" class=\"data row5 col3\" >0.8459</td>\n",
              "      <td id=\"T_24e31_row5_col4\" class=\"data row5 col4\" >1.0047</td>\n",
              "      <td id=\"T_24e31_row5_col5\" class=\"data row5 col5\" >5.7954</td>\n",
              "    </tr>\n",
              "    <tr>\n",
              "      <th id=\"T_24e31_level0_row6\" class=\"row_heading level0 row6\" >6</th>\n",
              "      <td id=\"T_24e31_row6_col0\" class=\"data row6 col0\" >6.9816</td>\n",
              "      <td id=\"T_24e31_row6_col1\" class=\"data row6 col1\" >763.4537</td>\n",
              "      <td id=\"T_24e31_row6_col2\" class=\"data row6 col2\" >27.6307</td>\n",
              "      <td id=\"T_24e31_row6_col3\" class=\"data row6 col3\" >0.3829</td>\n",
              "      <td id=\"T_24e31_row6_col4\" class=\"data row6 col4\" >1.0011</td>\n",
              "      <td id=\"T_24e31_row6_col5\" class=\"data row6 col5\" >7.0132</td>\n",
              "    </tr>\n",
              "    <tr>\n",
              "      <th id=\"T_24e31_level0_row7\" class=\"row_heading level0 row7\" >7</th>\n",
              "      <td id=\"T_24e31_row7_col0\" class=\"data row7 col0\" >6.1694</td>\n",
              "      <td id=\"T_24e31_row7_col1\" class=\"data row7 col1\" >316.6962</td>\n",
              "      <td id=\"T_24e31_row7_col2\" class=\"data row7 col2\" >17.7960</td>\n",
              "      <td id=\"T_24e31_row7_col3\" class=\"data row7 col3\" >0.6869</td>\n",
              "      <td id=\"T_24e31_row7_col4\" class=\"data row7 col4\" >0.9997</td>\n",
              "      <td id=\"T_24e31_row7_col5\" class=\"data row7 col5\" >11.7915</td>\n",
              "    </tr>\n",
              "    <tr>\n",
              "      <th id=\"T_24e31_level0_row8\" class=\"row_heading level0 row8\" >8</th>\n",
              "      <td id=\"T_24e31_row8_col0\" class=\"data row8 col0\" >6.0517</td>\n",
              "      <td id=\"T_24e31_row8_col1\" class=\"data row8 col1\" >343.9324</td>\n",
              "      <td id=\"T_24e31_row8_col2\" class=\"data row8 col2\" >18.5454</td>\n",
              "      <td id=\"T_24e31_row8_col3\" class=\"data row8 col3\" >0.7472</td>\n",
              "      <td id=\"T_24e31_row8_col4\" class=\"data row8 col4\" >0.9962</td>\n",
              "      <td id=\"T_24e31_row8_col5\" class=\"data row8 col5\" >31.9021</td>\n",
              "    </tr>\n",
              "    <tr>\n",
              "      <th id=\"T_24e31_level0_row9\" class=\"row_heading level0 row9\" >9</th>\n",
              "      <td id=\"T_24e31_row9_col0\" class=\"data row9 col0\" >5.9283</td>\n",
              "      <td id=\"T_24e31_row9_col1\" class=\"data row9 col1\" >464.2066</td>\n",
              "      <td id=\"T_24e31_row9_col2\" class=\"data row9 col2\" >21.5455</td>\n",
              "      <td id=\"T_24e31_row9_col3\" class=\"data row9 col3\" >0.6925</td>\n",
              "      <td id=\"T_24e31_row9_col4\" class=\"data row9 col4\" >1.0240</td>\n",
              "      <td id=\"T_24e31_row9_col5\" class=\"data row9 col5\" >43.2371</td>\n",
              "    </tr>\n",
              "    <tr>\n",
              "      <th id=\"T_24e31_level0_row10\" class=\"row_heading level0 row10\" >Mean</th>\n",
              "      <td id=\"T_24e31_row10_col0\" class=\"data row10 col0\" >6.1808</td>\n",
              "      <td id=\"T_24e31_row10_col1\" class=\"data row10 col1\" >422.0883</td>\n",
              "      <td id=\"T_24e31_row10_col2\" class=\"data row10 col2\" >19.9817</td>\n",
              "      <td id=\"T_24e31_row10_col3\" class=\"data row10 col3\" >0.6910</td>\n",
              "      <td id=\"T_24e31_row10_col4\" class=\"data row10 col4\" >1.0105</td>\n",
              "      <td id=\"T_24e31_row10_col5\" class=\"data row10 col5\" >18.8923</td>\n",
              "    </tr>\n",
              "    <tr>\n",
              "      <th id=\"T_24e31_level0_row11\" class=\"row_heading level0 row11\" >Std</th>\n",
              "      <td id=\"T_24e31_row11_col0\" class=\"data row11 col0\" >0.3896</td>\n",
              "      <td id=\"T_24e31_row11_col1\" class=\"data row11 col1\" >206.9500</td>\n",
              "      <td id=\"T_24e31_row11_col2\" class=\"data row11 col2\" >4.7770</td>\n",
              "      <td id=\"T_24e31_row11_col3\" class=\"data row11 col3\" >0.1234</td>\n",
              "      <td id=\"T_24e31_row11_col4\" class=\"data row11 col4\" >0.0178</td>\n",
              "      <td id=\"T_24e31_row11_col5\" class=\"data row11 col5\" >13.5853</td>\n",
              "    </tr>\n",
              "  </tbody>\n",
              "</table>\n"
            ]
          },
          "metadata": {}
        },
        {
          "output_type": "display_data",
          "data": {
            "text/plain": [
              "Processing:   0%|          | 0/4 [00:00<?, ?it/s]"
            ],
            "application/vnd.jupyter.widget-view+json": {
              "version_major": 2,
              "version_minor": 0,
              "model_id": "45dfd92cd204446183e0266cb90a4cc5"
            }
          },
          "metadata": {
            "application/vnd.jupyter.widget-view+json": {
              "colab": {
                "custom_widget_manager": {
                  "url": "https://ssl.gstatic.com/colaboratory-static/widgets/colab-cdn-widget-manager/b3e629b1971e1542/manager.min.js"
                }
              }
            }
          }
        },
        {
          "output_type": "display_data",
          "data": {
            "text/plain": [
              "<IPython.core.display.HTML object>"
            ],
            "text/html": []
          },
          "metadata": {}
        }
      ],
      "source": [
        "mdl_xgboost = create_model('xgboost')"
      ]
    },
    {
      "cell_type": "markdown",
      "source": [
        "Professor, desta etapa em diante tivemos alguns problemas. Os modelos ficaram muito pesados tanto para fazermos o tune por conta das variáveis dummy como para colocarmos no streamlit que tem um limite de tamanho para as contas free. Por conta desse motivo, seguimos com o modelo mais leve que foi o xgboost, até porque ele também apresentou um desempenho satisfatório com um r² de 0.7, e métricas com RMSE, MAE e MSE boas também. "
      ],
      "metadata": {
        "id": "pXMut1MSI6-V"
      }
    },
    {
      "cell_type": "code",
      "execution_count": 32,
      "metadata": {
        "id": "6lAI3vxRL6er"
      },
      "outputs": [],
      "source": [
        "# tuned_knn = tune_model(mdl_knn)"
      ]
    },
    {
      "cell_type": "code",
      "execution_count": 33,
      "metadata": {
        "id": "Q32surA5L6yt"
      },
      "outputs": [],
      "source": [
        "#tuned_rf = tune_model(mdl_rf)"
      ]
    },
    {
      "cell_type": "code",
      "execution_count": 34,
      "metadata": {
        "id": "aMw6i2xVL-cm"
      },
      "outputs": [],
      "source": [
        "#tuned_dt = tune_model(mdl_dt)"
      ]
    },
    {
      "cell_type": "code",
      "execution_count": 35,
      "metadata": {
        "colab": {
          "base_uri": "https://localhost:8080/",
          "height": 1000
        },
        "id": "533PYfMSVLZZ",
        "outputId": "63637847-3a95-4f54-9d65-34d28b531aac"
      },
      "outputs": [
        {
          "output_type": "stream",
          "name": "stdout",
          "text": [
            "KNeighborsRegressor(n_jobs=-1)\n"
          ]
        },
        {
          "output_type": "display_data",
          "data": {
            "text/plain": [
              "{'algorithm': 'auto',\n",
              " 'leaf_size': 30,\n",
              " 'metric': 'minkowski',\n",
              " 'metric_params': None,\n",
              " 'n_jobs': -1,\n",
              " 'n_neighbors': 5,\n",
              " 'p': 2,\n",
              " 'weights': 'uniform'}"
            ]
          },
          "metadata": {}
        },
        {
          "output_type": "stream",
          "name": "stdout",
          "text": [
            "\n",
            "RandomForestRegressor(n_jobs=-1, random_state=123)\n"
          ]
        },
        {
          "output_type": "display_data",
          "data": {
            "text/plain": [
              "{'bootstrap': True,\n",
              " 'ccp_alpha': 0.0,\n",
              " 'criterion': 'squared_error',\n",
              " 'max_depth': None,\n",
              " 'max_features': 1.0,\n",
              " 'max_leaf_nodes': None,\n",
              " 'max_samples': None,\n",
              " 'min_impurity_decrease': 0.0,\n",
              " 'min_samples_leaf': 1,\n",
              " 'min_samples_split': 2,\n",
              " 'min_weight_fraction_leaf': 0.0,\n",
              " 'n_estimators': 100,\n",
              " 'n_jobs': -1,\n",
              " 'oob_score': False,\n",
              " 'random_state': 123,\n",
              " 'verbose': 0,\n",
              " 'warm_start': False}"
            ]
          },
          "metadata": {}
        },
        {
          "output_type": "stream",
          "name": "stdout",
          "text": [
            "\n",
            "XGBRegressor(base_score=None, booster='gbtree', callbacks=None,\n",
            "             colsample_bylevel=None, colsample_bynode=None,\n",
            "             colsample_bytree=None, early_stopping_rounds=None,\n",
            "             enable_categorical=False, eval_metric=None, feature_types=None,\n",
            "             gamma=None, gpu_id=None, grow_policy=None, importance_type=None,\n",
            "             interaction_constraints=None, learning_rate=None, max_bin=None,\n",
            "             max_cat_threshold=None, max_cat_to_onehot=None,\n",
            "             max_delta_step=None, max_depth=None, max_leaves=None,\n",
            "             min_child_weight=None, missing=nan, monotone_constraints=None,\n",
            "             n_estimators=100, n_jobs=-1, num_parallel_tree=None,\n",
            "             predictor=None, random_state=123, ...)\n"
          ]
        },
        {
          "output_type": "display_data",
          "data": {
            "text/plain": [
              "{'objective': 'reg:squarederror',\n",
              " 'base_score': None,\n",
              " 'booster': 'gbtree',\n",
              " 'callbacks': None,\n",
              " 'colsample_bylevel': None,\n",
              " 'colsample_bynode': None,\n",
              " 'colsample_bytree': None,\n",
              " 'early_stopping_rounds': None,\n",
              " 'enable_categorical': False,\n",
              " 'eval_metric': None,\n",
              " 'feature_types': None,\n",
              " 'gamma': None,\n",
              " 'gpu_id': None,\n",
              " 'grow_policy': None,\n",
              " 'importance_type': None,\n",
              " 'interaction_constraints': None,\n",
              " 'learning_rate': None,\n",
              " 'max_bin': None,\n",
              " 'max_cat_threshold': None,\n",
              " 'max_cat_to_onehot': None,\n",
              " 'max_delta_step': None,\n",
              " 'max_depth': None,\n",
              " 'max_leaves': None,\n",
              " 'min_child_weight': None,\n",
              " 'missing': nan,\n",
              " 'monotone_constraints': None,\n",
              " 'n_estimators': 100,\n",
              " 'n_jobs': -1,\n",
              " 'num_parallel_tree': None,\n",
              " 'predictor': None,\n",
              " 'random_state': 123,\n",
              " 'reg_alpha': None,\n",
              " 'reg_lambda': None,\n",
              " 'sampling_method': None,\n",
              " 'scale_pos_weight': None,\n",
              " 'subsample': None,\n",
              " 'tree_method': 'auto',\n",
              " 'validate_parameters': None,\n",
              " 'verbosity': 0}"
            ]
          },
          "metadata": {}
        },
        {
          "output_type": "stream",
          "name": "stdout",
          "text": [
            "\n"
          ]
        }
      ],
      "source": [
        "for tuned_mdl in [mdl_knn,mdl_rf,mdl_xgboost]:\n",
        "  print(tuned_mdl)\n",
        "  display(tuned_mdl.get_params())\n",
        "  print('')"
      ]
    },
    {
      "cell_type": "code",
      "execution_count": 36,
      "metadata": {
        "colab": {
          "base_uri": "https://localhost:8080/",
          "height": 1000
        },
        "id": "gGlAksjUVnJp",
        "outputId": "13914813-23e7-45df-fd3f-6d1ce1099e75"
      },
      "outputs": [
        {
          "output_type": "display_data",
          "data": {
            "text/plain": [
              "<IPython.core.display.HTML object>"
            ],
            "text/html": []
          },
          "metadata": {}
        },
        {
          "output_type": "display_data",
          "data": {
            "text/plain": [
              "<Figure size 800x550 with 2 Axes>"
            ],
            "image/png": "[encoded data removed]"
          },
          "metadata": {}
        },
        {
          "output_type": "display_data",
          "data": {
            "text/plain": [
              "<IPython.core.display.HTML object>"
            ],
            "text/html": []
          },
          "metadata": {}
        },
        {
          "output_type": "display_data",
          "data": {
            "text/plain": [
              "<Figure size 800x550 with 2 Axes>"
            ],
            "image/png": "[encoded data removed]"
          },
          "metadata": {}
        },
        {
          "output_type": "display_data",
          "data": {
            "text/plain": [
              "<IPython.core.display.HTML object>"
            ],
            "text/html": []
          },
          "metadata": {}
        },
        {
          "output_type": "display_data",
          "data": {
            "text/plain": [
              "<Figure size 800x550 with 2 Axes>"
            ],
            "image/png": "[encoded data removed]"
          },
          "metadata": {}
        }
      ],
      "source": [
        "for tuned_mdl in [mdl_knn,mdl_rf,mdl_xgboost]:\n",
        "  plot_model(tuned_mdl)"
      ]
    },
    {
      "cell_type": "code",
      "execution_count": 37,
      "metadata": {
        "colab": {
          "base_uri": "https://localhost:8080/",
          "height": 800
        },
        "id": "vgwWpnYUVyR4",
        "outputId": "0e5d761d-9c9e-49e3-ad0c-6e50902b4a34"
      },
      "outputs": [
        {
          "output_type": "display_data",
          "data": {
            "text/plain": [
              "<IPython.core.display.HTML object>"
            ],
            "text/html": []
          },
          "metadata": {}
        },
        {
          "output_type": "error",
          "ename": "KeyboardInterrupt",
          "evalue": "ignored",
          "traceback": [
            "\u001b[0;31m---------------------------------------------------------------------------\u001b[0m",
            "\u001b[0;31mKeyboardInterrupt\u001b[0m                         Traceback (most recent call last)",
            "\u001b[0;32m<ipython-input-37-60924c946f3a>\u001b[0m in \u001b[0;36m<cell line: 1>\u001b[0;34m()\u001b[0m\n\u001b[1;32m      1\u001b[0m \u001b[0;32mfor\u001b[0m \u001b[0mtuned_mdl\u001b[0m \u001b[0;32min\u001b[0m \u001b[0;34m[\u001b[0m\u001b[0mmdl_knn\u001b[0m\u001b[0;34m,\u001b[0m\u001b[0mmdl_rf\u001b[0m\u001b[0;34m,\u001b[0m\u001b[0mmdl_xgboost\u001b[0m\u001b[0;34m]\u001b[0m\u001b[0;34m:\u001b[0m\u001b[0;34m\u001b[0m\u001b[0;34m\u001b[0m\u001b[0m\n\u001b[0;32m----> 2\u001b[0;31m   \u001b[0mplot_model\u001b[0m\u001b[0;34m(\u001b[0m\u001b[0mtuned_mdl\u001b[0m\u001b[0;34m,\u001b[0m \u001b[0mplot\u001b[0m \u001b[0;34m=\u001b[0m \u001b[0;34m'learning'\u001b[0m\u001b[0;34m)\u001b[0m\u001b[0;34m\u001b[0m\u001b[0;34m\u001b[0m\u001b[0m\n\u001b[0m",
            "\u001b[0;32m/usr/local/lib/python3.10/dist-packages/pycaret/utils/generic.py\u001b[0m in \u001b[0;36mwrapper\u001b[0;34m(*args, **kwargs)\u001b[0m\n\u001b[1;32m    963\u001b[0m                 \u001b[0;32mif\u001b[0m \u001b[0mglobals_d\u001b[0m\u001b[0;34m[\u001b[0m\u001b[0mname\u001b[0m\u001b[0;34m]\u001b[0m \u001b[0;32mis\u001b[0m \u001b[0;32mNone\u001b[0m\u001b[0;34m:\u001b[0m\u001b[0;34m\u001b[0m\u001b[0;34m\u001b[0m\u001b[0m\n\u001b[1;32m    964\u001b[0m                     \u001b[0;32mraise\u001b[0m \u001b[0mValueError\u001b[0m\u001b[0;34m(\u001b[0m\u001b[0mmessage\u001b[0m\u001b[0;34m)\u001b[0m\u001b[0;34m\u001b[0m\u001b[0;34m\u001b[0m\u001b[0m\n\u001b[0;32m--> 965\u001b[0;31m             \u001b[0;32mreturn\u001b[0m \u001b[0mfunc\u001b[0m\u001b[0;34m(\u001b[0m\u001b[0;34m*\u001b[0m\u001b[0margs\u001b[0m\u001b[0;34m,\u001b[0m \u001b[0;34m**\u001b[0m\u001b[0mkwargs\u001b[0m\u001b[0;34m)\u001b[0m\u001b[0;34m\u001b[0m\u001b[0;34m\u001b[0m\u001b[0m\n\u001b[0m\u001b[1;32m    966\u001b[0m \u001b[0;34m\u001b[0m\u001b[0m\n\u001b[1;32m    967\u001b[0m         \u001b[0;32mreturn\u001b[0m \u001b[0mwrapper\u001b[0m\u001b[0;34m\u001b[0m\u001b[0;34m\u001b[0m\u001b[0m\n",
            "\u001b[0;32m/usr/local/lib/python3.10/dist-packages/pycaret/regression/functional.py\u001b[0m in \u001b[0;36mplot_model\u001b[0;34m(estimator, plot, scale, save, fold, fit_kwargs, plot_kwargs, groups, use_train_data, verbose, display_format)\u001b[0m\n\u001b[1;32m   1658\u001b[0m     \"\"\"\n\u001b[1;32m   1659\u001b[0m \u001b[0;34m\u001b[0m\u001b[0m\n\u001b[0;32m-> 1660\u001b[0;31m     return _CURRENT_EXPERIMENT.plot_model(\n\u001b[0m\u001b[1;32m   1661\u001b[0m         \u001b[0mestimator\u001b[0m\u001b[0;34m=\u001b[0m\u001b[0mestimator\u001b[0m\u001b[0;34m,\u001b[0m\u001b[0;34m\u001b[0m\u001b[0;34m\u001b[0m\u001b[0m\n\u001b[1;32m   1662\u001b[0m         \u001b[0mplot\u001b[0m\u001b[0;34m=\u001b[0m\u001b[0mplot\u001b[0m\u001b[0;34m,\u001b[0m\u001b[0;34m\u001b[0m\u001b[0;34m\u001b[0m\u001b[0m\n",
            "\u001b[0;32m/usr/local/lib/python3.10/dist-packages/pycaret/regression/oop.py\u001b[0m in \u001b[0;36mplot_model\u001b[0;34m(self, estimator, plot, scale, save, fold, fit_kwargs, plot_kwargs, groups, use_train_data, verbose, display_format)\u001b[0m\n\u001b[1;32m   1958\u001b[0m         \"\"\"\n\u001b[1;32m   1959\u001b[0m \u001b[0;34m\u001b[0m\u001b[0m\n\u001b[0;32m-> 1960\u001b[0;31m         return super().plot_model(\n\u001b[0m\u001b[1;32m   1961\u001b[0m             \u001b[0mestimator\u001b[0m\u001b[0;34m=\u001b[0m\u001b[0mestimator\u001b[0m\u001b[0;34m,\u001b[0m\u001b[0;34m\u001b[0m\u001b[0;34m\u001b[0m\u001b[0m\n\u001b[1;32m   1962\u001b[0m             \u001b[0mplot\u001b[0m\u001b[0;34m=\u001b[0m\u001b[0mplot\u001b[0m\u001b[0;34m,\u001b[0m\u001b[0;34m\u001b[0m\u001b[0;34m\u001b[0m\u001b[0m\n",
            "\u001b[0;32m/usr/local/lib/python3.10/dist-packages/pycaret/internal/pycaret_experiment/tabular_experiment.py\u001b[0m in \u001b[0;36mplot_model\u001b[0;34m(self, estimator, plot, scale, save, fold, fit_kwargs, plot_kwargs, groups, feature_name, label, use_train_data, verbose, display_format)\u001b[0m\n\u001b[1;32m   2050\u001b[0m \u001b[0;34m\u001b[0m\u001b[0m\n\u001b[1;32m   2051\u001b[0m         \"\"\"\n\u001b[0;32m-> 2052\u001b[0;31m         return self._plot_model(\n\u001b[0m\u001b[1;32m   2053\u001b[0m             \u001b[0mestimator\u001b[0m\u001b[0;34m=\u001b[0m\u001b[0mestimator\u001b[0m\u001b[0;34m,\u001b[0m\u001b[0;34m\u001b[0m\u001b[0;34m\u001b[0m\u001b[0m\n\u001b[1;32m   2054\u001b[0m             \u001b[0mplot\u001b[0m\u001b[0;34m=\u001b[0m\u001b[0mplot\u001b[0m\u001b[0;34m,\u001b[0m\u001b[0;34m\u001b[0m\u001b[0;34m\u001b[0m\u001b[0m\n",
            "\u001b[0;32m/usr/local/lib/python3.10/dist-packages/pycaret/internal/pycaret_experiment/tabular_experiment.py\u001b[0m in \u001b[0;36m_plot_model\u001b[0;34m(self, estimator, plot, scale, save, fold, fit_kwargs, plot_kwargs, groups, feature_name, label, use_train_data, verbose, system, display, display_format)\u001b[0m\n\u001b[1;32m   1917\u001b[0m                 \u001b[0;31m# execute the plot method\u001b[0m\u001b[0;34m\u001b[0m\u001b[0;34m\u001b[0m\u001b[0m\n\u001b[1;32m   1918\u001b[0m                 \u001b[0;32mwith\u001b[0m \u001b[0mredirect_output\u001b[0m\u001b[0;34m(\u001b[0m\u001b[0mself\u001b[0m\u001b[0;34m.\u001b[0m\u001b[0mlogger\u001b[0m\u001b[0;34m)\u001b[0m\u001b[0;34m:\u001b[0m\u001b[0;34m\u001b[0m\u001b[0;34m\u001b[0m\u001b[0m\n\u001b[0;32m-> 1919\u001b[0;31m                     \u001b[0mret\u001b[0m \u001b[0;34m=\u001b[0m \u001b[0mlocals\u001b[0m\u001b[0;34m(\u001b[0m\u001b[0;34m)\u001b[0m\u001b[0;34m[\u001b[0m\u001b[0mplot\u001b[0m\u001b[0;34m]\u001b[0m\u001b[0;34m(\u001b[0m\u001b[0;34m)\u001b[0m\u001b[0;34m\u001b[0m\u001b[0;34m\u001b[0m\u001b[0m\n\u001b[0m\u001b[1;32m   1920\u001b[0m                 \u001b[0;32mif\u001b[0m \u001b[0mret\u001b[0m\u001b[0;34m:\u001b[0m\u001b[0;34m\u001b[0m\u001b[0;34m\u001b[0m\u001b[0m\n\u001b[1;32m   1921\u001b[0m                     \u001b[0mplot_filename\u001b[0m \u001b[0;34m=\u001b[0m \u001b[0mret\u001b[0m\u001b[0;34m\u001b[0m\u001b[0;34m\u001b[0m\u001b[0m\n",
            "\u001b[0;32m/usr/local/lib/python3.10/dist-packages/pycaret/internal/pycaret_experiment/tabular_experiment.py\u001b[0m in \u001b[0;36mlearning\u001b[0;34m()\u001b[0m\n\u001b[1;32m   1351\u001b[0m                         \u001b[0mrandom_state\u001b[0m\u001b[0;34m=\u001b[0m\u001b[0mself\u001b[0m\u001b[0;34m.\u001b[0m\u001b[0mseed\u001b[0m\u001b[0;34m,\u001b[0m\u001b[0;34m\u001b[0m\u001b[0;34m\u001b[0m\u001b[0m\n\u001b[1;32m   1352\u001b[0m                     )\n\u001b[0;32m-> 1353\u001b[0;31m                     return show_yellowbrick_plot(\n\u001b[0m\u001b[1;32m   1354\u001b[0m                         \u001b[0mvisualizer\u001b[0m\u001b[0;34m=\u001b[0m\u001b[0mvisualizer\u001b[0m\u001b[0;34m,\u001b[0m\u001b[0;34m\u001b[0m\u001b[0;34m\u001b[0m\u001b[0m\n\u001b[1;32m   1355\u001b[0m                         \u001b[0mX_train\u001b[0m\u001b[0;34m=\u001b[0m\u001b[0mself\u001b[0m\u001b[0;34m.\u001b[0m\u001b[0mX_train_transformed\u001b[0m\u001b[0;34m,\u001b[0m\u001b[0;34m\u001b[0m\u001b[0;34m\u001b[0m\u001b[0m\n",
            "\u001b[0;32m/usr/local/lib/python3.10/dist-packages/pycaret/internal/plots/yellowbrick.py\u001b[0m in \u001b[0;36mshow_yellowbrick_plot\u001b[0;34m(visualizer, X_train, y_train, X_test, y_test, name, handle_train, handle_test, scale, save, fit_kwargs, display_format, **kwargs)\u001b[0m\n\u001b[1;32m     85\u001b[0m     \u001b[0;32melif\u001b[0m \u001b[0mhandle_train\u001b[0m \u001b[0;34m==\u001b[0m \u001b[0;34m\"fit\"\u001b[0m\u001b[0;34m:\u001b[0m\u001b[0;34m\u001b[0m\u001b[0;34m\u001b[0m\u001b[0m\n\u001b[1;32m     86\u001b[0m         \u001b[0mlogger\u001b[0m\u001b[0;34m.\u001b[0m\u001b[0minfo\u001b[0m\u001b[0;34m(\u001b[0m\u001b[0;34m\"Fitting Model\"\u001b[0m\u001b[0;34m)\u001b[0m\u001b[0;34m\u001b[0m\u001b[0;34m\u001b[0m\u001b[0m\n\u001b[0;32m---> 87\u001b[0;31m         \u001b[0mvisualizer\u001b[0m\u001b[0;34m.\u001b[0m\u001b[0mfit\u001b[0m\u001b[0;34m(\u001b[0m\u001b[0mX_train\u001b[0m\u001b[0;34m,\u001b[0m \u001b[0my_train\u001b[0m\u001b[0;34m,\u001b[0m \u001b[0;34m**\u001b[0m\u001b[0mfit_kwargs_and_kwargs\u001b[0m\u001b[0;34m)\u001b[0m\u001b[0;34m\u001b[0m\u001b[0;34m\u001b[0m\u001b[0m\n\u001b[0m\u001b[1;32m     88\u001b[0m     \u001b[0;32melif\u001b[0m \u001b[0mhandle_train\u001b[0m \u001b[0;34m==\u001b[0m \u001b[0;34m\"fit_transform\"\u001b[0m\u001b[0;34m:\u001b[0m\u001b[0;34m\u001b[0m\u001b[0;34m\u001b[0m\u001b[0m\n\u001b[1;32m     89\u001b[0m         \u001b[0mlogger\u001b[0m\u001b[0;34m.\u001b[0m\u001b[0minfo\u001b[0m\u001b[0;34m(\u001b[0m\u001b[0;34m\"Fitting & Transforming Model\"\u001b[0m\u001b[0;34m)\u001b[0m\u001b[0;34m\u001b[0m\u001b[0;34m\u001b[0m\u001b[0m\n",
            "\u001b[0;32m/usr/local/lib/python3.10/dist-packages/yellowbrick/model_selection/learning_curve.py\u001b[0m in \u001b[0;36mfit\u001b[0;34m(self, X, y)\u001b[0m\n\u001b[1;32m    247\u001b[0m \u001b[0;34m\u001b[0m\u001b[0m\n\u001b[1;32m    248\u001b[0m         \u001b[0;31m# compute the learning curve and store the scores on the estimator\u001b[0m\u001b[0;34m\u001b[0m\u001b[0;34m\u001b[0m\u001b[0m\n\u001b[0;32m--> 249\u001b[0;31m         \u001b[0mcurve\u001b[0m \u001b[0;34m=\u001b[0m \u001b[0msk_learning_curve\u001b[0m\u001b[0;34m(\u001b[0m\u001b[0mself\u001b[0m\u001b[0;34m.\u001b[0m\u001b[0mestimator\u001b[0m\u001b[0;34m,\u001b[0m \u001b[0mX\u001b[0m\u001b[0;34m,\u001b[0m \u001b[0my\u001b[0m\u001b[0;34m,\u001b[0m \u001b[0;34m**\u001b[0m\u001b[0msklc_kwargs\u001b[0m\u001b[0;34m)\u001b[0m\u001b[0;34m\u001b[0m\u001b[0;34m\u001b[0m\u001b[0m\n\u001b[0m\u001b[1;32m    250\u001b[0m         \u001b[0mself\u001b[0m\u001b[0;34m.\u001b[0m\u001b[0mtrain_sizes_\u001b[0m\u001b[0;34m,\u001b[0m \u001b[0mself\u001b[0m\u001b[0;34m.\u001b[0m\u001b[0mtrain_scores_\u001b[0m\u001b[0;34m,\u001b[0m \u001b[0mself\u001b[0m\u001b[0;34m.\u001b[0m\u001b[0mtest_scores_\u001b[0m \u001b[0;34m=\u001b[0m \u001b[0mcurve\u001b[0m\u001b[0;34m\u001b[0m\u001b[0;34m\u001b[0m\u001b[0m\n\u001b[1;32m    251\u001b[0m \u001b[0;34m\u001b[0m\u001b[0m\n",
            "\u001b[0;32m/usr/local/lib/python3.10/dist-packages/sklearn/model_selection/_validation.py\u001b[0m in \u001b[0;36mlearning_curve\u001b[0;34m(estimator, X, y, groups, train_sizes, cv, scoring, exploit_incremental_learning, n_jobs, pre_dispatch, verbose, shuffle, random_state, error_score, return_times, fit_params)\u001b[0m\n\u001b[1;32m   1595\u001b[0m                 \u001b[0mtrain_test_proportions\u001b[0m\u001b[0;34m.\u001b[0m\u001b[0mappend\u001b[0m\u001b[0;34m(\u001b[0m\u001b[0;34m(\u001b[0m\u001b[0mtrain\u001b[0m\u001b[0;34m[\u001b[0m\u001b[0;34m:\u001b[0m\u001b[0mn_train_samples\u001b[0m\u001b[0;34m]\u001b[0m\u001b[0;34m,\u001b[0m \u001b[0mtest\u001b[0m\u001b[0;34m)\u001b[0m\u001b[0;34m)\u001b[0m\u001b[0;34m\u001b[0m\u001b[0;34m\u001b[0m\u001b[0m\n\u001b[1;32m   1596\u001b[0m \u001b[0;34m\u001b[0m\u001b[0m\n\u001b[0;32m-> 1597\u001b[0;31m         results = parallel(\n\u001b[0m\u001b[1;32m   1598\u001b[0m             delayed(_fit_and_score)(\n\u001b[1;32m   1599\u001b[0m                 \u001b[0mclone\u001b[0m\u001b[0;34m(\u001b[0m\u001b[0mestimator\u001b[0m\u001b[0;34m)\u001b[0m\u001b[0;34m,\u001b[0m\u001b[0;34m\u001b[0m\u001b[0;34m\u001b[0m\u001b[0m\n",
            "\u001b[0;32m/usr/local/lib/python3.10/dist-packages/sklearn/utils/parallel.py\u001b[0m in \u001b[0;36m__call__\u001b[0;34m(self, iterable)\u001b[0m\n\u001b[1;32m     61\u001b[0m             \u001b[0;32mfor\u001b[0m \u001b[0mdelayed_func\u001b[0m\u001b[0;34m,\u001b[0m \u001b[0margs\u001b[0m\u001b[0;34m,\u001b[0m \u001b[0mkwargs\u001b[0m \u001b[0;32min\u001b[0m \u001b[0miterable\u001b[0m\u001b[0;34m\u001b[0m\u001b[0;34m\u001b[0m\u001b[0m\n\u001b[1;32m     62\u001b[0m         )\n\u001b[0;32m---> 63\u001b[0;31m         \u001b[0;32mreturn\u001b[0m \u001b[0msuper\u001b[0m\u001b[0;34m(\u001b[0m\u001b[0;34m)\u001b[0m\u001b[0;34m.\u001b[0m\u001b[0m__call__\u001b[0m\u001b[0;34m(\u001b[0m\u001b[0miterable_with_config\u001b[0m\u001b[0;34m)\u001b[0m\u001b[0;34m\u001b[0m\u001b[0;34m\u001b[0m\u001b[0m\n\u001b[0m\u001b[1;32m     64\u001b[0m \u001b[0;34m\u001b[0m\u001b[0m\n\u001b[1;32m     65\u001b[0m \u001b[0;34m\u001b[0m\u001b[0m\n",
            "\u001b[0;32m/usr/local/lib/python3.10/dist-packages/joblib/parallel.py\u001b[0m in \u001b[0;36m__call__\u001b[0;34m(self, iterable)\u001b[0m\n\u001b[1;32m   1096\u001b[0m \u001b[0;34m\u001b[0m\u001b[0m\n\u001b[1;32m   1097\u001b[0m             \u001b[0;32mwith\u001b[0m \u001b[0mself\u001b[0m\u001b[0;34m.\u001b[0m\u001b[0m_backend\u001b[0m\u001b[0;34m.\u001b[0m\u001b[0mretrieval_context\u001b[0m\u001b[0;34m(\u001b[0m\u001b[0;34m)\u001b[0m\u001b[0;34m:\u001b[0m\u001b[0;34m\u001b[0m\u001b[0;34m\u001b[0m\u001b[0m\n\u001b[0;32m-> 1098\u001b[0;31m                 \u001b[0mself\u001b[0m\u001b[0;34m.\u001b[0m\u001b[0mretrieve\u001b[0m\u001b[0;34m(\u001b[0m\u001b[0;34m)\u001b[0m\u001b[0;34m\u001b[0m\u001b[0;34m\u001b[0m\u001b[0m\n\u001b[0m\u001b[1;32m   1099\u001b[0m             \u001b[0;31m# Make sure that we get a last message telling us we are done\u001b[0m\u001b[0;34m\u001b[0m\u001b[0;34m\u001b[0m\u001b[0m\n\u001b[1;32m   1100\u001b[0m             \u001b[0melapsed_time\u001b[0m \u001b[0;34m=\u001b[0m \u001b[0mtime\u001b[0m\u001b[0;34m.\u001b[0m\u001b[0mtime\u001b[0m\u001b[0;34m(\u001b[0m\u001b[0;34m)\u001b[0m \u001b[0;34m-\u001b[0m \u001b[0mself\u001b[0m\u001b[0;34m.\u001b[0m\u001b[0m_start_time\u001b[0m\u001b[0;34m\u001b[0m\u001b[0;34m\u001b[0m\u001b[0m\n",
            "\u001b[0;32m/usr/local/lib/python3.10/dist-packages/joblib/parallel.py\u001b[0m in \u001b[0;36mretrieve\u001b[0;34m(self)\u001b[0m\n\u001b[1;32m    973\u001b[0m             \u001b[0;32mtry\u001b[0m\u001b[0;34m:\u001b[0m\u001b[0;34m\u001b[0m\u001b[0;34m\u001b[0m\u001b[0m\n\u001b[1;32m    974\u001b[0m                 \u001b[0;32mif\u001b[0m \u001b[0mgetattr\u001b[0m\u001b[0;34m(\u001b[0m\u001b[0mself\u001b[0m\u001b[0;34m.\u001b[0m\u001b[0m_backend\u001b[0m\u001b[0;34m,\u001b[0m \u001b[0;34m'supports_timeout'\u001b[0m\u001b[0;34m,\u001b[0m \u001b[0;32mFalse\u001b[0m\u001b[0;34m)\u001b[0m\u001b[0;34m:\u001b[0m\u001b[0;34m\u001b[0m\u001b[0;34m\u001b[0m\u001b[0m\n\u001b[0;32m--> 975\u001b[0;31m                     \u001b[0mself\u001b[0m\u001b[0;34m.\u001b[0m\u001b[0m_output\u001b[0m\u001b[0;34m.\u001b[0m\u001b[0mextend\u001b[0m\u001b[0;34m(\u001b[0m\u001b[0mjob\u001b[0m\u001b[0;34m.\u001b[0m\u001b[0mget\u001b[0m\u001b[0;34m(\u001b[0m\u001b[0mtimeout\u001b[0m\u001b[0;34m=\u001b[0m\u001b[0mself\u001b[0m\u001b[0;34m.\u001b[0m\u001b[0mtimeout\u001b[0m\u001b[0;34m)\u001b[0m\u001b[0;34m)\u001b[0m\u001b[0;34m\u001b[0m\u001b[0;34m\u001b[0m\u001b[0m\n\u001b[0m\u001b[1;32m    976\u001b[0m                 \u001b[0;32melse\u001b[0m\u001b[0;34m:\u001b[0m\u001b[0;34m\u001b[0m\u001b[0;34m\u001b[0m\u001b[0m\n\u001b[1;32m    977\u001b[0m                     \u001b[0mself\u001b[0m\u001b[0;34m.\u001b[0m\u001b[0m_output\u001b[0m\u001b[0;34m.\u001b[0m\u001b[0mextend\u001b[0m\u001b[0;34m(\u001b[0m\u001b[0mjob\u001b[0m\u001b[0;34m.\u001b[0m\u001b[0mget\u001b[0m\u001b[0;34m(\u001b[0m\u001b[0;34m)\u001b[0m\u001b[0;34m)\u001b[0m\u001b[0;34m\u001b[0m\u001b[0;34m\u001b[0m\u001b[0m\n",
            "\u001b[0;32m/usr/local/lib/python3.10/dist-packages/joblib/_parallel_backends.py\u001b[0m in \u001b[0;36mwrap_future_result\u001b[0;34m(future, timeout)\u001b[0m\n\u001b[1;32m    565\u001b[0m         AsyncResults.get from multiprocessing.\"\"\"\n\u001b[1;32m    566\u001b[0m         \u001b[0;32mtry\u001b[0m\u001b[0;34m:\u001b[0m\u001b[0;34m\u001b[0m\u001b[0;34m\u001b[0m\u001b[0m\n\u001b[0;32m--> 567\u001b[0;31m             \u001b[0;32mreturn\u001b[0m \u001b[0mfuture\u001b[0m\u001b[0;34m.\u001b[0m\u001b[0mresult\u001b[0m\u001b[0;34m(\u001b[0m\u001b[0mtimeout\u001b[0m\u001b[0;34m=\u001b[0m\u001b[0mtimeout\u001b[0m\u001b[0;34m)\u001b[0m\u001b[0;34m\u001b[0m\u001b[0;34m\u001b[0m\u001b[0m\n\u001b[0m\u001b[1;32m    568\u001b[0m         \u001b[0;32mexcept\u001b[0m \u001b[0mCfTimeoutError\u001b[0m \u001b[0;32mas\u001b[0m \u001b[0me\u001b[0m\u001b[0;34m:\u001b[0m\u001b[0;34m\u001b[0m\u001b[0;34m\u001b[0m\u001b[0m\n\u001b[1;32m    569\u001b[0m             \u001b[0;32mraise\u001b[0m \u001b[0mTimeoutError\u001b[0m \u001b[0;32mfrom\u001b[0m \u001b[0me\u001b[0m\u001b[0;34m\u001b[0m\u001b[0;34m\u001b[0m\u001b[0m\n",
            "\u001b[0;32m/usr/lib/python3.10/concurrent/futures/_base.py\u001b[0m in \u001b[0;36mresult\u001b[0;34m(self, timeout)\u001b[0m\n\u001b[1;32m    451\u001b[0m                     \u001b[0;32mreturn\u001b[0m \u001b[0mself\u001b[0m\u001b[0;34m.\u001b[0m\u001b[0m__get_result\u001b[0m\u001b[0;34m(\u001b[0m\u001b[0;34m)\u001b[0m\u001b[0;34m\u001b[0m\u001b[0;34m\u001b[0m\u001b[0m\n\u001b[1;32m    452\u001b[0m \u001b[0;34m\u001b[0m\u001b[0m\n\u001b[0;32m--> 453\u001b[0;31m                 \u001b[0mself\u001b[0m\u001b[0;34m.\u001b[0m\u001b[0m_condition\u001b[0m\u001b[0;34m.\u001b[0m\u001b[0mwait\u001b[0m\u001b[0;34m(\u001b[0m\u001b[0mtimeout\u001b[0m\u001b[0;34m)\u001b[0m\u001b[0;34m\u001b[0m\u001b[0;34m\u001b[0m\u001b[0m\n\u001b[0m\u001b[1;32m    454\u001b[0m \u001b[0;34m\u001b[0m\u001b[0m\n\u001b[1;32m    455\u001b[0m                 \u001b[0;32mif\u001b[0m \u001b[0mself\u001b[0m\u001b[0;34m.\u001b[0m\u001b[0m_state\u001b[0m \u001b[0;32min\u001b[0m \u001b[0;34m[\u001b[0m\u001b[0mCANCELLED\u001b[0m\u001b[0;34m,\u001b[0m \u001b[0mCANCELLED_AND_NOTIFIED\u001b[0m\u001b[0;34m]\u001b[0m\u001b[0;34m:\u001b[0m\u001b[0;34m\u001b[0m\u001b[0;34m\u001b[0m\u001b[0m\n",
            "\u001b[0;32m/usr/lib/python3.10/threading.py\u001b[0m in \u001b[0;36mwait\u001b[0;34m(self, timeout)\u001b[0m\n\u001b[1;32m    318\u001b[0m         \u001b[0;32mtry\u001b[0m\u001b[0;34m:\u001b[0m    \u001b[0;31m# restore state no matter what (e.g., KeyboardInterrupt)\u001b[0m\u001b[0;34m\u001b[0m\u001b[0;34m\u001b[0m\u001b[0m\n\u001b[1;32m    319\u001b[0m             \u001b[0;32mif\u001b[0m \u001b[0mtimeout\u001b[0m \u001b[0;32mis\u001b[0m \u001b[0;32mNone\u001b[0m\u001b[0;34m:\u001b[0m\u001b[0;34m\u001b[0m\u001b[0;34m\u001b[0m\u001b[0m\n\u001b[0;32m--> 320\u001b[0;31m                 \u001b[0mwaiter\u001b[0m\u001b[0;34m.\u001b[0m\u001b[0macquire\u001b[0m\u001b[0;34m(\u001b[0m\u001b[0;34m)\u001b[0m\u001b[0;34m\u001b[0m\u001b[0;34m\u001b[0m\u001b[0m\n\u001b[0m\u001b[1;32m    321\u001b[0m                 \u001b[0mgotit\u001b[0m \u001b[0;34m=\u001b[0m \u001b[0;32mTrue\u001b[0m\u001b[0;34m\u001b[0m\u001b[0;34m\u001b[0m\u001b[0m\n\u001b[1;32m    322\u001b[0m             \u001b[0;32melse\u001b[0m\u001b[0;34m:\u001b[0m\u001b[0;34m\u001b[0m\u001b[0;34m\u001b[0m\u001b[0m\n",
            "\u001b[0;31mKeyboardInterrupt\u001b[0m: "
          ]
        },
        {
          "output_type": "display_data",
          "data": {
            "text/plain": [
              "<Figure size 800x550 with 1 Axes>"
            ],
            "image/png": "[encoded data removed]"
          },
          "metadata": {}
        }
      ],
      "source": [
        "for tuned_mdl in [mdl_knn,mdl_rf,mdl_xgboost]:\n",
        "  plot_model(tuned_mdl, plot = 'learning')"
      ]
    },
    {
      "cell_type": "code",
      "execution_count": 38,
      "metadata": {
        "colab": {
          "base_uri": "https://localhost:8080/",
          "height": 226
        },
        "id": "cTzXG2Vya6nV",
        "outputId": "67799608-bd61-4c8f-a310-aaa8f958223b"
      },
      "outputs": [
        {
          "output_type": "display_data",
          "data": {
            "text/plain": [
              "<pandas.io.formats.style.Styler at 0x7f34248298a0>"
            ],
            "text/html": [
              "<style type=\"text/css\">\n",
              "</style>\n",
              "<table id=\"T_6bc11\" class=\"dataframe\">\n",
              "  <thead>\n",
              "    <tr>\n",
              "      <th class=\"blank level0\" >&nbsp;</th>\n",
              "      <th id=\"T_6bc11_level0_col0\" class=\"col_heading level0 col0\" >Model</th>\n",
              "      <th id=\"T_6bc11_level0_col1\" class=\"col_heading level0 col1\" >MAE</th>\n",
              "      <th id=\"T_6bc11_level0_col2\" class=\"col_heading level0 col2\" >MSE</th>\n",
              "      <th id=\"T_6bc11_level0_col3\" class=\"col_heading level0 col3\" >RMSE</th>\n",
              "      <th id=\"T_6bc11_level0_col4\" class=\"col_heading level0 col4\" >R2</th>\n",
              "      <th id=\"T_6bc11_level0_col5\" class=\"col_heading level0 col5\" >RMSLE</th>\n",
              "      <th id=\"T_6bc11_level0_col6\" class=\"col_heading level0 col6\" >MAPE</th>\n",
              "    </tr>\n",
              "  </thead>\n",
              "  <tbody>\n",
              "    <tr>\n",
              "      <th id=\"T_6bc11_level0_row0\" class=\"row_heading level0 row0\" >0</th>\n",
              "      <td id=\"T_6bc11_row0_col0\" class=\"data row0 col0\" >K Neighbors Regressor</td>\n",
              "      <td id=\"T_6bc11_row0_col1\" class=\"data row0 col1\" >4.7465</td>\n",
              "      <td id=\"T_6bc11_row0_col2\" class=\"data row0 col2\" >330.0360</td>\n",
              "      <td id=\"T_6bc11_row0_col3\" class=\"data row0 col3\" >18.1669</td>\n",
              "      <td id=\"T_6bc11_row0_col4\" class=\"data row0 col4\" >0.7588</td>\n",
              "      <td id=\"T_6bc11_row0_col5\" class=\"data row0 col5\" >0.6548</td>\n",
              "      <td id=\"T_6bc11_row0_col6\" class=\"data row0 col6\" >3.7099</td>\n",
              "    </tr>\n",
              "  </tbody>\n",
              "</table>\n"
            ]
          },
          "metadata": {}
        },
        {
          "output_type": "display_data",
          "data": {
            "text/plain": [
              "<pandas.io.formats.style.Styler at 0x7f3420353160>"
            ],
            "text/html": [
              "<style type=\"text/css\">\n",
              "</style>\n",
              "<table id=\"T_7917a\" class=\"dataframe\">\n",
              "  <thead>\n",
              "    <tr>\n",
              "      <th class=\"blank level0\" >&nbsp;</th>\n",
              "      <th id=\"T_7917a_level0_col0\" class=\"col_heading level0 col0\" >Model</th>\n",
              "      <th id=\"T_7917a_level0_col1\" class=\"col_heading level0 col1\" >MAE</th>\n",
              "      <th id=\"T_7917a_level0_col2\" class=\"col_heading level0 col2\" >MSE</th>\n",
              "      <th id=\"T_7917a_level0_col3\" class=\"col_heading level0 col3\" >RMSE</th>\n",
              "      <th id=\"T_7917a_level0_col4\" class=\"col_heading level0 col4\" >R2</th>\n",
              "      <th id=\"T_7917a_level0_col5\" class=\"col_heading level0 col5\" >RMSLE</th>\n",
              "      <th id=\"T_7917a_level0_col6\" class=\"col_heading level0 col6\" >MAPE</th>\n",
              "    </tr>\n",
              "  </thead>\n",
              "  <tbody>\n",
              "    <tr>\n",
              "      <th id=\"T_7917a_level0_row0\" class=\"row_heading level0 row0\" >0</th>\n",
              "      <td id=\"T_7917a_row0_col0\" class=\"data row0 col0\" >Random Forest Regressor</td>\n",
              "      <td id=\"T_7917a_row0_col1\" class=\"data row0 col1\" >4.6349</td>\n",
              "      <td id=\"T_7917a_row0_col2\" class=\"data row0 col2\" >283.6361</td>\n",
              "      <td id=\"T_7917a_row0_col3\" class=\"data row0 col3\" >16.8415</td>\n",
              "      <td id=\"T_7917a_row0_col4\" class=\"data row0 col4\" >0.7927</td>\n",
              "      <td id=\"T_7917a_row0_col5\" class=\"data row0 col5\" >0.6282</td>\n",
              "      <td id=\"T_7917a_row0_col6\" class=\"data row0 col6\" >3.3975</td>\n",
              "    </tr>\n",
              "  </tbody>\n",
              "</table>\n"
            ]
          },
          "metadata": {}
        },
        {
          "output_type": "display_data",
          "data": {
            "text/plain": [
              "<pandas.io.formats.style.Styler at 0x7f34225cf130>"
            ],
            "text/html": [
              "<style type=\"text/css\">\n",
              "</style>\n",
              "<table id=\"T_0227c\" class=\"dataframe\">\n",
              "  <thead>\n",
              "    <tr>\n",
              "      <th class=\"blank level0\" >&nbsp;</th>\n",
              "      <th id=\"T_0227c_level0_col0\" class=\"col_heading level0 col0\" >Model</th>\n",
              "      <th id=\"T_0227c_level0_col1\" class=\"col_heading level0 col1\" >MAE</th>\n",
              "      <th id=\"T_0227c_level0_col2\" class=\"col_heading level0 col2\" >MSE</th>\n",
              "      <th id=\"T_0227c_level0_col3\" class=\"col_heading level0 col3\" >RMSE</th>\n",
              "      <th id=\"T_0227c_level0_col4\" class=\"col_heading level0 col4\" >R2</th>\n",
              "      <th id=\"T_0227c_level0_col5\" class=\"col_heading level0 col5\" >RMSLE</th>\n",
              "      <th id=\"T_0227c_level0_col6\" class=\"col_heading level0 col6\" >MAPE</th>\n",
              "    </tr>\n",
              "  </thead>\n",
              "  <tbody>\n",
              "    <tr>\n",
              "      <th id=\"T_0227c_level0_row0\" class=\"row_heading level0 row0\" >0</th>\n",
              "      <td id=\"T_0227c_row0_col0\" class=\"data row0 col0\" >Extreme Gradient Boosting</td>\n",
              "      <td id=\"T_0227c_row0_col1\" class=\"data row0 col1\" >6.1457</td>\n",
              "      <td id=\"T_0227c_row0_col2\" class=\"data row0 col2\" >320.5260</td>\n",
              "      <td id=\"T_0227c_row0_col3\" class=\"data row0 col3\" >17.9032</td>\n",
              "      <td id=\"T_0227c_row0_col4\" class=\"data row0 col4\" >0.7657</td>\n",
              "      <td id=\"T_0227c_row0_col5\" class=\"data row0 col5\" >1.0179</td>\n",
              "      <td id=\"T_0227c_row0_col6\" class=\"data row0 col6\" >89.1333</td>\n",
              "    </tr>\n",
              "  </tbody>\n",
              "</table>\n"
            ]
          },
          "metadata": {}
        },
        {
          "output_type": "display_data",
          "data": {
            "text/plain": [
              "[('pycaret_KNN', 0.7588), ('pycaret_RF', 0.7927), ('pycaret_xgboost', 0.7657)]"
            ]
          },
          "metadata": {}
        }
      ],
      "source": [
        "comp_models = []\n",
        "# #gbr_R2\n",
        "pred_knn = predict_model(mdl_knn)\n",
        "r2_knn = r2_score(pred_knn['delta_areakm'], pred_knn['prediction_label'])\n",
        "#append r2 em uma tabela comparativa\n",
        "comp_models.append(('pycaret_KNN', np.round(r2_knn,4)))\n",
        "\n",
        "#rf_R2\n",
        "pred_rf = predict_model(mdl_rf)\n",
        "r2_rf= r2_score(pred_rf['delta_areakm'], pred_rf['prediction_label'])\n",
        "#append r2 em uma tabela comparativa\n",
        "comp_models.append(('pycaret_RF', np.round(r2_rf,4)))\n",
        "\n",
        "#rf_R2\n",
        "pred_xgboost = predict_model(mdl_xgboost)\n",
        "r2_xgboost= r2_score(pred_xgboost['delta_areakm'], pred_xgboost['prediction_label'])\n",
        "#append r2 em uma tabela comparativa\n",
        "comp_models.append(('pycaret_xgboost', np.round(r2_xgboost,4)))\n",
        "\n",
        "display(comp_models)"
      ]
    },
    {
      "cell_type": "code",
      "execution_count": 39,
      "metadata": {
        "colab": {
          "base_uri": "https://localhost:8080/",
          "height": 394
        },
        "id": "VaqcjGkhi56L",
        "outputId": "6d0a8f1d-dae8-44a5-f11c-7989809b8a67"
      },
      "outputs": [
        {
          "output_type": "execute_result",
          "data": {
            "text/plain": [
              "Pipeline(memory=FastMemory(location=/tmp/joblib),\n",
              "         steps=[('numerical_imputer',\n",
              "                 TransformerWrapper(include=['year', 'geocode_ibge',\n",
              "                                             'governo_Bolsonaro',\n",
              "                                             'governo_Dilma', 'governo_Lula',\n",
              "                                             'governo_Temer', 'state_Acre',\n",
              "                                             'state_Amapá', 'state_Amazonas',\n",
              "                                             'state_Maranhão',\n",
              "                                             'state_Mato Grosso', 'state_Pará',\n",
              "                                             'state_Rondônia', 'state_Roraima',\n",
              "                                             'state_Tocantins',\n",
              "                                             'municipalit...\n",
              "                                             'municipality_Alta Floresta',\n",
              "                                             'municipality_Alta Floresta '\n",
              "                                             \"D'Oeste\", ...],\n",
              "                                    transformer=SimpleImputer())),\n",
              "                ('categorical_imputer',\n",
              "                 TransformerWrapper(include=[],\n",
              "                                    transformer=SimpleImputer(strategy='most_frequent'))),\n",
              "                ('clean_column_names',\n",
              "                 TransformerWrapper(transformer=CleanColumnNames())),\n",
              "                ('actual_estimator',\n",
              "                 RandomForestRegressor(n_jobs=-1, random_state=123))])"
            ],
            "text/html": [
              "<style>#sk-container-id-1 {color: black;background-color: white;}#sk-container-id-1 pre{padding: 0;}#sk-container-id-1 div.sk-toggleable {background-color: white;}#sk-container-id-1 label.sk-toggleable__label {cursor: pointer;display: block;width: 100%;margin-bottom: 0;padding: 0.3em;box-sizing: border-box;text-align: center;}#sk-container-id-1 label.sk-toggleable__label-arrow:before {content: \"▸\";float: left;margin-right: 0.25em;color: #696969;}#sk-container-id-1 label.sk-toggleable__label-arrow:hover:before {color: black;}#sk-container-id-1 div.sk-estimator:hover label.sk-toggleable__label-arrow:before {color: black;}#sk-container-id-1 div.sk-toggleable__content {max-height: 0;max-width: 0;overflow: hidden;text-align: left;background-color: #f0f8ff;}#sk-container-id-1 div.sk-toggleable__content pre {margin: 0.2em;color: black;border-radius: 0.25em;background-color: #f0f8ff;}#sk-container-id-1 input.sk-toggleable__control:checked~div.sk-toggleable__content {max-height: 200px;max-width: 100%;overflow: auto;}#sk-container-id-1 input.sk-toggleable__control:checked~label.sk-toggleable__label-arrow:before {content: \"▾\";}#sk-container-id-1 div.sk-estimator input.sk-toggleable__control:checked~label.sk-toggleable__label {background-color: #d4ebff;}#sk-container-id-1 div.sk-label input.sk-toggleable__control:checked~label.sk-toggleable__label {background-color: #d4ebff;}#sk-container-id-1 input.sk-hidden--visually {border: 0;clip: rect(1px 1px 1px 1px);clip: rect(1px, 1px, 1px, 1px);height: 1px;margin: -1px;overflow: hidden;padding: 0;position: absolute;width: 1px;}#sk-container-id-1 div.sk-estimator {font-family: monospace;background-color: #f0f8ff;border: 1px dotted black;border-radius: 0.25em;box-sizing: border-box;margin-bottom: 0.5em;}#sk-container-id-1 div.sk-estimator:hover {background-color: #d4ebff;}#sk-container-id-1 div.sk-parallel-item::after {content: \"\";width: 100%;border-bottom: 1px solid gray;flex-grow: 1;}#sk-container-id-1 div.sk-label:hover label.sk-toggleable__label {background-color: #d4ebff;}#sk-container-id-1 div.sk-serial::before {content: \"\";position: absolute;border-left: 1px solid gray;box-sizing: border-box;top: 0;bottom: 0;left: 50%;z-index: 0;}#sk-container-id-1 div.sk-serial {display: flex;flex-direction: column;align-items: center;background-color: white;padding-right: 0.2em;padding-left: 0.2em;position: relative;}#sk-container-id-1 div.sk-item {position: relative;z-index: 1;}#sk-container-id-1 div.sk-parallel {display: flex;align-items: stretch;justify-content: center;background-color: white;position: relative;}#sk-container-id-1 div.sk-item::before, #sk-container-id-1 div.sk-parallel-item::before {content: \"\";position: absolute;border-left: 1px solid gray;box-sizing: border-box;top: 0;bottom: 0;left: 50%;z-index: -1;}#sk-container-id-1 div.sk-parallel-item {display: flex;flex-direction: column;z-index: 1;position: relative;background-color: white;}#sk-container-id-1 div.sk-parallel-item:first-child::after {align-self: flex-end;width: 50%;}#sk-container-id-1 div.sk-parallel-item:last-child::after {align-self: flex-start;width: 50%;}#sk-container-id-1 div.sk-parallel-item:only-child::after {width: 0;}#sk-container-id-1 div.sk-dashed-wrapped {border: 1px dashed gray;margin: 0 0.4em 0.5em 0.4em;box-sizing: border-box;padding-bottom: 0.4em;background-color: white;}#sk-container-id-1 div.sk-label label {font-family: monospace;font-weight: bold;display: inline-block;line-height: 1.2em;}#sk-container-id-1 div.sk-label-container {text-align: center;}#sk-container-id-1 div.sk-container {/* jupyter's `normalize.less` sets `[hidden] { display: none; }` but bootstrap.min.css set `[hidden] { display: none !important; }` so we also need the `!important` here to be able to override the default hidden behavior on the sphinx rendered scikit-learn.org. See: https://github.com/scikit-learn/scikit-learn/issues/21755 */display: inline-block !important;position: relative;}#sk-container-id-1 div.sk-text-repr-fallback {display: none;}</style><div id=\"sk-container-id-1\" class=\"sk-top-container\"><div class=\"sk-text-repr-fallback\"><pre>Pipeline(memory=FastMemory(location=/tmp/joblib),\n",
              "         steps=[(&#x27;numerical_imputer&#x27;,\n",
              "                 TransformerWrapper(include=[&#x27;year&#x27;, &#x27;geocode_ibge&#x27;,\n",
              "                                             &#x27;governo_Bolsonaro&#x27;,\n",
              "                                             &#x27;governo_Dilma&#x27;, &#x27;governo_Lula&#x27;,\n",
              "                                             &#x27;governo_Temer&#x27;, &#x27;state_Acre&#x27;,\n",
              "                                             &#x27;state_Amapá&#x27;, &#x27;state_Amazonas&#x27;,\n",
              "                                             &#x27;state_Maranhão&#x27;,\n",
              "                                             &#x27;state_Mato Grosso&#x27;, &#x27;state_Pará&#x27;,\n",
              "                                             &#x27;state_Rondônia&#x27;, &#x27;state_Roraima&#x27;,\n",
              "                                             &#x27;state_Tocantins&#x27;,\n",
              "                                             &#x27;municipalit...\n",
              "                                             &#x27;municipality_Alta Floresta&#x27;,\n",
              "                                             &#x27;municipality_Alta Floresta &#x27;\n",
              "                                             &quot;D&#x27;Oeste&quot;, ...],\n",
              "                                    transformer=SimpleImputer())),\n",
              "                (&#x27;categorical_imputer&#x27;,\n",
              "                 TransformerWrapper(include=[],\n",
              "                                    transformer=SimpleImputer(strategy=&#x27;most_frequent&#x27;))),\n",
              "                (&#x27;clean_column_names&#x27;,\n",
              "                 TransformerWrapper(transformer=CleanColumnNames())),\n",
              "                (&#x27;actual_estimator&#x27;,\n",
              "                 RandomForestRegressor(n_jobs=-1, random_state=123))])</pre><b>In a Jupyter environment, please rerun this cell to show the HTML representation or trust the notebook. <br />On GitHub, the HTML representation is unable to render, please try loading this page with nbviewer.org.</b></div><div class=\"sk-container\" hidden><div class=\"sk-item sk-dashed-wrapped\"><div class=\"sk-label-container\"><div class=\"sk-label sk-toggleable\"><input class=\"sk-toggleable__control sk-hidden--visually\" id=\"sk-estimator-id-1\" type=\"checkbox\" ><label for=\"sk-estimator-id-1\" class=\"sk-toggleable__label sk-toggleable__label-arrow\">Pipeline</label><div class=\"sk-toggleable__content\"><pre>Pipeline(memory=FastMemory(location=/tmp/joblib),\n",
              "         steps=[(&#x27;numerical_imputer&#x27;,\n",
              "                 TransformerWrapper(include=[&#x27;year&#x27;, &#x27;geocode_ibge&#x27;,\n",
              "                                             &#x27;governo_Bolsonaro&#x27;,\n",
              "                                             &#x27;governo_Dilma&#x27;, &#x27;governo_Lula&#x27;,\n",
              "                                             &#x27;governo_Temer&#x27;, &#x27;state_Acre&#x27;,\n",
              "                                             &#x27;state_Amapá&#x27;, &#x27;state_Amazonas&#x27;,\n",
              "                                             &#x27;state_Maranhão&#x27;,\n",
              "                                             &#x27;state_Mato Grosso&#x27;, &#x27;state_Pará&#x27;,\n",
              "                                             &#x27;state_Rondônia&#x27;, &#x27;state_Roraima&#x27;,\n",
              "                                             &#x27;state_Tocantins&#x27;,\n",
              "                                             &#x27;municipalit...\n",
              "                                             &#x27;municipality_Alta Floresta&#x27;,\n",
              "                                             &#x27;municipality_Alta Floresta &#x27;\n",
              "                                             &quot;D&#x27;Oeste&quot;, ...],\n",
              "                                    transformer=SimpleImputer())),\n",
              "                (&#x27;categorical_imputer&#x27;,\n",
              "                 TransformerWrapper(include=[],\n",
              "                                    transformer=SimpleImputer(strategy=&#x27;most_frequent&#x27;))),\n",
              "                (&#x27;clean_column_names&#x27;,\n",
              "                 TransformerWrapper(transformer=CleanColumnNames())),\n",
              "                (&#x27;actual_estimator&#x27;,\n",
              "                 RandomForestRegressor(n_jobs=-1, random_state=123))])</pre></div></div></div><div class=\"sk-serial\"><div class=\"sk-item sk-dashed-wrapped\"><div class=\"sk-label-container\"><div class=\"sk-label sk-toggleable\"><input class=\"sk-toggleable__control sk-hidden--visually\" id=\"sk-estimator-id-2\" type=\"checkbox\" ><label for=\"sk-estimator-id-2\" class=\"sk-toggleable__label sk-toggleable__label-arrow\">numerical_imputer: TransformerWrapper</label><div class=\"sk-toggleable__content\"><pre>TransformerWrapper(include=[&#x27;year&#x27;, &#x27;geocode_ibge&#x27;, &#x27;governo_Bolsonaro&#x27;,\n",
              "                            &#x27;governo_Dilma&#x27;, &#x27;governo_Lula&#x27;, &#x27;governo_Temer&#x27;,\n",
              "                            &#x27;state_Acre&#x27;, &#x27;state_Amapá&#x27;, &#x27;state_Amazonas&#x27;,\n",
              "                            &#x27;state_Maranhão&#x27;, &#x27;state_Mato Grosso&#x27;, &#x27;state_Pará&#x27;,\n",
              "                            &#x27;state_Rondônia&#x27;, &#x27;state_Roraima&#x27;,\n",
              "                            &#x27;state_Tocantins&#x27;, &#x27;municipality_Abaetetuba&#x27;,\n",
              "                            &#x27;municipality_Abel Figueiredo&#x27;,\n",
              "                            &#x27;municipality_Abreulândia&#x27;, &#x27;municipality_Acará&#x27;,\n",
              "                            &#x27;municipality_Acorizal&#x27;, &#x27;municipality_Acrelândia&#x27;,\n",
              "                            &#x27;municipality_Afuá&#x27;, &#x27;municipality_Aguiarnópolis&#x27;,\n",
              "                            &#x27;municipality_Alcântara&#x27;, &#x27;municipality_Alenquer&#x27;,\n",
              "                            &#x27;municipality_Aliança do Tocantins&#x27;,\n",
              "                            &#x27;municipality_Almas&#x27;, &#x27;municipality_Almeirim&#x27;,\n",
              "                            &#x27;municipality_Alta Floresta&#x27;,\n",
              "                            &quot;municipality_Alta Floresta D&#x27;Oeste&quot;, ...],\n",
              "                   transformer=SimpleImputer())</pre></div></div></div><div class=\"sk-parallel\"><div class=\"sk-parallel-item\"><div class=\"sk-item\"><div class=\"sk-label-container\"><div class=\"sk-label sk-toggleable\"><input class=\"sk-toggleable__control sk-hidden--visually\" id=\"sk-estimator-id-3\" type=\"checkbox\" ><label for=\"sk-estimator-id-3\" class=\"sk-toggleable__label sk-toggleable__label-arrow\">transformer: SimpleImputer</label><div class=\"sk-toggleable__content\"><pre>SimpleImputer()</pre></div></div></div><div class=\"sk-serial\"><div class=\"sk-item\"><div class=\"sk-estimator sk-toggleable\"><input class=\"sk-toggleable__control sk-hidden--visually\" id=\"sk-estimator-id-4\" type=\"checkbox\" ><label for=\"sk-estimator-id-4\" class=\"sk-toggleable__label sk-toggleable__label-arrow\">SimpleImputer</label><div class=\"sk-toggleable__content\"><pre>SimpleImputer()</pre></div></div></div></div></div></div></div></div><div class=\"sk-item sk-dashed-wrapped\"><div class=\"sk-label-container\"><div class=\"sk-label sk-toggleable\"><input class=\"sk-toggleable__control sk-hidden--visually\" id=\"sk-estimator-id-5\" type=\"checkbox\" ><label for=\"sk-estimator-id-5\" class=\"sk-toggleable__label sk-toggleable__label-arrow\">categorical_imputer: TransformerWrapper</label><div class=\"sk-toggleable__content\"><pre>TransformerWrapper(include=[],\n",
              "                   transformer=SimpleImputer(strategy=&#x27;most_frequent&#x27;))</pre></div></div></div><div class=\"sk-parallel\"><div class=\"sk-parallel-item\"><div class=\"sk-item\"><div class=\"sk-label-container\"><div class=\"sk-label sk-toggleable\"><input class=\"sk-toggleable__control sk-hidden--visually\" id=\"sk-estimator-id-6\" type=\"checkbox\" ><label for=\"sk-estimator-id-6\" class=\"sk-toggleable__label sk-toggleable__label-arrow\">transformer: SimpleImputer</label><div class=\"sk-toggleable__content\"><pre>SimpleImputer(strategy=&#x27;most_frequent&#x27;)</pre></div></div></div><div class=\"sk-serial\"><div class=\"sk-item\"><div class=\"sk-estimator sk-toggleable\"><input class=\"sk-toggleable__control sk-hidden--visually\" id=\"sk-estimator-id-7\" type=\"checkbox\" ><label for=\"sk-estimator-id-7\" class=\"sk-toggleable__label sk-toggleable__label-arrow\">SimpleImputer</label><div class=\"sk-toggleable__content\"><pre>SimpleImputer(strategy=&#x27;most_frequent&#x27;)</pre></div></div></div></div></div></div></div></div><div class=\"sk-item sk-dashed-wrapped\"><div class=\"sk-label-container\"><div class=\"sk-label sk-toggleable\"><input class=\"sk-toggleable__control sk-hidden--visually\" id=\"sk-estimator-id-8\" type=\"checkbox\" ><label for=\"sk-estimator-id-8\" class=\"sk-toggleable__label sk-toggleable__label-arrow\">clean_column_names: TransformerWrapper</label><div class=\"sk-toggleable__content\"><pre>TransformerWrapper(transformer=CleanColumnNames())</pre></div></div></div><div class=\"sk-parallel\"><div class=\"sk-parallel-item\"><div class=\"sk-item\"><div class=\"sk-label-container\"><div class=\"sk-label sk-toggleable\"><input class=\"sk-toggleable__control sk-hidden--visually\" id=\"sk-estimator-id-9\" type=\"checkbox\" ><label for=\"sk-estimator-id-9\" class=\"sk-toggleable__label sk-toggleable__label-arrow\">transformer: CleanColumnNames</label><div class=\"sk-toggleable__content\"><pre>CleanColumnNames()</pre></div></div></div><div class=\"sk-serial\"><div class=\"sk-item\"><div class=\"sk-estimator sk-toggleable\"><input class=\"sk-toggleable__control sk-hidden--visually\" id=\"sk-estimator-id-10\" type=\"checkbox\" ><label for=\"sk-estimator-id-10\" class=\"sk-toggleable__label sk-toggleable__label-arrow\">CleanColumnNames</label><div class=\"sk-toggleable__content\"><pre>CleanColumnNames()</pre></div></div></div></div></div></div></div></div><div class=\"sk-item\"><div class=\"sk-estimator sk-toggleable\"><input class=\"sk-toggleable__control sk-hidden--visually\" id=\"sk-estimator-id-11\" type=\"checkbox\" ><label for=\"sk-estimator-id-11\" class=\"sk-toggleable__label sk-toggleable__label-arrow\">RandomForestRegressor</label><div class=\"sk-toggleable__content\"><pre>RandomForestRegressor(n_jobs=-1, random_state=123)</pre></div></div></div></div></div></div></div>"
            ]
          },
          "metadata": {},
          "execution_count": 39
        }
      ],
      "source": [
        "finalize_model(mdl_rf)"
      ]
    },
    {
      "cell_type": "code",
      "execution_count": 40,
      "metadata": {
        "colab": {
          "base_uri": "https://localhost:8080/"
        },
        "id": "yJfn6Z7OjC04",
        "outputId": "b407e22d-d891-4e96-ae78-0624f1e3a68a"
      },
      "outputs": [
        {
          "output_type": "stream",
          "name": "stdout",
          "text": [
            "Transformation Pipeline and Model Successfully Saved\n"
          ]
        },
        {
          "output_type": "execute_result",
          "data": {
            "text/plain": [
              "(Pipeline(memory=FastMemory(location=/tmp/joblib),\n",
              "          steps=[('numerical_imputer',\n",
              "                  TransformerWrapper(include=['year', 'geocode_ibge',\n",
              "                                              'governo_Bolsonaro',\n",
              "                                              'governo_Dilma', 'governo_Lula',\n",
              "                                              'governo_Temer', 'state_Acre',\n",
              "                                              'state_Amapá', 'state_Amazonas',\n",
              "                                              'state_Maranhão',\n",
              "                                              'state_Mato Grosso', 'state_Pará',\n",
              "                                              'state_Rondônia', 'state_Roraima',\n",
              "                                              'state_Tocantins',\n",
              "                                              'municipalit...\n",
              "                                              'municipality_Alta Floresta',\n",
              "                                              'municipality_Alta Floresta '\n",
              "                                              \"D'Oeste\", ...],\n",
              "                                     transformer=SimpleImputer())),\n",
              "                 ('categorical_imputer',\n",
              "                  TransformerWrapper(include=[],\n",
              "                                     transformer=SimpleImputer(strategy='most_frequent'))),\n",
              "                 ('clean_column_names',\n",
              "                  TransformerWrapper(transformer=CleanColumnNames())),\n",
              "                 ('trained_model',\n",
              "                  RandomForestRegressor(n_jobs=-1, random_state=123))]),\n",
              " 'pycaret_mdl_rf.pkl')"
            ]
          },
          "metadata": {},
          "execution_count": 40
        }
      ],
      "source": [
        "save_model(mdl_rf, 'pycaret_mdl_rf')"
      ]
    },
    {
      "cell_type": "code",
      "source": [
        "finalize_model(mdl_knn)"
      ],
      "metadata": {
        "colab": {
          "base_uri": "https://localhost:8080/",
          "height": 394
        },
        "id": "lXoGDnbf6m_6",
        "outputId": "9e907af4-9b52-4a78-abc4-1a9b5edb4c42"
      },
      "execution_count": 41,
      "outputs": [
        {
          "output_type": "execute_result",
          "data": {
            "text/plain": [
              "Pipeline(memory=FastMemory(location=/tmp/joblib),\n",
              "         steps=[('numerical_imputer',\n",
              "                 TransformerWrapper(include=['year', 'geocode_ibge',\n",
              "                                             'governo_Bolsonaro',\n",
              "                                             'governo_Dilma', 'governo_Lula',\n",
              "                                             'governo_Temer', 'state_Acre',\n",
              "                                             'state_Amapá', 'state_Amazonas',\n",
              "                                             'state_Maranhão',\n",
              "                                             'state_Mato Grosso', 'state_Pará',\n",
              "                                             'state_Rondônia', 'state_Roraima',\n",
              "                                             'state_Tocantins',\n",
              "                                             'municipalit...\n",
              "                                             'municipality_Almeirim',\n",
              "                                             'municipality_Alta Floresta',\n",
              "                                             'municipality_Alta Floresta '\n",
              "                                             \"D'Oeste\", ...],\n",
              "                                    transformer=SimpleImputer())),\n",
              "                ('categorical_imputer',\n",
              "                 TransformerWrapper(include=[],\n",
              "                                    transformer=SimpleImputer(strategy='most_frequent'))),\n",
              "                ('clean_column_names',\n",
              "                 TransformerWrapper(transformer=CleanColumnNames())),\n",
              "                ('actual_estimator', KNeighborsRegressor(n_jobs=-1))])"
            ],
            "text/html": [
              "<style>#sk-container-id-2 {color: black;background-color: white;}#sk-container-id-2 pre{padding: 0;}#sk-container-id-2 div.sk-toggleable {background-color: white;}#sk-container-id-2 label.sk-toggleable__label {cursor: pointer;display: block;width: 100%;margin-bottom: 0;padding: 0.3em;box-sizing: border-box;text-align: center;}#sk-container-id-2 label.sk-toggleable__label-arrow:before {content: \"▸\";float: left;margin-right: 0.25em;color: #696969;}#sk-container-id-2 label.sk-toggleable__label-arrow:hover:before {color: black;}#sk-container-id-2 div.sk-estimator:hover label.sk-toggleable__label-arrow:before {color: black;}#sk-container-id-2 div.sk-toggleable__content {max-height: 0;max-width: 0;overflow: hidden;text-align: left;background-color: #f0f8ff;}#sk-container-id-2 div.sk-toggleable__content pre {margin: 0.2em;color: black;border-radius: 0.25em;background-color: #f0f8ff;}#sk-container-id-2 input.sk-toggleable__control:checked~div.sk-toggleable__content {max-height: 200px;max-width: 100%;overflow: auto;}#sk-container-id-2 input.sk-toggleable__control:checked~label.sk-toggleable__label-arrow:before {content: \"▾\";}#sk-container-id-2 div.sk-estimator input.sk-toggleable__control:checked~label.sk-toggleable__label {background-color: #d4ebff;}#sk-container-id-2 div.sk-label input.sk-toggleable__control:checked~label.sk-toggleable__label {background-color: #d4ebff;}#sk-container-id-2 input.sk-hidden--visually {border: 0;clip: rect(1px 1px 1px 1px);clip: rect(1px, 1px, 1px, 1px);height: 1px;margin: -1px;overflow: hidden;padding: 0;position: absolute;width: 1px;}#sk-container-id-2 div.sk-estimator {font-family: monospace;background-color: #f0f8ff;border: 1px dotted black;border-radius: 0.25em;box-sizing: border-box;margin-bottom: 0.5em;}#sk-container-id-2 div.sk-estimator:hover {background-color: #d4ebff;}#sk-container-id-2 div.sk-parallel-item::after {content: \"\";width: 100%;border-bottom: 1px solid gray;flex-grow: 1;}#sk-container-id-2 div.sk-label:hover label.sk-toggleable__label {background-color: #d4ebff;}#sk-container-id-2 div.sk-serial::before {content: \"\";position: absolute;border-left: 1px solid gray;box-sizing: border-box;top: 0;bottom: 0;left: 50%;z-index: 0;}#sk-container-id-2 div.sk-serial {display: flex;flex-direction: column;align-items: center;background-color: white;padding-right: 0.2em;padding-left: 0.2em;position: relative;}#sk-container-id-2 div.sk-item {position: relative;z-index: 1;}#sk-container-id-2 div.sk-parallel {display: flex;align-items: stretch;justify-content: center;background-color: white;position: relative;}#sk-container-id-2 div.sk-item::before, #sk-container-id-2 div.sk-parallel-item::before {content: \"\";position: absolute;border-left: 1px solid gray;box-sizing: border-box;top: 0;bottom: 0;left: 50%;z-index: -1;}#sk-container-id-2 div.sk-parallel-item {display: flex;flex-direction: column;z-index: 1;position: relative;background-color: white;}#sk-container-id-2 div.sk-parallel-item:first-child::after {align-self: flex-end;width: 50%;}#sk-container-id-2 div.sk-parallel-item:last-child::after {align-self: flex-start;width: 50%;}#sk-container-id-2 div.sk-parallel-item:only-child::after {width: 0;}#sk-container-id-2 div.sk-dashed-wrapped {border: 1px dashed gray;margin: 0 0.4em 0.5em 0.4em;box-sizing: border-box;padding-bottom: 0.4em;background-color: white;}#sk-container-id-2 div.sk-label label {font-family: monospace;font-weight: bold;display: inline-block;line-height: 1.2em;}#sk-container-id-2 div.sk-label-container {text-align: center;}#sk-container-id-2 div.sk-container {/* jupyter's `normalize.less` sets `[hidden] { display: none; }` but bootstrap.min.css set `[hidden] { display: none !important; }` so we also need the `!important` here to be able to override the default hidden behavior on the sphinx rendered scikit-learn.org. See: https://github.com/scikit-learn/scikit-learn/issues/21755 */display: inline-block !important;position: relative;}#sk-container-id-2 div.sk-text-repr-fallback {display: none;}</style><div id=\"sk-container-id-2\" class=\"sk-top-container\"><div class=\"sk-text-repr-fallback\"><pre>Pipeline(memory=FastMemory(location=/tmp/joblib),\n",
              "         steps=[(&#x27;numerical_imputer&#x27;,\n",
              "                 TransformerWrapper(include=[&#x27;year&#x27;, &#x27;geocode_ibge&#x27;,\n",
              "                                             &#x27;governo_Bolsonaro&#x27;,\n",
              "                                             &#x27;governo_Dilma&#x27;, &#x27;governo_Lula&#x27;,\n",
              "                                             &#x27;governo_Temer&#x27;, &#x27;state_Acre&#x27;,\n",
              "                                             &#x27;state_Amapá&#x27;, &#x27;state_Amazonas&#x27;,\n",
              "                                             &#x27;state_Maranhão&#x27;,\n",
              "                                             &#x27;state_Mato Grosso&#x27;, &#x27;state_Pará&#x27;,\n",
              "                                             &#x27;state_Rondônia&#x27;, &#x27;state_Roraima&#x27;,\n",
              "                                             &#x27;state_Tocantins&#x27;,\n",
              "                                             &#x27;municipalit...\n",
              "                                             &#x27;municipality_Almeirim&#x27;,\n",
              "                                             &#x27;municipality_Alta Floresta&#x27;,\n",
              "                                             &#x27;municipality_Alta Floresta &#x27;\n",
              "                                             &quot;D&#x27;Oeste&quot;, ...],\n",
              "                                    transformer=SimpleImputer())),\n",
              "                (&#x27;categorical_imputer&#x27;,\n",
              "                 TransformerWrapper(include=[],\n",
              "                                    transformer=SimpleImputer(strategy=&#x27;most_frequent&#x27;))),\n",
              "                (&#x27;clean_column_names&#x27;,\n",
              "                 TransformerWrapper(transformer=CleanColumnNames())),\n",
              "                (&#x27;actual_estimator&#x27;, KNeighborsRegressor(n_jobs=-1))])</pre><b>In a Jupyter environment, please rerun this cell to show the HTML representation or trust the notebook. <br />On GitHub, the HTML representation is unable to render, please try loading this page with nbviewer.org.</b></div><div class=\"sk-container\" hidden><div class=\"sk-item sk-dashed-wrapped\"><div class=\"sk-label-container\"><div class=\"sk-label sk-toggleable\"><input class=\"sk-toggleable__control sk-hidden--visually\" id=\"sk-estimator-id-12\" type=\"checkbox\" ><label for=\"sk-estimator-id-12\" class=\"sk-toggleable__label sk-toggleable__label-arrow\">Pipeline</label><div class=\"sk-toggleable__content\"><pre>Pipeline(memory=FastMemory(location=/tmp/joblib),\n",
              "         steps=[(&#x27;numerical_imputer&#x27;,\n",
              "                 TransformerWrapper(include=[&#x27;year&#x27;, &#x27;geocode_ibge&#x27;,\n",
              "                                             &#x27;governo_Bolsonaro&#x27;,\n",
              "                                             &#x27;governo_Dilma&#x27;, &#x27;governo_Lula&#x27;,\n",
              "                                             &#x27;governo_Temer&#x27;, &#x27;state_Acre&#x27;,\n",
              "                                             &#x27;state_Amapá&#x27;, &#x27;state_Amazonas&#x27;,\n",
              "                                             &#x27;state_Maranhão&#x27;,\n",
              "                                             &#x27;state_Mato Grosso&#x27;, &#x27;state_Pará&#x27;,\n",
              "                                             &#x27;state_Rondônia&#x27;, &#x27;state_Roraima&#x27;,\n",
              "                                             &#x27;state_Tocantins&#x27;,\n",
              "                                             &#x27;municipalit...\n",
              "                                             &#x27;municipality_Almeirim&#x27;,\n",
              "                                             &#x27;municipality_Alta Floresta&#x27;,\n",
              "                                             &#x27;municipality_Alta Floresta &#x27;\n",
              "                                             &quot;D&#x27;Oeste&quot;, ...],\n",
              "                                    transformer=SimpleImputer())),\n",
              "                (&#x27;categorical_imputer&#x27;,\n",
              "                 TransformerWrapper(include=[],\n",
              "                                    transformer=SimpleImputer(strategy=&#x27;most_frequent&#x27;))),\n",
              "                (&#x27;clean_column_names&#x27;,\n",
              "                 TransformerWrapper(transformer=CleanColumnNames())),\n",
              "                (&#x27;actual_estimator&#x27;, KNeighborsRegressor(n_jobs=-1))])</pre></div></div></div><div class=\"sk-serial\"><div class=\"sk-item sk-dashed-wrapped\"><div class=\"sk-label-container\"><div class=\"sk-label sk-toggleable\"><input class=\"sk-toggleable__control sk-hidden--visually\" id=\"sk-estimator-id-13\" type=\"checkbox\" ><label for=\"sk-estimator-id-13\" class=\"sk-toggleable__label sk-toggleable__label-arrow\">numerical_imputer: TransformerWrapper</label><div class=\"sk-toggleable__content\"><pre>TransformerWrapper(include=[&#x27;year&#x27;, &#x27;geocode_ibge&#x27;, &#x27;governo_Bolsonaro&#x27;,\n",
              "                            &#x27;governo_Dilma&#x27;, &#x27;governo_Lula&#x27;, &#x27;governo_Temer&#x27;,\n",
              "                            &#x27;state_Acre&#x27;, &#x27;state_Amapá&#x27;, &#x27;state_Amazonas&#x27;,\n",
              "                            &#x27;state_Maranhão&#x27;, &#x27;state_Mato Grosso&#x27;, &#x27;state_Pará&#x27;,\n",
              "                            &#x27;state_Rondônia&#x27;, &#x27;state_Roraima&#x27;,\n",
              "                            &#x27;state_Tocantins&#x27;, &#x27;municipality_Abaetetuba&#x27;,\n",
              "                            &#x27;municipality_Abel Figueiredo&#x27;,\n",
              "                            &#x27;municipality_Abreulândia&#x27;, &#x27;municipality_Acará&#x27;,\n",
              "                            &#x27;municipality_Acorizal&#x27;, &#x27;municipality_Acrelândia&#x27;,\n",
              "                            &#x27;municipality_Afuá&#x27;, &#x27;municipality_Aguiarnópolis&#x27;,\n",
              "                            &#x27;municipality_Alcântara&#x27;, &#x27;municipality_Alenquer&#x27;,\n",
              "                            &#x27;municipality_Aliança do Tocantins&#x27;,\n",
              "                            &#x27;municipality_Almas&#x27;, &#x27;municipality_Almeirim&#x27;,\n",
              "                            &#x27;municipality_Alta Floresta&#x27;,\n",
              "                            &quot;municipality_Alta Floresta D&#x27;Oeste&quot;, ...],\n",
              "                   transformer=SimpleImputer())</pre></div></div></div><div class=\"sk-parallel\"><div class=\"sk-parallel-item\"><div class=\"sk-item\"><div class=\"sk-label-container\"><div class=\"sk-label sk-toggleable\"><input class=\"sk-toggleable__control sk-hidden--visually\" id=\"sk-estimator-id-14\" type=\"checkbox\" ><label for=\"sk-estimator-id-14\" class=\"sk-toggleable__label sk-toggleable__label-arrow\">transformer: SimpleImputer</label><div class=\"sk-toggleable__content\"><pre>SimpleImputer()</pre></div></div></div><div class=\"sk-serial\"><div class=\"sk-item\"><div class=\"sk-estimator sk-toggleable\"><input class=\"sk-toggleable__control sk-hidden--visually\" id=\"sk-estimator-id-15\" type=\"checkbox\" ><label for=\"sk-estimator-id-15\" class=\"sk-toggleable__label sk-toggleable__label-arrow\">SimpleImputer</label><div class=\"sk-toggleable__content\"><pre>SimpleImputer()</pre></div></div></div></div></div></div></div></div><div class=\"sk-item sk-dashed-wrapped\"><div class=\"sk-label-container\"><div class=\"sk-label sk-toggleable\"><input class=\"sk-toggleable__control sk-hidden--visually\" id=\"sk-estimator-id-16\" type=\"checkbox\" ><label for=\"sk-estimator-id-16\" class=\"sk-toggleable__label sk-toggleable__label-arrow\">categorical_imputer: TransformerWrapper</label><div class=\"sk-toggleable__content\"><pre>TransformerWrapper(include=[],\n",
              "                   transformer=SimpleImputer(strategy=&#x27;most_frequent&#x27;))</pre></div></div></div><div class=\"sk-parallel\"><div class=\"sk-parallel-item\"><div class=\"sk-item\"><div class=\"sk-label-container\"><div class=\"sk-label sk-toggleable\"><input class=\"sk-toggleable__control sk-hidden--visually\" id=\"sk-estimator-id-17\" type=\"checkbox\" ><label for=\"sk-estimator-id-17\" class=\"sk-toggleable__label sk-toggleable__label-arrow\">transformer: SimpleImputer</label><div class=\"sk-toggleable__content\"><pre>SimpleImputer(strategy=&#x27;most_frequent&#x27;)</pre></div></div></div><div class=\"sk-serial\"><div class=\"sk-item\"><div class=\"sk-estimator sk-toggleable\"><input class=\"sk-toggleable__control sk-hidden--visually\" id=\"sk-estimator-id-18\" type=\"checkbox\" ><label for=\"sk-estimator-id-18\" class=\"sk-toggleable__label sk-toggleable__label-arrow\">SimpleImputer</label><div class=\"sk-toggleable__content\"><pre>SimpleImputer(strategy=&#x27;most_frequent&#x27;)</pre></div></div></div></div></div></div></div></div><div class=\"sk-item sk-dashed-wrapped\"><div class=\"sk-label-container\"><div class=\"sk-label sk-toggleable\"><input class=\"sk-toggleable__control sk-hidden--visually\" id=\"sk-estimator-id-19\" type=\"checkbox\" ><label for=\"sk-estimator-id-19\" class=\"sk-toggleable__label sk-toggleable__label-arrow\">clean_column_names: TransformerWrapper</label><div class=\"sk-toggleable__content\"><pre>TransformerWrapper(transformer=CleanColumnNames())</pre></div></div></div><div class=\"sk-parallel\"><div class=\"sk-parallel-item\"><div class=\"sk-item\"><div class=\"sk-label-container\"><div class=\"sk-label sk-toggleable\"><input class=\"sk-toggleable__control sk-hidden--visually\" id=\"sk-estimator-id-20\" type=\"checkbox\" ><label for=\"sk-estimator-id-20\" class=\"sk-toggleable__label sk-toggleable__label-arrow\">transformer: CleanColumnNames</label><div class=\"sk-toggleable__content\"><pre>CleanColumnNames()</pre></div></div></div><div class=\"sk-serial\"><div class=\"sk-item\"><div class=\"sk-estimator sk-toggleable\"><input class=\"sk-toggleable__control sk-hidden--visually\" id=\"sk-estimator-id-21\" type=\"checkbox\" ><label for=\"sk-estimator-id-21\" class=\"sk-toggleable__label sk-toggleable__label-arrow\">CleanColumnNames</label><div class=\"sk-toggleable__content\"><pre>CleanColumnNames()</pre></div></div></div></div></div></div></div></div><div class=\"sk-item\"><div class=\"sk-estimator sk-toggleable\"><input class=\"sk-toggleable__control sk-hidden--visually\" id=\"sk-estimator-id-22\" type=\"checkbox\" ><label for=\"sk-estimator-id-22\" class=\"sk-toggleable__label sk-toggleable__label-arrow\">KNeighborsRegressor</label><div class=\"sk-toggleable__content\"><pre>KNeighborsRegressor(n_jobs=-1)</pre></div></div></div></div></div></div></div>"
            ]
          },
          "metadata": {},
          "execution_count": 41
        }
      ]
    },
    {
      "cell_type": "code",
      "source": [
        "save_model(mdl_knn, 'pycaret_mdl_knn')"
      ],
      "metadata": {
        "colab": {
          "base_uri": "https://localhost:8080/"
        },
        "id": "xWiKFLKb6qow",
        "outputId": "6f5fa4d5-19b5-4f01-d8a2-2ba16cc17b5d"
      },
      "execution_count": 42,
      "outputs": [
        {
          "output_type": "stream",
          "name": "stdout",
          "text": [
            "Transformation Pipeline and Model Successfully Saved\n"
          ]
        },
        {
          "output_type": "execute_result",
          "data": {
            "text/plain": [
              "(Pipeline(memory=FastMemory(location=/tmp/joblib),\n",
              "          steps=[('numerical_imputer',\n",
              "                  TransformerWrapper(include=['year', 'geocode_ibge',\n",
              "                                              'governo_Bolsonaro',\n",
              "                                              'governo_Dilma', 'governo_Lula',\n",
              "                                              'governo_Temer', 'state_Acre',\n",
              "                                              'state_Amapá', 'state_Amazonas',\n",
              "                                              'state_Maranhão',\n",
              "                                              'state_Mato Grosso', 'state_Pará',\n",
              "                                              'state_Rondônia', 'state_Roraima',\n",
              "                                              'state_Tocantins',\n",
              "                                              'municipalit...\n",
              "                                              'municipality_Almeirim',\n",
              "                                              'municipality_Alta Floresta',\n",
              "                                              'municipality_Alta Floresta '\n",
              "                                              \"D'Oeste\", ...],\n",
              "                                     transformer=SimpleImputer())),\n",
              "                 ('categorical_imputer',\n",
              "                  TransformerWrapper(include=[],\n",
              "                                     transformer=SimpleImputer(strategy='most_frequent'))),\n",
              "                 ('clean_column_names',\n",
              "                  TransformerWrapper(transformer=CleanColumnNames())),\n",
              "                 ('trained_model', KNeighborsRegressor(n_jobs=-1))]),\n",
              " 'pycaret_mdl_knn.pkl')"
            ]
          },
          "metadata": {},
          "execution_count": 42
        }
      ]
    },
    {
      "cell_type": "code",
      "source": [
        "finalize_model(mdl_xgboost)"
      ],
      "metadata": {
        "colab": {
          "base_uri": "https://localhost:8080/",
          "height": 394
        },
        "id": "lOM2SMZ26r7M",
        "outputId": "41b67d66-0e9f-45d8-b42c-1beed2d72130"
      },
      "execution_count": 43,
      "outputs": [
        {
          "output_type": "execute_result",
          "data": {
            "text/plain": [
              "Pipeline(memory=FastMemory(location=/tmp/joblib),\n",
              "         steps=[('numerical_imputer',\n",
              "                 TransformerWrapper(include=['year', 'geocode_ibge',\n",
              "                                             'governo_Bolsonaro',\n",
              "                                             'governo_Dilma', 'governo_Lula',\n",
              "                                             'governo_Temer', 'state_Acre',\n",
              "                                             'state_Amapá', 'state_Amazonas',\n",
              "                                             'state_Maranhão',\n",
              "                                             'state_Mato Grosso', 'state_Pará',\n",
              "                                             'state_Rondônia', 'state_Roraima',\n",
              "                                             'state_Tocantins',\n",
              "                                             'municipalit...\n",
              "                              feature_types=None, gamma=None, gpu_id=None,\n",
              "                              grow_policy=None, importance_type=None,\n",
              "                              interaction_constraints=None, learning_rate=None,\n",
              "                              max_bin=None, max_cat_threshold=None,\n",
              "                              max_cat_to_onehot=None, max_delta_step=None,\n",
              "                              max_depth=None, max_leaves=None,\n",
              "                              min_child_weight=None, missing=nan,\n",
              "                              monotone_constraints=None, n_estimators=100,\n",
              "                              n_jobs=-1, num_parallel_tree=None, predictor=None,\n",
              "                              random_state=123, ...))])"
            ],
            "text/html": [
              "<style>#sk-container-id-3 {color: black;background-color: white;}#sk-container-id-3 pre{padding: 0;}#sk-container-id-3 div.sk-toggleable {background-color: white;}#sk-container-id-3 label.sk-toggleable__label {cursor: pointer;display: block;width: 100%;margin-bottom: 0;padding: 0.3em;box-sizing: border-box;text-align: center;}#sk-container-id-3 label.sk-toggleable__label-arrow:before {content: \"▸\";float: left;margin-right: 0.25em;color: #696969;}#sk-container-id-3 label.sk-toggleable__label-arrow:hover:before {color: black;}#sk-container-id-3 div.sk-estimator:hover label.sk-toggleable__label-arrow:before {color: black;}#sk-container-id-3 div.sk-toggleable__content {max-height: 0;max-width: 0;overflow: hidden;text-align: left;background-color: #f0f8ff;}#sk-container-id-3 div.sk-toggleable__content pre {margin: 0.2em;color: black;border-radius: 0.25em;background-color: #f0f8ff;}#sk-container-id-3 input.sk-toggleable__control:checked~div.sk-toggleable__content {max-height: 200px;max-width: 100%;overflow: auto;}#sk-container-id-3 input.sk-toggleable__control:checked~label.sk-toggleable__label-arrow:before {content: \"▾\";}#sk-container-id-3 div.sk-estimator input.sk-toggleable__control:checked~label.sk-toggleable__label {background-color: #d4ebff;}#sk-container-id-3 div.sk-label input.sk-toggleable__control:checked~label.sk-toggleable__label {background-color: #d4ebff;}#sk-container-id-3 input.sk-hidden--visually {border: 0;clip: rect(1px 1px 1px 1px);clip: rect(1px, 1px, 1px, 1px);height: 1px;margin: -1px;overflow: hidden;padding: 0;position: absolute;width: 1px;}#sk-container-id-3 div.sk-estimator {font-family: monospace;background-color: #f0f8ff;border: 1px dotted black;border-radius: 0.25em;box-sizing: border-box;margin-bottom: 0.5em;}#sk-container-id-3 div.sk-estimator:hover {background-color: #d4ebff;}#sk-container-id-3 div.sk-parallel-item::after {content: \"\";width: 100%;border-bottom: 1px solid gray;flex-grow: 1;}#sk-container-id-3 div.sk-label:hover label.sk-toggleable__label {background-color: #d4ebff;}#sk-container-id-3 div.sk-serial::before {content: \"\";position: absolute;border-left: 1px solid gray;box-sizing: border-box;top: 0;bottom: 0;left: 50%;z-index: 0;}#sk-container-id-3 div.sk-serial {display: flex;flex-direction: column;align-items: center;background-color: white;padding-right: 0.2em;padding-left: 0.2em;position: relative;}#sk-container-id-3 div.sk-item {position: relative;z-index: 1;}#sk-container-id-3 div.sk-parallel {display: flex;align-items: stretch;justify-content: center;background-color: white;position: relative;}#sk-container-id-3 div.sk-item::before, #sk-container-id-3 div.sk-parallel-item::before {content: \"\";position: absolute;border-left: 1px solid gray;box-sizing: border-box;top: 0;bottom: 0;left: 50%;z-index: -1;}#sk-container-id-3 div.sk-parallel-item {display: flex;flex-direction: column;z-index: 1;position: relative;background-color: white;}#sk-container-id-3 div.sk-parallel-item:first-child::after {align-self: flex-end;width: 50%;}#sk-container-id-3 div.sk-parallel-item:last-child::after {align-self: flex-start;width: 50%;}#sk-container-id-3 div.sk-parallel-item:only-child::after {width: 0;}#sk-container-id-3 div.sk-dashed-wrapped {border: 1px dashed gray;margin: 0 0.4em 0.5em 0.4em;box-sizing: border-box;padding-bottom: 0.4em;background-color: white;}#sk-container-id-3 div.sk-label label {font-family: monospace;font-weight: bold;display: inline-block;line-height: 1.2em;}#sk-container-id-3 div.sk-label-container {text-align: center;}#sk-container-id-3 div.sk-container {/* jupyter's `normalize.less` sets `[hidden] { display: none; }` but bootstrap.min.css set `[hidden] { display: none !important; }` so we also need the `!important` here to be able to override the default hidden behavior on the sphinx rendered scikit-learn.org. See: https://github.com/scikit-learn/scikit-learn/issues/21755 */display: inline-block !important;position: relative;}#sk-container-id-3 div.sk-text-repr-fallback {display: none;}</style><div id=\"sk-container-id-3\" class=\"sk-top-container\"><div class=\"sk-text-repr-fallback\"><pre>Pipeline(memory=FastMemory(location=/tmp/joblib),\n",
              "         steps=[(&#x27;numerical_imputer&#x27;,\n",
              "                 TransformerWrapper(include=[&#x27;year&#x27;, &#x27;geocode_ibge&#x27;,\n",
              "                                             &#x27;governo_Bolsonaro&#x27;,\n",
              "                                             &#x27;governo_Dilma&#x27;, &#x27;governo_Lula&#x27;,\n",
              "                                             &#x27;governo_Temer&#x27;, &#x27;state_Acre&#x27;,\n",
              "                                             &#x27;state_Amapá&#x27;, &#x27;state_Amazonas&#x27;,\n",
              "                                             &#x27;state_Maranhão&#x27;,\n",
              "                                             &#x27;state_Mato Grosso&#x27;, &#x27;state_Pará&#x27;,\n",
              "                                             &#x27;state_Rondônia&#x27;, &#x27;state_Roraima&#x27;,\n",
              "                                             &#x27;state_Tocantins&#x27;,\n",
              "                                             &#x27;municipalit...\n",
              "                              feature_types=None, gamma=None, gpu_id=None,\n",
              "                              grow_policy=None, importance_type=None,\n",
              "                              interaction_constraints=None, learning_rate=None,\n",
              "                              max_bin=None, max_cat_threshold=None,\n",
              "                              max_cat_to_onehot=None, max_delta_step=None,\n",
              "                              max_depth=None, max_leaves=None,\n",
              "                              min_child_weight=None, missing=nan,\n",
              "                              monotone_constraints=None, n_estimators=100,\n",
              "                              n_jobs=-1, num_parallel_tree=None, predictor=None,\n",
              "                              random_state=123, ...))])</pre><b>In a Jupyter environment, please rerun this cell to show the HTML representation or trust the notebook. <br />On GitHub, the HTML representation is unable to render, please try loading this page with nbviewer.org.</b></div><div class=\"sk-container\" hidden><div class=\"sk-item sk-dashed-wrapped\"><div class=\"sk-label-container\"><div class=\"sk-label sk-toggleable\"><input class=\"sk-toggleable__control sk-hidden--visually\" id=\"sk-estimator-id-23\" type=\"checkbox\" ><label for=\"sk-estimator-id-23\" class=\"sk-toggleable__label sk-toggleable__label-arrow\">Pipeline</label><div class=\"sk-toggleable__content\"><pre>Pipeline(memory=FastMemory(location=/tmp/joblib),\n",
              "         steps=[(&#x27;numerical_imputer&#x27;,\n",
              "                 TransformerWrapper(include=[&#x27;year&#x27;, &#x27;geocode_ibge&#x27;,\n",
              "                                             &#x27;governo_Bolsonaro&#x27;,\n",
              "                                             &#x27;governo_Dilma&#x27;, &#x27;governo_Lula&#x27;,\n",
              "                                             &#x27;governo_Temer&#x27;, &#x27;state_Acre&#x27;,\n",
              "                                             &#x27;state_Amapá&#x27;, &#x27;state_Amazonas&#x27;,\n",
              "                                             &#x27;state_Maranhão&#x27;,\n",
              "                                             &#x27;state_Mato Grosso&#x27;, &#x27;state_Pará&#x27;,\n",
              "                                             &#x27;state_Rondônia&#x27;, &#x27;state_Roraima&#x27;,\n",
              "                                             &#x27;state_Tocantins&#x27;,\n",
              "                                             &#x27;municipalit...\n",
              "                              feature_types=None, gamma=None, gpu_id=None,\n",
              "                              grow_policy=None, importance_type=None,\n",
              "                              interaction_constraints=None, learning_rate=None,\n",
              "                              max_bin=None, max_cat_threshold=None,\n",
              "                              max_cat_to_onehot=None, max_delta_step=None,\n",
              "                              max_depth=None, max_leaves=None,\n",
              "                              min_child_weight=None, missing=nan,\n",
              "                              monotone_constraints=None, n_estimators=100,\n",
              "                              n_jobs=-1, num_parallel_tree=None, predictor=None,\n",
              "                              random_state=123, ...))])</pre></div></div></div><div class=\"sk-serial\"><div class=\"sk-item sk-dashed-wrapped\"><div class=\"sk-label-container\"><div class=\"sk-label sk-toggleable\"><input class=\"sk-toggleable__control sk-hidden--visually\" id=\"sk-estimator-id-24\" type=\"checkbox\" ><label for=\"sk-estimator-id-24\" class=\"sk-toggleable__label sk-toggleable__label-arrow\">numerical_imputer: TransformerWrapper</label><div class=\"sk-toggleable__content\"><pre>TransformerWrapper(include=[&#x27;year&#x27;, &#x27;geocode_ibge&#x27;, &#x27;governo_Bolsonaro&#x27;,\n",
              "                            &#x27;governo_Dilma&#x27;, &#x27;governo_Lula&#x27;, &#x27;governo_Temer&#x27;,\n",
              "                            &#x27;state_Acre&#x27;, &#x27;state_Amapá&#x27;, &#x27;state_Amazonas&#x27;,\n",
              "                            &#x27;state_Maranhão&#x27;, &#x27;state_Mato Grosso&#x27;, &#x27;state_Pará&#x27;,\n",
              "                            &#x27;state_Rondônia&#x27;, &#x27;state_Roraima&#x27;,\n",
              "                            &#x27;state_Tocantins&#x27;, &#x27;municipality_Abaetetuba&#x27;,\n",
              "                            &#x27;municipality_Abel Figueiredo&#x27;,\n",
              "                            &#x27;municipality_Abreulândia&#x27;, &#x27;municipality_Acará&#x27;,\n",
              "                            &#x27;municipality_Acorizal&#x27;, &#x27;municipality_Acrelândia&#x27;,\n",
              "                            &#x27;municipality_Afuá&#x27;, &#x27;municipality_Aguiarnópolis&#x27;,\n",
              "                            &#x27;municipality_Alcântara&#x27;, &#x27;municipality_Alenquer&#x27;,\n",
              "                            &#x27;municipality_Aliança do Tocantins&#x27;,\n",
              "                            &#x27;municipality_Almas&#x27;, &#x27;municipality_Almeirim&#x27;,\n",
              "                            &#x27;municipality_Alta Floresta&#x27;,\n",
              "                            &quot;municipality_Alta Floresta D&#x27;Oeste&quot;, ...],\n",
              "                   transformer=SimpleImputer())</pre></div></div></div><div class=\"sk-parallel\"><div class=\"sk-parallel-item\"><div class=\"sk-item\"><div class=\"sk-label-container\"><div class=\"sk-label sk-toggleable\"><input class=\"sk-toggleable__control sk-hidden--visually\" id=\"sk-estimator-id-25\" type=\"checkbox\" ><label for=\"sk-estimator-id-25\" class=\"sk-toggleable__label sk-toggleable__label-arrow\">transformer: SimpleImputer</label><div class=\"sk-toggleable__content\"><pre>SimpleImputer()</pre></div></div></div><div class=\"sk-serial\"><div class=\"sk-item\"><div class=\"sk-estimator sk-toggleable\"><input class=\"sk-toggleable__control sk-hidden--visually\" id=\"sk-estimator-id-26\" type=\"checkbox\" ><label for=\"sk-estimator-id-26\" class=\"sk-toggleable__label sk-toggleable__label-arrow\">SimpleImputer</label><div class=\"sk-toggleable__content\"><pre>SimpleImputer()</pre></div></div></div></div></div></div></div></div><div class=\"sk-item sk-dashed-wrapped\"><div class=\"sk-label-container\"><div class=\"sk-label sk-toggleable\"><input class=\"sk-toggleable__control sk-hidden--visually\" id=\"sk-estimator-id-27\" type=\"checkbox\" ><label for=\"sk-estimator-id-27\" class=\"sk-toggleable__label sk-toggleable__label-arrow\">categorical_imputer: TransformerWrapper</label><div class=\"sk-toggleable__content\"><pre>TransformerWrapper(include=[],\n",
              "                   transformer=SimpleImputer(strategy=&#x27;most_frequent&#x27;))</pre></div></div></div><div class=\"sk-parallel\"><div class=\"sk-parallel-item\"><div class=\"sk-item\"><div class=\"sk-label-container\"><div class=\"sk-label sk-toggleable\"><input class=\"sk-toggleable__control sk-hidden--visually\" id=\"sk-estimator-id-28\" type=\"checkbox\" ><label for=\"sk-estimator-id-28\" class=\"sk-toggleable__label sk-toggleable__label-arrow\">transformer: SimpleImputer</label><div class=\"sk-toggleable__content\"><pre>SimpleImputer(strategy=&#x27;most_frequent&#x27;)</pre></div></div></div><div class=\"sk-serial\"><div class=\"sk-item\"><div class=\"sk-estimator sk-toggleable\"><input class=\"sk-toggleable__control sk-hidden--visually\" id=\"sk-estimator-id-29\" type=\"checkbox\" ><label for=\"sk-estimator-id-29\" class=\"sk-toggleable__label sk-toggleable__label-arrow\">SimpleImputer</label><div class=\"sk-toggleable__content\"><pre>SimpleImputer(strategy=&#x27;most_frequent&#x27;)</pre></div></div></div></div></div></div></div></div><div class=\"sk-item sk-dashed-wrapped\"><div class=\"sk-label-container\"><div class=\"sk-label sk-toggleable\"><input class=\"sk-toggleable__control sk-hidden--visually\" id=\"sk-estimator-id-30\" type=\"checkbox\" ><label for=\"sk-estimator-id-30\" class=\"sk-toggleable__label sk-toggleable__label-arrow\">clean_column_names: TransformerWrapper</label><div class=\"sk-toggleable__content\"><pre>TransformerWrapper(transformer=CleanColumnNames())</pre></div></div></div><div class=\"sk-parallel\"><div class=\"sk-parallel-item\"><div class=\"sk-item\"><div class=\"sk-label-container\"><div class=\"sk-label sk-toggleable\"><input class=\"sk-toggleable__control sk-hidden--visually\" id=\"sk-estimator-id-31\" type=\"checkbox\" ><label for=\"sk-estimator-id-31\" class=\"sk-toggleable__label sk-toggleable__label-arrow\">transformer: CleanColumnNames</label><div class=\"sk-toggleable__content\"><pre>CleanColumnNames()</pre></div></div></div><div class=\"sk-serial\"><div class=\"sk-item\"><div class=\"sk-estimator sk-toggleable\"><input class=\"sk-toggleable__control sk-hidden--visually\" id=\"sk-estimator-id-32\" type=\"checkbox\" ><label for=\"sk-estimator-id-32\" class=\"sk-toggleable__label sk-toggleable__label-arrow\">CleanColumnNames</label><div class=\"sk-toggleable__content\"><pre>CleanColumnNames()</pre></div></div></div></div></div></div></div></div><div class=\"sk-item\"><div class=\"sk-estimator sk-toggleable\"><input class=\"sk-toggleable__control sk-hidden--visually\" id=\"sk-estimator-id-33\" type=\"checkbox\" ><label for=\"sk-estimator-id-33\" class=\"sk-toggleable__label sk-toggleable__label-arrow\">XGBRegressor</label><div class=\"sk-toggleable__content\"><pre>XGBRegressor(base_score=None, booster=&#x27;gbtree&#x27;, callbacks=None,\n",
              "             colsample_bylevel=None, colsample_bynode=None,\n",
              "             colsample_bytree=None, early_stopping_rounds=None,\n",
              "             enable_categorical=False, eval_metric=None, feature_types=None,\n",
              "             gamma=None, gpu_id=None, grow_policy=None, importance_type=None,\n",
              "             interaction_constraints=None, learning_rate=None, max_bin=None,\n",
              "             max_cat_threshold=None, max_cat_to_onehot=None,\n",
              "             max_delta_step=None, max_depth=None, max_leaves=None,\n",
              "             min_child_weight=None, missing=nan, monotone_constraints=None,\n",
              "             n_estimators=100, n_jobs=-1, num_parallel_tree=None,\n",
              "             predictor=None, random_state=123, ...)</pre></div></div></div></div></div></div></div>"
            ]
          },
          "metadata": {},
          "execution_count": 43
        }
      ]
    },
    {
      "cell_type": "code",
      "source": [
        "save_model(mdl_xgboost, 'pycaret_mdl_xgboost')"
      ],
      "metadata": {
        "colab": {
          "base_uri": "https://localhost:8080/"
        },
        "id": "y8YnKeMZ6uj-",
        "outputId": "c0478f68-9ca8-4323-cc6c-7ae25c5efa6f"
      },
      "execution_count": 44,
      "outputs": [
        {
          "output_type": "stream",
          "name": "stdout",
          "text": [
            "Transformation Pipeline and Model Successfully Saved\n"
          ]
        },
        {
          "output_type": "execute_result",
          "data": {
            "text/plain": [
              "(Pipeline(memory=FastMemory(location=/tmp/joblib),\n",
              "          steps=[('numerical_imputer',\n",
              "                  TransformerWrapper(include=['year', 'geocode_ibge',\n",
              "                                              'governo_Bolsonaro',\n",
              "                                              'governo_Dilma', 'governo_Lula',\n",
              "                                              'governo_Temer', 'state_Acre',\n",
              "                                              'state_Amapá', 'state_Amazonas',\n",
              "                                              'state_Maranhão',\n",
              "                                              'state_Mato Grosso', 'state_Pará',\n",
              "                                              'state_Rondônia', 'state_Roraima',\n",
              "                                              'state_Tocantins',\n",
              "                                              'municipalit...\n",
              "                               feature_types=None, gamma=None, gpu_id=None,\n",
              "                               grow_policy=None, importance_type=None,\n",
              "                               interaction_constraints=None, learning_rate=None,\n",
              "                               max_bin=None, max_cat_threshold=None,\n",
              "                               max_cat_to_onehot=None, max_delta_step=None,\n",
              "                               max_depth=None, max_leaves=None,\n",
              "                               min_child_weight=None, missing=nan,\n",
              "                               monotone_constraints=None, n_estimators=100,\n",
              "                               n_jobs=-1, num_parallel_tree=None, predictor=None,\n",
              "                               random_state=123, ...))]),\n",
              " 'pycaret_mdl_xgboost.pkl')"
            ]
          },
          "metadata": {},
          "execution_count": 44
        }
      ]
    }
  ],
  "metadata": {
    "colab": {
      "provenance": []
    },
    "kernelspec": {
      "display_name": "Python 3",
      "name": "python3"
    },
    "language_info": {
      "name": "python"
    },
    "widgets": {
      "application/vnd.jupyter.widget-state+json": {
        "d01830d871d04b348b82731978753484": {
          "model_module": "@jupyter-widgets/controls",
          "model_name": "HBoxModel",
          "model_module_version": "1.5.0",
          "state": {
            "_dom_classes": [],
            "_model_module": "@jupyter-widgets/controls",
            "_model_module_version": "1.5.0",
            "_model_name": "HBoxModel",
            "_view_count": null,
            "_view_module": "@jupyter-widgets/controls",
            "_view_module_version": "1.5.0",
            "_view_name": "HBoxView",
            "box_style": "",
            "children": [
              "IPY_MODEL_fd2b1f2aec8a448194cddfb6f8ee5690",
              "IPY_MODEL_8413d4b09c1c444d89768a2bad3da529",
              "IPY_MODEL_1ac6dbb5e5844ab691e26243e8f6ed11"
            ],
            "layout": "IPY_MODEL_ad98d2ffa4ed49f68584422d703906d9"
          }
        },
        "fd2b1f2aec8a448194cddfb6f8ee5690": {
          "model_module": "@jupyter-widgets/controls",
          "model_name": "HTMLModel",
          "model_module_version": "1.5.0",
          "state": {
            "_dom_classes": [],
            "_model_module": "@jupyter-widgets/controls",
            "_model_module_version": "1.5.0",
            "_model_name": "HTMLModel",
            "_view_count": null,
            "_view_module": "@jupyter-widgets/controls",
            "_view_module_version": "1.5.0",
            "_view_name": "HTMLView",
            "description": "",
            "description_tooltip": null,
            "layout": "IPY_MODEL_930119913f4041af889d8e290239a5f5",
            "placeholder": "​",
            "style": "IPY_MODEL_f34bc07be4404e4bb110929503dfcb9b",
            "value": "Processing: 100%"
          }
        },
        "8413d4b09c1c444d89768a2bad3da529": {
          "model_module": "@jupyter-widgets/controls",
          "model_name": "FloatProgressModel",
          "model_module_version": "1.5.0",
          "state": {
            "_dom_classes": [],
            "_model_module": "@jupyter-widgets/controls",
            "_model_module_version": "1.5.0",
            "_model_name": "FloatProgressModel",
            "_view_count": null,
            "_view_module": "@jupyter-widgets/controls",
            "_view_module_version": "1.5.0",
            "_view_name": "ProgressView",
            "bar_style": "",
            "description": "",
            "description_tooltip": null,
            "layout": "IPY_MODEL_70f57a9a34b84103b963a79a8b283e7e",
            "max": 81,
            "min": 0,
            "orientation": "horizontal",
            "style": "IPY_MODEL_4899c37ce60f48dcbff6ecc20fabaefb",
            "value": 81
          }
        },
        "1ac6dbb5e5844ab691e26243e8f6ed11": {
          "model_module": "@jupyter-widgets/controls",
          "model_name": "HTMLModel",
          "model_module_version": "1.5.0",
          "state": {
            "_dom_classes": [],
            "_model_module": "@jupyter-widgets/controls",
            "_model_module_version": "1.5.0",
            "_model_name": "HTMLModel",
            "_view_count": null,
            "_view_module": "@jupyter-widgets/controls",
            "_view_module_version": "1.5.0",
            "_view_name": "HTMLView",
            "description": "",
            "description_tooltip": null,
            "layout": "IPY_MODEL_90192f828dd14e899a344cb79564e5d7",
            "placeholder": "​",
            "style": "IPY_MODEL_a21ba4928a4f45598fe1cd0cab51e92b",
            "value": " 81/81 [41:39&lt;00:00, 20.03s/it]"
          }
        },
        "ad98d2ffa4ed49f68584422d703906d9": {
          "model_module": "@jupyter-widgets/base",
          "model_name": "LayoutModel",
          "model_module_version": "1.2.0",
          "state": {
            "_model_module": "@jupyter-widgets/base",
            "_model_module_version": "1.2.0",
            "_model_name": "LayoutModel",
            "_view_count": null,
            "_view_module": "@jupyter-widgets/base",
            "_view_module_version": "1.2.0",
            "_view_name": "LayoutView",
            "align_content": null,
            "align_items": null,
            "align_self": null,
            "border": null,
            "bottom": null,
            "display": null,
            "flex": null,
            "flex_flow": null,
            "grid_area": null,
            "grid_auto_columns": null,
            "grid_auto_flow": null,
            "grid_auto_rows": null,
            "grid_column": null,
            "grid_gap": null,
            "grid_row": null,
            "grid_template_areas": null,
            "grid_template_columns": null,
            "grid_template_rows": null,
            "height": null,
            "justify_content": null,
            "justify_items": null,
            "left": null,
            "margin": null,
            "max_height": null,
            "max_width": null,
            "min_height": null,
            "min_width": null,
            "object_fit": null,
            "object_position": null,
            "order": null,
            "overflow": null,
            "overflow_x": null,
            "overflow_y": null,
            "padding": null,
            "right": null,
            "top": null,
            "visibility": "hidden",
            "width": null
          }
        },
        "930119913f4041af889d8e290239a5f5": {
          "model_module": "@jupyter-widgets/base",
          "model_name": "LayoutModel",
          "model_module_version": "1.2.0",
          "state": {
            "_model_module": "@jupyter-widgets/base",
            "_model_module_version": "1.2.0",
            "_model_name": "LayoutModel",
            "_view_count": null,
            "_view_module": "@jupyter-widgets/base",
            "_view_module_version": "1.2.0",
            "_view_name": "LayoutView",
            "align_content": null,
            "align_items": null,
            "align_self": null,
            "border": null,
            "bottom": null,
            "display": null,
            "flex": null,
            "flex_flow": null,
            "grid_area": null,
            "grid_auto_columns": null,
            "grid_auto_flow": null,
            "grid_auto_rows": null,
            "grid_column": null,
            "grid_gap": null,
            "grid_row": null,
            "grid_template_areas": null,
            "grid_template_columns": null,
            "grid_template_rows": null,
            "height": null,
            "justify_content": null,
            "justify_items": null,
            "left": null,
            "margin": null,
            "max_height": null,
            "max_width": null,
            "min_height": null,
            "min_width": null,
            "object_fit": null,
            "object_position": null,
            "order": null,
            "overflow": null,
            "overflow_x": null,
            "overflow_y": null,
            "padding": null,
            "right": null,
            "top": null,
            "visibility": null,
            "width": null
          }
        },
        "f34bc07be4404e4bb110929503dfcb9b": {
          "model_module": "@jupyter-widgets/controls",
          "model_name": "DescriptionStyleModel",
          "model_module_version": "1.5.0",
          "state": {
            "_model_module": "@jupyter-widgets/controls",
            "_model_module_version": "1.5.0",
            "_model_name": "DescriptionStyleModel",
            "_view_count": null,
            "_view_module": "@jupyter-widgets/base",
            "_view_module_version": "1.2.0",
            "_view_name": "StyleView",
            "description_width": ""
          }
        },
        "70f57a9a34b84103b963a79a8b283e7e": {
          "model_module": "@jupyter-widgets/base",
          "model_name": "LayoutModel",
          "model_module_version": "1.2.0",
          "state": {
            "_model_module": "@jupyter-widgets/base",
            "_model_module_version": "1.2.0",
            "_model_name": "LayoutModel",
            "_view_count": null,
            "_view_module": "@jupyter-widgets/base",
            "_view_module_version": "1.2.0",
            "_view_name": "LayoutView",
            "align_content": null,
            "align_items": null,
            "align_self": null,
            "border": null,
            "bottom": null,
            "display": null,
            "flex": null,
            "flex_flow": null,
            "grid_area": null,
            "grid_auto_columns": null,
            "grid_auto_flow": null,
            "grid_auto_rows": null,
            "grid_column": null,
            "grid_gap": null,
            "grid_row": null,
            "grid_template_areas": null,
            "grid_template_columns": null,
            "grid_template_rows": null,
            "height": null,
            "justify_content": null,
            "justify_items": null,
            "left": null,
            "margin": null,
            "max_height": null,
            "max_width": null,
            "min_height": null,
            "min_width": null,
            "object_fit": null,
            "object_position": null,
            "order": null,
            "overflow": null,
            "overflow_x": null,
            "overflow_y": null,
            "padding": null,
            "right": null,
            "top": null,
            "visibility": null,
            "width": null
          }
        },
        "4899c37ce60f48dcbff6ecc20fabaefb": {
          "model_module": "@jupyter-widgets/controls",
          "model_name": "ProgressStyleModel",
          "model_module_version": "1.5.0",
          "state": {
            "_model_module": "@jupyter-widgets/controls",
            "_model_module_version": "1.5.0",
            "_model_name": "ProgressStyleModel",
            "_view_count": null,
            "_view_module": "@jupyter-widgets/base",
            "_view_module_version": "1.2.0",
            "_view_name": "StyleView",
            "bar_color": null,
            "description_width": ""
          }
        },
        "90192f828dd14e899a344cb79564e5d7": {
          "model_module": "@jupyter-widgets/base",
          "model_name": "LayoutModel",
          "model_module_version": "1.2.0",
          "state": {
            "_model_module": "@jupyter-widgets/base",
            "_model_module_version": "1.2.0",
            "_model_name": "LayoutModel",
            "_view_count": null,
            "_view_module": "@jupyter-widgets/base",
            "_view_module_version": "1.2.0",
            "_view_name": "LayoutView",
            "align_content": null,
            "align_items": null,
            "align_self": null,
            "border": null,
            "bottom": null,
            "display": null,
            "flex": null,
            "flex_flow": null,
            "grid_area": null,
            "grid_auto_columns": null,
            "grid_auto_flow": null,
            "grid_auto_rows": null,
            "grid_column": null,
            "grid_gap": null,
            "grid_row": null,
            "grid_template_areas": null,
            "grid_template_columns": null,
            "grid_template_rows": null,
            "height": null,
            "justify_content": null,
            "justify_items": null,
            "left": null,
            "margin": null,
            "max_height": null,
            "max_width": null,
            "min_height": null,
            "min_width": null,
            "object_fit": null,
            "object_position": null,
            "order": null,
            "overflow": null,
            "overflow_x": null,
            "overflow_y": null,
            "padding": null,
            "right": null,
            "top": null,
            "visibility": null,
            "width": null
          }
        },
        "a21ba4928a4f45598fe1cd0cab51e92b": {
          "model_module": "@jupyter-widgets/controls",
          "model_name": "DescriptionStyleModel",
          "model_module_version": "1.5.0",
          "state": {
            "_model_module": "@jupyter-widgets/controls",
            "_model_module_version": "1.5.0",
            "_model_name": "DescriptionStyleModel",
            "_view_count": null,
            "_view_module": "@jupyter-widgets/base",
            "_view_module_version": "1.2.0",
            "_view_name": "StyleView",
            "description_width": ""
          }
        },
        "7d6d9e50b70d4328bc428321695207dd": {
          "model_module": "@jupyter-widgets/controls",
          "model_name": "HBoxModel",
          "model_module_version": "1.5.0",
          "state": {
            "_dom_classes": [],
            "_model_module": "@jupyter-widgets/controls",
            "_model_module_version": "1.5.0",
            "_model_name": "HBoxModel",
            "_view_count": null,
            "_view_module": "@jupyter-widgets/controls",
            "_view_module_version": "1.5.0",
            "_view_name": "HBoxView",
            "box_style": "",
            "children": [
              "IPY_MODEL_b477fb63b506438da3f0fd00f5af1f78",
              "IPY_MODEL_ae92b45d125c4d318d3a0e1df14d2915",
              "IPY_MODEL_d9dcf4addd7b4b0682858175a1eefd3c"
            ],
            "layout": "IPY_MODEL_d4aa6691ca934b7aa05ed2e9a2350dd4"
          }
        },
        "b477fb63b506438da3f0fd00f5af1f78": {
          "model_module": "@jupyter-widgets/controls",
          "model_name": "HTMLModel",
          "model_module_version": "1.5.0",
          "state": {
            "_dom_classes": [],
            "_model_module": "@jupyter-widgets/controls",
            "_model_module_version": "1.5.0",
            "_model_name": "HTMLModel",
            "_view_count": null,
            "_view_module": "@jupyter-widgets/controls",
            "_view_module_version": "1.5.0",
            "_view_name": "HTMLView",
            "description": "",
            "description_tooltip": null,
            "layout": "IPY_MODEL_af6ffaf1713f4f0aa485be800be6ccdb",
            "placeholder": "​",
            "style": "IPY_MODEL_dcb30cc45ac54d9db21ef72b9d687bb5",
            "value": "Processing: 100%"
          }
        },
        "ae92b45d125c4d318d3a0e1df14d2915": {
          "model_module": "@jupyter-widgets/controls",
          "model_name": "FloatProgressModel",
          "model_module_version": "1.5.0",
          "state": {
            "_dom_classes": [],
            "_model_module": "@jupyter-widgets/controls",
            "_model_module_version": "1.5.0",
            "_model_name": "FloatProgressModel",
            "_view_count": null,
            "_view_module": "@jupyter-widgets/controls",
            "_view_module_version": "1.5.0",
            "_view_name": "ProgressView",
            "bar_style": "",
            "description": "",
            "description_tooltip": null,
            "layout": "IPY_MODEL_1cf87d54cfda41d3bc3d27d911c5fcfd",
            "max": 4,
            "min": 0,
            "orientation": "horizontal",
            "style": "IPY_MODEL_54e162568d884d5f8623f1d50d8ec4aa",
            "value": 4
          }
        },
        "d9dcf4addd7b4b0682858175a1eefd3c": {
          "model_module": "@jupyter-widgets/controls",
          "model_name": "HTMLModel",
          "model_module_version": "1.5.0",
          "state": {
            "_dom_classes": [],
            "_model_module": "@jupyter-widgets/controls",
            "_model_module_version": "1.5.0",
            "_model_name": "HTMLModel",
            "_view_count": null,
            "_view_module": "@jupyter-widgets/controls",
            "_view_module_version": "1.5.0",
            "_view_name": "HTMLView",
            "description": "",
            "description_tooltip": null,
            "layout": "IPY_MODEL_5f098a0f232a4fd18ee025fa85ddca61",
            "placeholder": "​",
            "style": "IPY_MODEL_f33171c0f3514aed9c0552f20ec234cc",
            "value": " 4/4 [00:09&lt;00:00,  2.24s/it]"
          }
        },
        "d4aa6691ca934b7aa05ed2e9a2350dd4": {
          "model_module": "@jupyter-widgets/base",
          "model_name": "LayoutModel",
          "model_module_version": "1.2.0",
          "state": {
            "_model_module": "@jupyter-widgets/base",
            "_model_module_version": "1.2.0",
            "_model_name": "LayoutModel",
            "_view_count": null,
            "_view_module": "@jupyter-widgets/base",
            "_view_module_version": "1.2.0",
            "_view_name": "LayoutView",
            "align_content": null,
            "align_items": null,
            "align_self": null,
            "border": null,
            "bottom": null,
            "display": null,
            "flex": null,
            "flex_flow": null,
            "grid_area": null,
            "grid_auto_columns": null,
            "grid_auto_flow": null,
            "grid_auto_rows": null,
            "grid_column": null,
            "grid_gap": null,
            "grid_row": null,
            "grid_template_areas": null,
            "grid_template_columns": null,
            "grid_template_rows": null,
            "height": null,
            "justify_content": null,
            "justify_items": null,
            "left": null,
            "margin": null,
            "max_height": null,
            "max_width": null,
            "min_height": null,
            "min_width": null,
            "object_fit": null,
            "object_position": null,
            "order": null,
            "overflow": null,
            "overflow_x": null,
            "overflow_y": null,
            "padding": null,
            "right": null,
            "top": null,
            "visibility": "hidden",
            "width": null
          }
        },
        "af6ffaf1713f4f0aa485be800be6ccdb": {
          "model_module": "@jupyter-widgets/base",
          "model_name": "LayoutModel",
          "model_module_version": "1.2.0",
          "state": {
            "_model_module": "@jupyter-widgets/base",
            "_model_module_version": "1.2.0",
            "_model_name": "LayoutModel",
            "_view_count": null,
            "_view_module": "@jupyter-widgets/base",
            "_view_module_version": "1.2.0",
            "_view_name": "LayoutView",
            "align_content": null,
            "align_items": null,
            "align_self": null,
            "border": null,
            "bottom": null,
            "display": null,
            "flex": null,
            "flex_flow": null,
            "grid_area": null,
            "grid_auto_columns": null,
            "grid_auto_flow": null,
            "grid_auto_rows": null,
            "grid_column": null,
            "grid_gap": null,
            "grid_row": null,
            "grid_template_areas": null,
            "grid_template_columns": null,
            "grid_template_rows": null,
            "height": null,
            "justify_content": null,
            "justify_items": null,
            "left": null,
            "margin": null,
            "max_height": null,
            "max_width": null,
            "min_height": null,
            "min_width": null,
            "object_fit": null,
            "object_position": null,
            "order": null,
            "overflow": null,
            "overflow_x": null,
            "overflow_y": null,
            "padding": null,
            "right": null,
            "top": null,
            "visibility": null,
            "width": null
          }
        },
        "dcb30cc45ac54d9db21ef72b9d687bb5": {
          "model_module": "@jupyter-widgets/controls",
          "model_name": "DescriptionStyleModel",
          "model_module_version": "1.5.0",
          "state": {
            "_model_module": "@jupyter-widgets/controls",
            "_model_module_version": "1.5.0",
            "_model_name": "DescriptionStyleModel",
            "_view_count": null,
            "_view_module": "@jupyter-widgets/base",
            "_view_module_version": "1.2.0",
            "_view_name": "StyleView",
            "description_width": ""
          }
        },
        "1cf87d54cfda41d3bc3d27d911c5fcfd": {
          "model_module": "@jupyter-widgets/base",
          "model_name": "LayoutModel",
          "model_module_version": "1.2.0",
          "state": {
            "_model_module": "@jupyter-widgets/base",
            "_model_module_version": "1.2.0",
            "_model_name": "LayoutModel",
            "_view_count": null,
            "_view_module": "@jupyter-widgets/base",
            "_view_module_version": "1.2.0",
            "_view_name": "LayoutView",
            "align_content": null,
            "align_items": null,
            "align_self": null,
            "border": null,
            "bottom": null,
            "display": null,
            "flex": null,
            "flex_flow": null,
            "grid_area": null,
            "grid_auto_columns": null,
            "grid_auto_flow": null,
            "grid_auto_rows": null,
            "grid_column": null,
            "grid_gap": null,
            "grid_row": null,
            "grid_template_areas": null,
            "grid_template_columns": null,
            "grid_template_rows": null,
            "height": null,
            "justify_content": null,
            "justify_items": null,
            "left": null,
            "margin": null,
            "max_height": null,
            "max_width": null,
            "min_height": null,
            "min_width": null,
            "object_fit": null,
            "object_position": null,
            "order": null,
            "overflow": null,
            "overflow_x": null,
            "overflow_y": null,
            "padding": null,
            "right": null,
            "top": null,
            "visibility": null,
            "width": null
          }
        },
        "54e162568d884d5f8623f1d50d8ec4aa": {
          "model_module": "@jupyter-widgets/controls",
          "model_name": "ProgressStyleModel",
          "model_module_version": "1.5.0",
          "state": {
            "_model_module": "@jupyter-widgets/controls",
            "_model_module_version": "1.5.0",
            "_model_name": "ProgressStyleModel",
            "_view_count": null,
            "_view_module": "@jupyter-widgets/base",
            "_view_module_version": "1.2.0",
            "_view_name": "StyleView",
            "bar_color": null,
            "description_width": ""
          }
        },
        "5f098a0f232a4fd18ee025fa85ddca61": {
          "model_module": "@jupyter-widgets/base",
          "model_name": "LayoutModel",
          "model_module_version": "1.2.0",
          "state": {
            "_model_module": "@jupyter-widgets/base",
            "_model_module_version": "1.2.0",
            "_model_name": "LayoutModel",
            "_view_count": null,
            "_view_module": "@jupyter-widgets/base",
            "_view_module_version": "1.2.0",
            "_view_name": "LayoutView",
            "align_content": null,
            "align_items": null,
            "align_self": null,
            "border": null,
            "bottom": null,
            "display": null,
            "flex": null,
            "flex_flow": null,
            "grid_area": null,
            "grid_auto_columns": null,
            "grid_auto_flow": null,
            "grid_auto_rows": null,
            "grid_column": null,
            "grid_gap": null,
            "grid_row": null,
            "grid_template_areas": null,
            "grid_template_columns": null,
            "grid_template_rows": null,
            "height": null,
            "justify_content": null,
            "justify_items": null,
            "left": null,
            "margin": null,
            "max_height": null,
            "max_width": null,
            "min_height": null,
            "min_width": null,
            "object_fit": null,
            "object_position": null,
            "order": null,
            "overflow": null,
            "overflow_x": null,
            "overflow_y": null,
            "padding": null,
            "right": null,
            "top": null,
            "visibility": null,
            "width": null
          }
        },
        "f33171c0f3514aed9c0552f20ec234cc": {
          "model_module": "@jupyter-widgets/controls",
          "model_name": "DescriptionStyleModel",
          "model_module_version": "1.5.0",
          "state": {
            "_model_module": "@jupyter-widgets/controls",
            "_model_module_version": "1.5.0",
            "_model_name": "DescriptionStyleModel",
            "_view_count": null,
            "_view_module": "@jupyter-widgets/base",
            "_view_module_version": "1.2.0",
            "_view_name": "StyleView",
            "description_width": ""
          }
        },
        "0bd194e77fd84718b8e2cd1d0b705488": {
          "model_module": "@jupyter-widgets/controls",
          "model_name": "HBoxModel",
          "model_module_version": "1.5.0",
          "state": {
            "_dom_classes": [],
            "_model_module": "@jupyter-widgets/controls",
            "_model_module_version": "1.5.0",
            "_model_name": "HBoxModel",
            "_view_count": null,
            "_view_module": "@jupyter-widgets/controls",
            "_view_module_version": "1.5.0",
            "_view_name": "HBoxView",
            "box_style": "",
            "children": [
              "IPY_MODEL_1a899c21acee41a78ee21b65540ca7e8",
              "IPY_MODEL_adfd55ab3a664e07bb54879d7331c6c7",
              "IPY_MODEL_4c07a483a1f445eda9566795b03a8aec"
            ],
            "layout": "IPY_MODEL_4923c238207d411b85fcc1e5a55bdb27"
          }
        },
        "1a899c21acee41a78ee21b65540ca7e8": {
          "model_module": "@jupyter-widgets/controls",
          "model_name": "HTMLModel",
          "model_module_version": "1.5.0",
          "state": {
            "_dom_classes": [],
            "_model_module": "@jupyter-widgets/controls",
            "_model_module_version": "1.5.0",
            "_model_name": "HTMLModel",
            "_view_count": null,
            "_view_module": "@jupyter-widgets/controls",
            "_view_module_version": "1.5.0",
            "_view_name": "HTMLView",
            "description": "",
            "description_tooltip": null,
            "layout": "IPY_MODEL_9bfbe6cc8ce04923a7ea89cdc385f9ca",
            "placeholder": "​",
            "style": "IPY_MODEL_1eda6a5fa2b54fa7954d163201d73e64",
            "value": "Processing: 100%"
          }
        },
        "adfd55ab3a664e07bb54879d7331c6c7": {
          "model_module": "@jupyter-widgets/controls",
          "model_name": "FloatProgressModel",
          "model_module_version": "1.5.0",
          "state": {
            "_dom_classes": [],
            "_model_module": "@jupyter-widgets/controls",
            "_model_module_version": "1.5.0",
            "_model_name": "FloatProgressModel",
            "_view_count": null,
            "_view_module": "@jupyter-widgets/controls",
            "_view_module_version": "1.5.0",
            "_view_name": "ProgressView",
            "bar_style": "",
            "description": "",
            "description_tooltip": null,
            "layout": "IPY_MODEL_740de9ed1572465e86c83cdd2f85310a",
            "max": 4,
            "min": 0,
            "orientation": "horizontal",
            "style": "IPY_MODEL_2aa68a3ee5514a81b9a1eb7be6456d0d",
            "value": 4
          }
        },
        "4c07a483a1f445eda9566795b03a8aec": {
          "model_module": "@jupyter-widgets/controls",
          "model_name": "HTMLModel",
          "model_module_version": "1.5.0",
          "state": {
            "_dom_classes": [],
            "_model_module": "@jupyter-widgets/controls",
            "_model_module_version": "1.5.0",
            "_model_name": "HTMLModel",
            "_view_count": null,
            "_view_module": "@jupyter-widgets/controls",
            "_view_module_version": "1.5.0",
            "_view_name": "HTMLView",
            "description": "",
            "description_tooltip": null,
            "layout": "IPY_MODEL_eed3cc9e917141cf80cf45b595bc17ba",
            "placeholder": "​",
            "style": "IPY_MODEL_4689a5e46834477ca09726e5ebcc434f",
            "value": " 4/4 [00:10&lt;00:00,  2.42s/it]"
          }
        },
        "4923c238207d411b85fcc1e5a55bdb27": {
          "model_module": "@jupyter-widgets/base",
          "model_name": "LayoutModel",
          "model_module_version": "1.2.0",
          "state": {
            "_model_module": "@jupyter-widgets/base",
            "_model_module_version": "1.2.0",
            "_model_name": "LayoutModel",
            "_view_count": null,
            "_view_module": "@jupyter-widgets/base",
            "_view_module_version": "1.2.0",
            "_view_name": "LayoutView",
            "align_content": null,
            "align_items": null,
            "align_self": null,
            "border": null,
            "bottom": null,
            "display": null,
            "flex": null,
            "flex_flow": null,
            "grid_area": null,
            "grid_auto_columns": null,
            "grid_auto_flow": null,
            "grid_auto_rows": null,
            "grid_column": null,
            "grid_gap": null,
            "grid_row": null,
            "grid_template_areas": null,
            "grid_template_columns": null,
            "grid_template_rows": null,
            "height": null,
            "justify_content": null,
            "justify_items": null,
            "left": null,
            "margin": null,
            "max_height": null,
            "max_width": null,
            "min_height": null,
            "min_width": null,
            "object_fit": null,
            "object_position": null,
            "order": null,
            "overflow": null,
            "overflow_x": null,
            "overflow_y": null,
            "padding": null,
            "right": null,
            "top": null,
            "visibility": "hidden",
            "width": null
          }
        },
        "9bfbe6cc8ce04923a7ea89cdc385f9ca": {
          "model_module": "@jupyter-widgets/base",
          "model_name": "LayoutModel",
          "model_module_version": "1.2.0",
          "state": {
            "_model_module": "@jupyter-widgets/base",
            "_model_module_version": "1.2.0",
            "_model_name": "LayoutModel",
            "_view_count": null,
            "_view_module": "@jupyter-widgets/base",
            "_view_module_version": "1.2.0",
            "_view_name": "LayoutView",
            "align_content": null,
            "align_items": null,
            "align_self": null,
            "border": null,
            "bottom": null,
            "display": null,
            "flex": null,
            "flex_flow": null,
            "grid_area": null,
            "grid_auto_columns": null,
            "grid_auto_flow": null,
            "grid_auto_rows": null,
            "grid_column": null,
            "grid_gap": null,
            "grid_row": null,
            "grid_template_areas": null,
            "grid_template_columns": null,
            "grid_template_rows": null,
            "height": null,
            "justify_content": null,
            "justify_items": null,
            "left": null,
            "margin": null,
            "max_height": null,
            "max_width": null,
            "min_height": null,
            "min_width": null,
            "object_fit": null,
            "object_position": null,
            "order": null,
            "overflow": null,
            "overflow_x": null,
            "overflow_y": null,
            "padding": null,
            "right": null,
            "top": null,
            "visibility": null,
            "width": null
          }
        },
        "1eda6a5fa2b54fa7954d163201d73e64": {
          "model_module": "@jupyter-widgets/controls",
          "model_name": "DescriptionStyleModel",
          "model_module_version": "1.5.0",
          "state": {
            "_model_module": "@jupyter-widgets/controls",
            "_model_module_version": "1.5.0",
            "_model_name": "DescriptionStyleModel",
            "_view_count": null,
            "_view_module": "@jupyter-widgets/base",
            "_view_module_version": "1.2.0",
            "_view_name": "StyleView",
            "description_width": ""
          }
        },
        "740de9ed1572465e86c83cdd2f85310a": {
          "model_module": "@jupyter-widgets/base",
          "model_name": "LayoutModel",
          "model_module_version": "1.2.0",
          "state": {
            "_model_module": "@jupyter-widgets/base",
            "_model_module_version": "1.2.0",
            "_model_name": "LayoutModel",
            "_view_count": null,
            "_view_module": "@jupyter-widgets/base",
            "_view_module_version": "1.2.0",
            "_view_name": "LayoutView",
            "align_content": null,
            "align_items": null,
            "align_self": null,
            "border": null,
            "bottom": null,
            "display": null,
            "flex": null,
            "flex_flow": null,
            "grid_area": null,
            "grid_auto_columns": null,
            "grid_auto_flow": null,
            "grid_auto_rows": null,
            "grid_column": null,
            "grid_gap": null,
            "grid_row": null,
            "grid_template_areas": null,
            "grid_template_columns": null,
            "grid_template_rows": null,
            "height": null,
            "justify_content": null,
            "justify_items": null,
            "left": null,
            "margin": null,
            "max_height": null,
            "max_width": null,
            "min_height": null,
            "min_width": null,
            "object_fit": null,
            "object_position": null,
            "order": null,
            "overflow": null,
            "overflow_x": null,
            "overflow_y": null,
            "padding": null,
            "right": null,
            "top": null,
            "visibility": null,
            "width": null
          }
        },
        "2aa68a3ee5514a81b9a1eb7be6456d0d": {
          "model_module": "@jupyter-widgets/controls",
          "model_name": "ProgressStyleModel",
          "model_module_version": "1.5.0",
          "state": {
            "_model_module": "@jupyter-widgets/controls",
            "_model_module_version": "1.5.0",
            "_model_name": "ProgressStyleModel",
            "_view_count": null,
            "_view_module": "@jupyter-widgets/base",
            "_view_module_version": "1.2.0",
            "_view_name": "StyleView",
            "bar_color": null,
            "description_width": ""
          }
        },
        "eed3cc9e917141cf80cf45b595bc17ba": {
          "model_module": "@jupyter-widgets/base",
          "model_name": "LayoutModel",
          "model_module_version": "1.2.0",
          "state": {
            "_model_module": "@jupyter-widgets/base",
            "_model_module_version": "1.2.0",
            "_model_name": "LayoutModel",
            "_view_count": null,
            "_view_module": "@jupyter-widgets/base",
            "_view_module_version": "1.2.0",
            "_view_name": "LayoutView",
            "align_content": null,
            "align_items": null,
            "align_self": null,
            "border": null,
            "bottom": null,
            "display": null,
            "flex": null,
            "flex_flow": null,
            "grid_area": null,
            "grid_auto_columns": null,
            "grid_auto_flow": null,
            "grid_auto_rows": null,
            "grid_column": null,
            "grid_gap": null,
            "grid_row": null,
            "grid_template_areas": null,
            "grid_template_columns": null,
            "grid_template_rows": null,
            "height": null,
            "justify_content": null,
            "justify_items": null,
            "left": null,
            "margin": null,
            "max_height": null,
            "max_width": null,
            "min_height": null,
            "min_width": null,
            "object_fit": null,
            "object_position": null,
            "order": null,
            "overflow": null,
            "overflow_x": null,
            "overflow_y": null,
            "padding": null,
            "right": null,
            "top": null,
            "visibility": null,
            "width": null
          }
        },
        "4689a5e46834477ca09726e5ebcc434f": {
          "model_module": "@jupyter-widgets/controls",
          "model_name": "DescriptionStyleModel",
          "model_module_version": "1.5.0",
          "state": {
            "_model_module": "@jupyter-widgets/controls",
            "_model_module_version": "1.5.0",
            "_model_name": "DescriptionStyleModel",
            "_view_count": null,
            "_view_module": "@jupyter-widgets/base",
            "_view_module_version": "1.2.0",
            "_view_name": "StyleView",
            "description_width": ""
          }
        },
        "45dfd92cd204446183e0266cb90a4cc5": {
          "model_module": "@jupyter-widgets/controls",
          "model_name": "HBoxModel",
          "model_module_version": "1.5.0",
          "state": {
            "_dom_classes": [],
            "_model_module": "@jupyter-widgets/controls",
            "_model_module_version": "1.5.0",
            "_model_name": "HBoxModel",
            "_view_count": null,
            "_view_module": "@jupyter-widgets/controls",
            "_view_module_version": "1.5.0",
            "_view_name": "HBoxView",
            "box_style": "",
            "children": [
              "IPY_MODEL_37d1c7d091b24c88a48dcb0fb7a47c9c",
              "IPY_MODEL_9202ac4b2f8442febcee0e4f459d6ce8",
              "IPY_MODEL_772b42cfceb644e1b2ac2564a7c4f027"
            ],
            "layout": "IPY_MODEL_58e60c21b09b4a5ea870d3b46a4d14d3"
          }
        },
        "37d1c7d091b24c88a48dcb0fb7a47c9c": {
          "model_module": "@jupyter-widgets/controls",
          "model_name": "HTMLModel",
          "model_module_version": "1.5.0",
          "state": {
            "_dom_classes": [],
            "_model_module": "@jupyter-widgets/controls",
            "_model_module_version": "1.5.0",
            "_model_name": "HTMLModel",
            "_view_count": null,
            "_view_module": "@jupyter-widgets/controls",
            "_view_module_version": "1.5.0",
            "_view_name": "HTMLView",
            "description": "",
            "description_tooltip": null,
            "layout": "IPY_MODEL_7a99994818154bd29d89aeb5f24422a8",
            "placeholder": "​",
            "style": "IPY_MODEL_050490ced9824304852610978db38f8b",
            "value": "Processing: 100%"
          }
        },
        "9202ac4b2f8442febcee0e4f459d6ce8": {
          "model_module": "@jupyter-widgets/controls",
          "model_name": "FloatProgressModel",
          "model_module_version": "1.5.0",
          "state": {
            "_dom_classes": [],
            "_model_module": "@jupyter-widgets/controls",
            "_model_module_version": "1.5.0",
            "_model_name": "FloatProgressModel",
            "_view_count": null,
            "_view_module": "@jupyter-widgets/controls",
            "_view_module_version": "1.5.0",
            "_view_name": "ProgressView",
            "bar_style": "",
            "description": "",
            "description_tooltip": null,
            "layout": "IPY_MODEL_046661852f154e2ca2247270f61df577",
            "max": 4,
            "min": 0,
            "orientation": "horizontal",
            "style": "IPY_MODEL_f0f8881f6a9a4a6593bc650b4b470609",
            "value": 4
          }
        },
        "772b42cfceb644e1b2ac2564a7c4f027": {
          "model_module": "@jupyter-widgets/controls",
          "model_name": "HTMLModel",
          "model_module_version": "1.5.0",
          "state": {
            "_dom_classes": [],
            "_model_module": "@jupyter-widgets/controls",
            "_model_module_version": "1.5.0",
            "_model_name": "HTMLModel",
            "_view_count": null,
            "_view_module": "@jupyter-widgets/controls",
            "_view_module_version": "1.5.0",
            "_view_name": "HTMLView",
            "description": "",
            "description_tooltip": null,
            "layout": "IPY_MODEL_b946595ffa2740f3bac038fbe7e4eec9",
            "placeholder": "​",
            "style": "IPY_MODEL_af40ab4e3eb44ce3b4ef9bda40a28121",
            "value": " 4/4 [00:44&lt;00:00, 13.71s/it]"
          }
        },
        "58e60c21b09b4a5ea870d3b46a4d14d3": {
          "model_module": "@jupyter-widgets/base",
          "model_name": "LayoutModel",
          "model_module_version": "1.2.0",
          "state": {
            "_model_module": "@jupyter-widgets/base",
            "_model_module_version": "1.2.0",
            "_model_name": "LayoutModel",
            "_view_count": null,
            "_view_module": "@jupyter-widgets/base",
            "_view_module_version": "1.2.0",
            "_view_name": "LayoutView",
            "align_content": null,
            "align_items": null,
            "align_self": null,
            "border": null,
            "bottom": null,
            "display": null,
            "flex": null,
            "flex_flow": null,
            "grid_area": null,
            "grid_auto_columns": null,
            "grid_auto_flow": null,
            "grid_auto_rows": null,
            "grid_column": null,
            "grid_gap": null,
            "grid_row": null,
            "grid_template_areas": null,
            "grid_template_columns": null,
            "grid_template_rows": null,
            "height": null,
            "justify_content": null,
            "justify_items": null,
            "left": null,
            "margin": null,
            "max_height": null,
            "max_width": null,
            "min_height": null,
            "min_width": null,
            "object_fit": null,
            "object_position": null,
            "order": null,
            "overflow": null,
            "overflow_x": null,
            "overflow_y": null,
            "padding": null,
            "right": null,
            "top": null,
            "visibility": "hidden",
            "width": null
          }
        },
        "7a99994818154bd29d89aeb5f24422a8": {
          "model_module": "@jupyter-widgets/base",
          "model_name": "LayoutModel",
          "model_module_version": "1.2.0",
          "state": {
            "_model_module": "@jupyter-widgets/base",
            "_model_module_version": "1.2.0",
            "_model_name": "LayoutModel",
            "_view_count": null,
            "_view_module": "@jupyter-widgets/base",
            "_view_module_version": "1.2.0",
            "_view_name": "LayoutView",
            "align_content": null,
            "align_items": null,
            "align_self": null,
            "border": null,
            "bottom": null,
            "display": null,
            "flex": null,
            "flex_flow": null,
            "grid_area": null,
            "grid_auto_columns": null,
            "grid_auto_flow": null,
            "grid_auto_rows": null,
            "grid_column": null,
            "grid_gap": null,
            "grid_row": null,
            "grid_template_areas": null,
            "grid_template_columns": null,
            "grid_template_rows": null,
            "height": null,
            "justify_content": null,
            "justify_items": null,
            "left": null,
            "margin": null,
            "max_height": null,
            "max_width": null,
            "min_height": null,
            "min_width": null,
            "object_fit": null,
            "object_position": null,
            "order": null,
            "overflow": null,
            "overflow_x": null,
            "overflow_y": null,
            "padding": null,
            "right": null,
            "top": null,
            "visibility": null,
            "width": null
          }
        },
        "050490ced9824304852610978db38f8b": {
          "model_module": "@jupyter-widgets/controls",
          "model_name": "DescriptionStyleModel",
          "model_module_version": "1.5.0",
          "state": {
            "_model_module": "@jupyter-widgets/controls",
            "_model_module_version": "1.5.0",
            "_model_name": "DescriptionStyleModel",
            "_view_count": null,
            "_view_module": "@jupyter-widgets/base",
            "_view_module_version": "1.2.0",
            "_view_name": "StyleView",
            "description_width": ""
          }
        },
        "046661852f154e2ca2247270f61df577": {
          "model_module": "@jupyter-widgets/base",
          "model_name": "LayoutModel",
          "model_module_version": "1.2.0",
          "state": {
            "_model_module": "@jupyter-widgets/base",
            "_model_module_version": "1.2.0",
            "_model_name": "LayoutModel",
            "_view_count": null,
            "_view_module": "@jupyter-widgets/base",
            "_view_module_version": "1.2.0",
            "_view_name": "LayoutView",
            "align_content": null,
            "align_items": null,
            "align_self": null,
            "border": null,
            "bottom": null,
            "display": null,
            "flex": null,
            "flex_flow": null,
            "grid_area": null,
            "grid_auto_columns": null,
            "grid_auto_flow": null,
            "grid_auto_rows": null,
            "grid_column": null,
            "grid_gap": null,
            "grid_row": null,
            "grid_template_areas": null,
            "grid_template_columns": null,
            "grid_template_rows": null,
            "height": null,
            "justify_content": null,
            "justify_items": null,
            "left": null,
            "margin": null,
            "max_height": null,
            "max_width": null,
            "min_height": null,
            "min_width": null,
            "object_fit": null,
            "object_position": null,
            "order": null,
            "overflow": null,
            "overflow_x": null,
            "overflow_y": null,
            "padding": null,
            "right": null,
            "top": null,
            "visibility": null,
            "width": null
          }
        },
        "f0f8881f6a9a4a6593bc650b4b470609": {
          "model_module": "@jupyter-widgets/controls",
          "model_name": "ProgressStyleModel",
          "model_module_version": "1.5.0",
          "state": {
            "_model_module": "@jupyter-widgets/controls",
            "_model_module_version": "1.5.0",
            "_model_name": "ProgressStyleModel",
            "_view_count": null,
            "_view_module": "@jupyter-widgets/base",
            "_view_module_version": "1.2.0",
            "_view_name": "StyleView",
            "bar_color": null,
            "description_width": ""
          }
        },
        "b946595ffa2740f3bac038fbe7e4eec9": {
          "model_module": "@jupyter-widgets/base",
          "model_name": "LayoutModel",
          "model_module_version": "1.2.0",
          "state": {
            "_model_module": "@jupyter-widgets/base",
            "_model_module_version": "1.2.0",
            "_model_name": "LayoutModel",
            "_view_count": null,
            "_view_module": "@jupyter-widgets/base",
            "_view_module_version": "1.2.0",
            "_view_name": "LayoutView",
            "align_content": null,
            "align_items": null,
            "align_self": null,
            "border": null,
            "bottom": null,
            "display": null,
            "flex": null,
            "flex_flow": null,
            "grid_area": null,
            "grid_auto_columns": null,
            "grid_auto_flow": null,
            "grid_auto_rows": null,
            "grid_column": null,
            "grid_gap": null,
            "grid_row": null,
            "grid_template_areas": null,
            "grid_template_columns": null,
            "grid_template_rows": null,
            "height": null,
            "justify_content": null,
            "justify_items": null,
            "left": null,
            "margin": null,
            "max_height": null,
            "max_width": null,
            "min_height": null,
            "min_width": null,
            "object_fit": null,
            "object_position": null,
            "order": null,
            "overflow": null,
            "overflow_x": null,
            "overflow_y": null,
            "padding": null,
            "right": null,
            "top": null,
            "visibility": null,
            "width": null
          }
        },
        "af40ab4e3eb44ce3b4ef9bda40a28121": {
          "model_module": "@jupyter-widgets/controls",
          "model_name": "DescriptionStyleModel",
          "model_module_version": "1.5.0",
          "state": {
            "_model_module": "@jupyter-widgets/controls",
            "_model_module_version": "1.5.0",
            "_model_name": "DescriptionStyleModel",
            "_view_count": null,
            "_view_module": "@jupyter-widgets/base",
            "_view_module_version": "1.2.0",
            "_view_name": "StyleView",
            "description_width": ""
          }
        }
      }
    }
  },
  "nbformat": 4,
  "nbformat_minor": 0
}